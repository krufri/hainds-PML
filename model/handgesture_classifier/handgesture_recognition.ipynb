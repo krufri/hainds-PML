{
 "cells": [
  {
   "cell_type": "code",
   "execution_count": 1,
   "metadata": {
    "id": "igMyGnjE9hEp",
    "pycharm": {
     "is_executing": true,
     "name": "#%%\n"
    }
   },
   "outputs": [],
   "source": [
    "import csv\n",
    "\n",
    "import pandas as pd\n",
    "import numpy as np\n",
    "import tensorflow as tf\n",
    "from sklearn.model_selection import train_test_split\n",
    "\n",
    "RANDOM_SEED = 42"
   ]
  },
  {
   "cell_type": "markdown",
   "metadata": {
    "id": "t2HDvhIu9hEr",
    "pycharm": {
     "name": "#%% md\n"
    }
   },
   "source": [
    "# Specify each path"
   ]
  },
  {
   "cell_type": "code",
   "execution_count": 2,
   "metadata": {
    "collapsed": false,
    "pycharm": {
     "name": "#%%\n"
    }
   },
   "outputs": [],
   "source": [
    "dataset = 'handgesture_landmarks.csv'\n",
    "model_save_path = 'handgesture_classifier.hdf5'\n",
    "tflite_save_path = 'handgesture_classifier.tflite'\n",
    "csv_data = \"csv_data.csv\""
   ]
  },
  {
   "cell_type": "markdown",
   "metadata": {
    "collapsed": false,
    "pycharm": {
     "name": "#%% md\n"
    }
   },
   "source": [
    "# Set number of classes"
   ]
  },
  {
   "cell_type": "code",
   "execution_count": 3,
   "metadata": {
    "collapsed": false,
    "pycharm": {
     "name": "#%%\n"
    }
   },
   "outputs": [],
   "source": [
    "NUM_CLASSES = 24"
   ]
  },
  {
   "cell_type": "markdown",
   "metadata": {
    "collapsed": false,
    "pycharm": {
     "name": "#%% md\n"
    }
   },
   "source": [
    "# Dataset reading"
   ]
  },
  {
   "cell_type": "code",
   "execution_count": 4,
   "metadata": {
    "collapsed": false,
    "pycharm": {
     "name": "#%%\n"
    }
   },
   "outputs": [
    {
     "data": {
      "text/html": [
       "<div>\n",
       "<style scoped>\n",
       "    .dataframe tbody tr th:only-of-type {\n",
       "        vertical-align: middle;\n",
       "    }\n",
       "\n",
       "    .dataframe tbody tr th {\n",
       "        vertical-align: top;\n",
       "    }\n",
       "\n",
       "    .dataframe thead th {\n",
       "        text-align: right;\n",
       "    }\n",
       "</style>\n",
       "<table border=\"1\" class=\"dataframe\">\n",
       "  <thead>\n",
       "    <tr style=\"text-align: right;\">\n",
       "      <th></th>\n",
       "      <th>43</th>\n",
       "      <th>44</th>\n",
       "      <th>45</th>\n",
       "      <th>46</th>\n",
       "      <th>47</th>\n",
       "      <th>48</th>\n",
       "      <th>49</th>\n",
       "      <th>50</th>\n",
       "      <th>51</th>\n",
       "      <th>52</th>\n",
       "      <th>...</th>\n",
       "      <th>75</th>\n",
       "      <th>76</th>\n",
       "      <th>77</th>\n",
       "      <th>78</th>\n",
       "      <th>79</th>\n",
       "      <th>80</th>\n",
       "      <th>81</th>\n",
       "      <th>82</th>\n",
       "      <th>83</th>\n",
       "      <th>84</th>\n",
       "    </tr>\n",
       "  </thead>\n",
       "  <tbody>\n",
       "    <tr>\n",
       "      <th>0</th>\n",
       "      <td>0.0</td>\n",
       "      <td>0.0</td>\n",
       "      <td>0.116959</td>\n",
       "      <td>-0.333333</td>\n",
       "      <td>0.292398</td>\n",
       "      <td>-0.578947</td>\n",
       "      <td>0.403509</td>\n",
       "      <td>-0.812865</td>\n",
       "      <td>0.380117</td>\n",
       "      <td>-1.000000</td>\n",
       "      <td>...</td>\n",
       "      <td>0.561404</td>\n",
       "      <td>-0.099415</td>\n",
       "      <td>0.596491</td>\n",
       "      <td>0.152047</td>\n",
       "      <td>0.672515</td>\n",
       "      <td>0.058480</td>\n",
       "      <td>0.590643</td>\n",
       "      <td>0.040936</td>\n",
       "      <td>0.508772</td>\n",
       "      <td>0.052632</td>\n",
       "    </tr>\n",
       "    <tr>\n",
       "      <th>1</th>\n",
       "      <td>0.0</td>\n",
       "      <td>0.0</td>\n",
       "      <td>0.114943</td>\n",
       "      <td>-0.327586</td>\n",
       "      <td>0.293103</td>\n",
       "      <td>-0.580460</td>\n",
       "      <td>0.390805</td>\n",
       "      <td>-0.810345</td>\n",
       "      <td>0.356322</td>\n",
       "      <td>-1.000000</td>\n",
       "      <td>...</td>\n",
       "      <td>0.563218</td>\n",
       "      <td>-0.103448</td>\n",
       "      <td>0.591954</td>\n",
       "      <td>0.143678</td>\n",
       "      <td>0.672414</td>\n",
       "      <td>0.045977</td>\n",
       "      <td>0.597701</td>\n",
       "      <td>0.028736</td>\n",
       "      <td>0.511494</td>\n",
       "      <td>0.045977</td>\n",
       "    </tr>\n",
       "    <tr>\n",
       "      <th>2</th>\n",
       "      <td>0.0</td>\n",
       "      <td>0.0</td>\n",
       "      <td>0.107955</td>\n",
       "      <td>-0.323864</td>\n",
       "      <td>0.284091</td>\n",
       "      <td>-0.579545</td>\n",
       "      <td>0.380682</td>\n",
       "      <td>-0.812500</td>\n",
       "      <td>0.335227</td>\n",
       "      <td>-1.000000</td>\n",
       "      <td>...</td>\n",
       "      <td>0.562500</td>\n",
       "      <td>-0.113636</td>\n",
       "      <td>0.590909</td>\n",
       "      <td>0.136364</td>\n",
       "      <td>0.670455</td>\n",
       "      <td>0.028409</td>\n",
       "      <td>0.596591</td>\n",
       "      <td>0.017045</td>\n",
       "      <td>0.517045</td>\n",
       "      <td>0.039773</td>\n",
       "    </tr>\n",
       "    <tr>\n",
       "      <th>3</th>\n",
       "      <td>0.0</td>\n",
       "      <td>0.0</td>\n",
       "      <td>0.106145</td>\n",
       "      <td>-0.324022</td>\n",
       "      <td>0.268156</td>\n",
       "      <td>-0.586592</td>\n",
       "      <td>0.340782</td>\n",
       "      <td>-0.821229</td>\n",
       "      <td>0.296089</td>\n",
       "      <td>-1.000000</td>\n",
       "      <td>...</td>\n",
       "      <td>0.558659</td>\n",
       "      <td>-0.122905</td>\n",
       "      <td>0.569832</td>\n",
       "      <td>0.122905</td>\n",
       "      <td>0.675978</td>\n",
       "      <td>0.011173</td>\n",
       "      <td>0.597765</td>\n",
       "      <td>-0.005587</td>\n",
       "      <td>0.519553</td>\n",
       "      <td>0.016760</td>\n",
       "    </tr>\n",
       "    <tr>\n",
       "      <th>4</th>\n",
       "      <td>0.0</td>\n",
       "      <td>0.0</td>\n",
       "      <td>0.101124</td>\n",
       "      <td>-0.320225</td>\n",
       "      <td>0.247191</td>\n",
       "      <td>-0.584270</td>\n",
       "      <td>0.320225</td>\n",
       "      <td>-0.820225</td>\n",
       "      <td>0.280899</td>\n",
       "      <td>-1.000000</td>\n",
       "      <td>...</td>\n",
       "      <td>0.573034</td>\n",
       "      <td>-0.129213</td>\n",
       "      <td>0.567416</td>\n",
       "      <td>0.123596</td>\n",
       "      <td>0.702247</td>\n",
       "      <td>0.000000</td>\n",
       "      <td>0.623596</td>\n",
       "      <td>-0.016854</td>\n",
       "      <td>0.544944</td>\n",
       "      <td>0.011236</td>\n",
       "    </tr>\n",
       "    <tr>\n",
       "      <th>...</th>\n",
       "      <td>...</td>\n",
       "      <td>...</td>\n",
       "      <td>...</td>\n",
       "      <td>...</td>\n",
       "      <td>...</td>\n",
       "      <td>...</td>\n",
       "      <td>...</td>\n",
       "      <td>...</td>\n",
       "      <td>...</td>\n",
       "      <td>...</td>\n",
       "      <td>...</td>\n",
       "      <td>...</td>\n",
       "      <td>...</td>\n",
       "      <td>...</td>\n",
       "      <td>...</td>\n",
       "      <td>...</td>\n",
       "      <td>...</td>\n",
       "      <td>...</td>\n",
       "      <td>...</td>\n",
       "      <td>...</td>\n",
       "      <td>...</td>\n",
       "    </tr>\n",
       "    <tr>\n",
       "      <th>33839</th>\n",
       "      <td>0.0</td>\n",
       "      <td>0.0</td>\n",
       "      <td>-0.306931</td>\n",
       "      <td>-0.108911</td>\n",
       "      <td>-0.643564</td>\n",
       "      <td>-0.277228</td>\n",
       "      <td>-0.752475</td>\n",
       "      <td>-0.316832</td>\n",
       "      <td>-0.574257</td>\n",
       "      <td>-0.297030</td>\n",
       "      <td>...</td>\n",
       "      <td>-0.069307</td>\n",
       "      <td>-0.099010</td>\n",
       "      <td>0.653465</td>\n",
       "      <td>-0.613861</td>\n",
       "      <td>0.435644</td>\n",
       "      <td>-0.009901</td>\n",
       "      <td>0.297030</td>\n",
       "      <td>0.089109</td>\n",
       "      <td>0.267327</td>\n",
       "      <td>-0.009901</td>\n",
       "    </tr>\n",
       "    <tr>\n",
       "      <th>33840</th>\n",
       "      <td>0.0</td>\n",
       "      <td>0.0</td>\n",
       "      <td>-0.313043</td>\n",
       "      <td>-0.095652</td>\n",
       "      <td>-0.652174</td>\n",
       "      <td>-0.278261</td>\n",
       "      <td>-0.747826</td>\n",
       "      <td>-0.365217</td>\n",
       "      <td>-0.478261</td>\n",
       "      <td>-0.356522</td>\n",
       "      <td>...</td>\n",
       "      <td>-0.139130</td>\n",
       "      <td>-0.026087</td>\n",
       "      <td>0.539130</td>\n",
       "      <td>-0.643478</td>\n",
       "      <td>0.365217</td>\n",
       "      <td>-0.130435</td>\n",
       "      <td>0.226087</td>\n",
       "      <td>0.026087</td>\n",
       "      <td>0.165217</td>\n",
       "      <td>-0.008696</td>\n",
       "    </tr>\n",
       "    <tr>\n",
       "      <th>33841</th>\n",
       "      <td>0.0</td>\n",
       "      <td>0.0</td>\n",
       "      <td>-0.318966</td>\n",
       "      <td>-0.077586</td>\n",
       "      <td>-0.655172</td>\n",
       "      <td>-0.250000</td>\n",
       "      <td>-0.758621</td>\n",
       "      <td>-0.344828</td>\n",
       "      <td>-0.491379</td>\n",
       "      <td>-0.353448</td>\n",
       "      <td>...</td>\n",
       "      <td>-0.163793</td>\n",
       "      <td>-0.034483</td>\n",
       "      <td>0.525862</td>\n",
       "      <td>-0.629310</td>\n",
       "      <td>0.344828</td>\n",
       "      <td>-0.129310</td>\n",
       "      <td>0.198276</td>\n",
       "      <td>0.025862</td>\n",
       "      <td>0.120690</td>\n",
       "      <td>0.000000</td>\n",
       "    </tr>\n",
       "    <tr>\n",
       "      <th>33842</th>\n",
       "      <td>0.0</td>\n",
       "      <td>0.0</td>\n",
       "      <td>-0.313043</td>\n",
       "      <td>-0.104348</td>\n",
       "      <td>-0.660870</td>\n",
       "      <td>-0.295652</td>\n",
       "      <td>-0.747826</td>\n",
       "      <td>-0.400000</td>\n",
       "      <td>-0.460870</td>\n",
       "      <td>-0.373913</td>\n",
       "      <td>...</td>\n",
       "      <td>-0.156522</td>\n",
       "      <td>-0.043478</td>\n",
       "      <td>0.539130</td>\n",
       "      <td>-0.660870</td>\n",
       "      <td>0.365217</td>\n",
       "      <td>-0.182609</td>\n",
       "      <td>0.200000</td>\n",
       "      <td>-0.008696</td>\n",
       "      <td>0.113043</td>\n",
       "      <td>-0.008696</td>\n",
       "    </tr>\n",
       "    <tr>\n",
       "      <th>33843</th>\n",
       "      <td>0.0</td>\n",
       "      <td>0.0</td>\n",
       "      <td>-0.318966</td>\n",
       "      <td>-0.094828</td>\n",
       "      <td>-0.663793</td>\n",
       "      <td>-0.284483</td>\n",
       "      <td>-0.750000</td>\n",
       "      <td>-0.379310</td>\n",
       "      <td>-0.456897</td>\n",
       "      <td>-0.362069</td>\n",
       "      <td>...</td>\n",
       "      <td>-0.146552</td>\n",
       "      <td>-0.043103</td>\n",
       "      <td>0.543103</td>\n",
       "      <td>-0.646552</td>\n",
       "      <td>0.353448</td>\n",
       "      <td>-0.163793</td>\n",
       "      <td>0.206897</td>\n",
       "      <td>0.000000</td>\n",
       "      <td>0.129310</td>\n",
       "      <td>-0.017241</td>\n",
       "    </tr>\n",
       "  </tbody>\n",
       "</table>\n",
       "<p>33844 rows × 42 columns</p>\n",
       "</div>"
      ],
      "text/plain": [
       "        43   44        45        46        47        48        49        50  \\\n",
       "0      0.0  0.0  0.116959 -0.333333  0.292398 -0.578947  0.403509 -0.812865   \n",
       "1      0.0  0.0  0.114943 -0.327586  0.293103 -0.580460  0.390805 -0.810345   \n",
       "2      0.0  0.0  0.107955 -0.323864  0.284091 -0.579545  0.380682 -0.812500   \n",
       "3      0.0  0.0  0.106145 -0.324022  0.268156 -0.586592  0.340782 -0.821229   \n",
       "4      0.0  0.0  0.101124 -0.320225  0.247191 -0.584270  0.320225 -0.820225   \n",
       "...    ...  ...       ...       ...       ...       ...       ...       ...   \n",
       "33839  0.0  0.0 -0.306931 -0.108911 -0.643564 -0.277228 -0.752475 -0.316832   \n",
       "33840  0.0  0.0 -0.313043 -0.095652 -0.652174 -0.278261 -0.747826 -0.365217   \n",
       "33841  0.0  0.0 -0.318966 -0.077586 -0.655172 -0.250000 -0.758621 -0.344828   \n",
       "33842  0.0  0.0 -0.313043 -0.104348 -0.660870 -0.295652 -0.747826 -0.400000   \n",
       "33843  0.0  0.0 -0.318966 -0.094828 -0.663793 -0.284483 -0.750000 -0.379310   \n",
       "\n",
       "             51        52  ...        75        76        77        78  \\\n",
       "0      0.380117 -1.000000  ...  0.561404 -0.099415  0.596491  0.152047   \n",
       "1      0.356322 -1.000000  ...  0.563218 -0.103448  0.591954  0.143678   \n",
       "2      0.335227 -1.000000  ...  0.562500 -0.113636  0.590909  0.136364   \n",
       "3      0.296089 -1.000000  ...  0.558659 -0.122905  0.569832  0.122905   \n",
       "4      0.280899 -1.000000  ...  0.573034 -0.129213  0.567416  0.123596   \n",
       "...         ...       ...  ...       ...       ...       ...       ...   \n",
       "33839 -0.574257 -0.297030  ... -0.069307 -0.099010  0.653465 -0.613861   \n",
       "33840 -0.478261 -0.356522  ... -0.139130 -0.026087  0.539130 -0.643478   \n",
       "33841 -0.491379 -0.353448  ... -0.163793 -0.034483  0.525862 -0.629310   \n",
       "33842 -0.460870 -0.373913  ... -0.156522 -0.043478  0.539130 -0.660870   \n",
       "33843 -0.456897 -0.362069  ... -0.146552 -0.043103  0.543103 -0.646552   \n",
       "\n",
       "             79        80        81        82        83        84  \n",
       "0      0.672515  0.058480  0.590643  0.040936  0.508772  0.052632  \n",
       "1      0.672414  0.045977  0.597701  0.028736  0.511494  0.045977  \n",
       "2      0.670455  0.028409  0.596591  0.017045  0.517045  0.039773  \n",
       "3      0.675978  0.011173  0.597765 -0.005587  0.519553  0.016760  \n",
       "4      0.702247  0.000000  0.623596 -0.016854  0.544944  0.011236  \n",
       "...         ...       ...       ...       ...       ...       ...  \n",
       "33839  0.435644 -0.009901  0.297030  0.089109  0.267327 -0.009901  \n",
       "33840  0.365217 -0.130435  0.226087  0.026087  0.165217 -0.008696  \n",
       "33841  0.344828 -0.129310  0.198276  0.025862  0.120690  0.000000  \n",
       "33842  0.365217 -0.182609  0.200000 -0.008696  0.113043 -0.008696  \n",
       "33843  0.353448 -0.163793  0.206897  0.000000  0.129310 -0.017241  \n",
       "\n",
       "[33844 rows x 42 columns]"
      ]
     },
     "execution_count": 4,
     "metadata": {},
     "output_type": "execute_result"
    }
   ],
   "source": [
    "data = pd.read_csv(dataset, header = None)\n",
    "data = data.apply(pd.to_numeric, errors='coerce')\n",
    "\n",
    "df_first = data[range(1, 43)]\n",
    "df_second = data[range(43, 85)]\n",
    "distance = data[85]\n",
    "\n",
    "df_second"
   ]
  },
  {
   "cell_type": "code",
   "execution_count": 5,
   "metadata": {
    "collapsed": false,
    "pycharm": {
     "name": "#%%\n"
    }
   },
   "outputs": [
    {
     "data": {
      "text/plain": [
       "(33844, 42)"
      ]
     },
     "execution_count": 5,
     "metadata": {},
     "output_type": "execute_result"
    }
   ],
   "source": [
    "\n",
    "df_second_list = df_second.to_numpy()\n",
    "df_first_list = df_first.to_numpy()\n",
    "distance_list = distance.to_numpy()\n",
    "\n",
    "\n",
    "df_first_list.shape\n"
   ]
  },
  {
   "cell_type": "code",
   "execution_count": 6,
   "metadata": {
    "collapsed": false,
    "pycharm": {
     "name": "#%%\n"
    }
   },
   "outputs": [
    {
     "data": {
      "text/plain": [
       "(33844, 2, 42)"
      ]
     },
     "execution_count": 6,
     "metadata": {},
     "output_type": "execute_result"
    }
   ],
   "source": [
    "X_dataset = np.stack((np.array(df_first_list).reshape(len(df_first_list),42), np.array(df_second_list).reshape(len(df_second_list),42)), axis=1)\n",
    "X_dataset =X_dataset.astype('float32')\n",
    "X_dataset.shape"
   ]
  },
  {
   "cell_type": "code",
   "execution_count": 9,
   "metadata": {
    "id": "QmoKFsp49hE0",
    "pycharm": {
     "name": "#%%\n"
    }
   },
   "outputs": [
    {
     "data": {
      "text/plain": [
       "(33844,)"
      ]
     },
     "execution_count": 9,
     "metadata": {},
     "output_type": "execute_result"
    }
   ],
   "source": [
    "#label colum\n",
    "y_dataset = np.loadtxt(dataset, delimiter=',', dtype='int32', usecols=(0))\n",
    "y_dataset.shape"
   ]
  },
  {
   "cell_type": "code",
   "execution_count": 10,
   "metadata": {
    "id": "xQU7JTZ_9hE0",
    "pycharm": {
     "name": "#%%\n"
    }
   },
   "outputs": [],
   "source": [
    "X_train, X_test, y_train, y_test = train_test_split(X_dataset, y_dataset, train_size=0.75, random_state=RANDOM_SEED)"
   ]
  },
  {
   "cell_type": "markdown",
   "metadata": {
    "id": "mxK_lETT9hE0",
    "pycharm": {
     "name": "#%% md\n"
    }
   },
   "source": [
    "# Model building"
   ]
  },
  {
   "cell_type": "code",
   "execution_count": 11,
   "metadata": {
    "id": "vHBmUf1t9hE1",
    "pycharm": {
     "name": "#%%\n"
    }
   },
   "outputs": [],
   "source": [
    "model = tf.keras.models.Sequential([\n",
    "    tf.keras.layers.Input((2, 42)),\n",
    "    tf.keras.layers.Flatten(),\n",
    "    tf.keras.layers.Dropout(0.2), \n",
    "    tf.keras.layers.Dense(42, activation='relu'),\n",
    "    tf.keras.layers.Dropout(0.4),\n",
    "    tf.keras.layers.Dense(28, activation='relu'),\n",
    "    tf.keras.layers.Dense(NUM_CLASSES, activation='softmax')\n",
    "])"
   ]
  },
  {
   "cell_type": "code",
   "execution_count": 12,
   "metadata": {
    "colab": {
     "base_uri": "https://localhost:8080/"
    },
    "id": "ypqky9tc9hE1",
    "outputId": "5db082bb-30e3-4110-bf63-a1ee777ecd46",
    "pycharm": {
     "name": "#%%\n"
    }
   },
   "outputs": [
    {
     "name": "stdout",
     "output_type": "stream",
     "text": [
      "Model: \"sequential\"\n",
      "_________________________________________________________________\n",
      " Layer (type)                Output Shape              Param #   \n",
      "=================================================================\n",
      " flatten (Flatten)           (None, 84)                0         \n",
      "                                                                 \n",
      " dropout (Dropout)           (None, 84)                0         \n",
      "                                                                 \n",
      " dense (Dense)               (None, 42)                3570      \n",
      "                                                                 \n",
      " dropout_1 (Dropout)         (None, 42)                0         \n",
      "                                                                 \n",
      " dense_1 (Dense)             (None, 28)                1204      \n",
      "                                                                 \n",
      " dense_2 (Dense)             (None, 24)                696       \n",
      "                                                                 \n",
      "=================================================================\n",
      "Total params: 5,470\n",
      "Trainable params: 5,470\n",
      "Non-trainable params: 0\n",
      "_________________________________________________________________\n"
     ]
    }
   ],
   "source": [
    "model.summary()"
   ]
  },
  {
   "cell_type": "code",
   "execution_count": 13,
   "metadata": {
    "id": "MbMjOflQ9hE1",
    "pycharm": {
     "name": "#%%\n"
    }
   },
   "outputs": [],
   "source": [
    "# Model checkpoint callback\n",
    "cp_callback = tf.keras.callbacks.ModelCheckpoint(\n",
    "    model_save_path, verbose=1, save_weights_only=False)\n",
    "# Callback for early stopping\n",
    "es_callback = tf.keras.callbacks.EarlyStopping(patience=20, verbose=1)"
   ]
  },
  {
   "cell_type": "code",
   "execution_count": 14,
   "metadata": {
    "id": "c3Dac0M_9hE2",
    "pycharm": {
     "name": "#%%\n"
    }
   },
   "outputs": [],
   "source": [
    "# Model compilation\n",
    "model.compile(\n",
    "    optimizer='adam',\n",
    "    loss='sparse_categorical_crossentropy',\n",
    "    metrics=['accuracy']\n",
    ")"
   ]
  },
  {
   "cell_type": "markdown",
   "metadata": {
    "id": "7XI0j1Iu9hE2",
    "pycharm": {
     "name": "#%% md\n"
    }
   },
   "source": [
    "# Model training"
   ]
  },
  {
   "cell_type": "code",
   "execution_count": 15,
   "metadata": {
    "colab": {
     "base_uri": "https://localhost:8080/"
    },
    "id": "WirBl-JE9hE3",
    "outputId": "71b30ca2-8294-4d9d-8aa2-800d90d399de",
    "pycharm": {
     "name": "#%%\n"
    },
    "scrolled": true
   },
   "outputs": [
    {
     "name": "stdout",
     "output_type": "stream",
     "text": [
      "Epoch 1/1000\n",
      "199/199 [==============================] - ETA: 0s - loss: 2.7007 - accuracy: 0.2145\n",
      "Epoch 1: saving model to handgesture_classifier.hdf5\n",
      "199/199 [==============================] - 2s 7ms/step - loss: 2.7007 - accuracy: 0.2145 - val_loss: 1.8954 - val_accuracy: 0.5512\n",
      "Epoch 2/1000\n",
      "199/199 [==============================] - ETA: 0s - loss: 1.8713 - accuracy: 0.4323\n",
      "Epoch 2: saving model to handgesture_classifier.hdf5\n",
      "199/199 [==============================] - 1s 6ms/step - loss: 1.8713 - accuracy: 0.4323 - val_loss: 1.2778 - val_accuracy: 0.6889\n",
      "Epoch 3/1000\n",
      "192/199 [===========================>..] - ETA: 0s - loss: 1.5471 - accuracy: 0.5180\n",
      "Epoch 3: saving model to handgesture_classifier.hdf5\n",
      "199/199 [==============================] - 1s 7ms/step - loss: 1.5442 - accuracy: 0.5187 - val_loss: 1.0447 - val_accuracy: 0.7258\n",
      "Epoch 4/1000\n",
      "192/199 [===========================>..] - ETA: 0s - loss: 1.3910 - accuracy: 0.5602\n",
      "Epoch 4: saving model to handgesture_classifier.hdf5\n",
      "199/199 [==============================] - 2s 9ms/step - loss: 1.3909 - accuracy: 0.5600 - val_loss: 0.9416 - val_accuracy: 0.7652\n",
      "Epoch 5/1000\n",
      "199/199 [==============================] - ETA: 0s - loss: 1.3032 - accuracy: 0.5857\n",
      "Epoch 5: saving model to handgesture_classifier.hdf5\n",
      "199/199 [==============================] - 1s 7ms/step - loss: 1.3032 - accuracy: 0.5857 - val_loss: 0.8781 - val_accuracy: 0.7587\n",
      "Epoch 6/1000\n",
      "191/199 [===========================>..] - ETA: 0s - loss: 1.2382 - accuracy: 0.6000\n",
      "Epoch 6: saving model to handgesture_classifier.hdf5\n",
      "199/199 [==============================] - 2s 8ms/step - loss: 1.2336 - accuracy: 0.6019 - val_loss: 0.8347 - val_accuracy: 0.7770\n",
      "Epoch 7/1000\n",
      "190/199 [===========================>..] - ETA: 0s - loss: 1.1712 - accuracy: 0.6301\n",
      "Epoch 7: saving model to handgesture_classifier.hdf5\n",
      "199/199 [==============================] - 1s 7ms/step - loss: 1.1692 - accuracy: 0.6309 - val_loss: 0.7840 - val_accuracy: 0.7909\n",
      "Epoch 8/1000\n",
      "190/199 [===========================>..] - ETA: 0s - loss: 1.1356 - accuracy: 0.6345\n",
      "Epoch 8: saving model to handgesture_classifier.hdf5\n",
      "199/199 [==============================] - 1s 6ms/step - loss: 1.1326 - accuracy: 0.6349 - val_loss: 0.7485 - val_accuracy: 0.8029\n",
      "Epoch 9/1000\n",
      "191/199 [===========================>..] - ETA: 0s - loss: 1.0944 - accuracy: 0.6468\n",
      "Epoch 9: saving model to handgesture_classifier.hdf5\n",
      "199/199 [==============================] - 1s 6ms/step - loss: 1.0955 - accuracy: 0.6464 - val_loss: 0.7261 - val_accuracy: 0.8005\n",
      "Epoch 10/1000\n",
      "190/199 [===========================>..] - ETA: 0s - loss: 1.0656 - accuracy: 0.6507\n",
      "Epoch 10: saving model to handgesture_classifier.hdf5\n",
      "199/199 [==============================] - 1s 6ms/step - loss: 1.0646 - accuracy: 0.6517 - val_loss: 0.7021 - val_accuracy: 0.8068\n",
      "Epoch 11/1000\n",
      "195/199 [============================>.] - ETA: 0s - loss: 1.0419 - accuracy: 0.6575\n",
      "Epoch 11: saving model to handgesture_classifier.hdf5\n",
      "199/199 [==============================] - 1s 7ms/step - loss: 1.0410 - accuracy: 0.6580 - val_loss: 0.6742 - val_accuracy: 0.8135\n",
      "Epoch 12/1000\n",
      "192/199 [===========================>..] - ETA: 0s - loss: 1.0169 - accuracy: 0.6646\n",
      "Epoch 12: saving model to handgesture_classifier.hdf5\n",
      "199/199 [==============================] - 1s 6ms/step - loss: 1.0195 - accuracy: 0.6634 - val_loss: 0.6657 - val_accuracy: 0.8193\n",
      "Epoch 13/1000\n",
      "198/199 [============================>.] - ETA: 0s - loss: 0.9947 - accuracy: 0.6697\n",
      "Epoch 13: saving model to handgesture_classifier.hdf5\n",
      "199/199 [==============================] - 1s 6ms/step - loss: 0.9946 - accuracy: 0.6698 - val_loss: 0.6420 - val_accuracy: 0.8246\n",
      "Epoch 14/1000\n",
      "196/199 [============================>.] - ETA: 0s - loss: 0.9569 - accuracy: 0.6844\n",
      "Epoch 14: saving model to handgesture_classifier.hdf5\n",
      "199/199 [==============================] - 1s 7ms/step - loss: 0.9570 - accuracy: 0.6842 - val_loss: 0.6216 - val_accuracy: 0.8399\n",
      "Epoch 15/1000\n",
      "190/199 [===========================>..] - ETA: 0s - loss: 0.9607 - accuracy: 0.6827\n",
      "Epoch 15: saving model to handgesture_classifier.hdf5\n",
      "199/199 [==============================] - 1s 7ms/step - loss: 0.9598 - accuracy: 0.6833 - val_loss: 0.6228 - val_accuracy: 0.8337\n",
      "Epoch 16/1000\n",
      "193/199 [============================>.] - ETA: 0s - loss: 0.9422 - accuracy: 0.6889\n",
      "Epoch 16: saving model to handgesture_classifier.hdf5\n",
      "199/199 [==============================] - 2s 8ms/step - loss: 0.9410 - accuracy: 0.6892 - val_loss: 0.6036 - val_accuracy: 0.8387\n",
      "Epoch 17/1000\n",
      "190/199 [===========================>..] - ETA: 0s - loss: 0.9179 - accuracy: 0.6961\n",
      "Epoch 17: saving model to handgesture_classifier.hdf5\n",
      "199/199 [==============================] - 1s 7ms/step - loss: 0.9192 - accuracy: 0.6957 - val_loss: 0.5941 - val_accuracy: 0.8395\n",
      "Epoch 18/1000\n",
      "191/199 [===========================>..] - ETA: 0s - loss: 0.9089 - accuracy: 0.6971\n",
      "Epoch 18: saving model to handgesture_classifier.hdf5\n",
      "199/199 [==============================] - 1s 7ms/step - loss: 0.9074 - accuracy: 0.6982 - val_loss: 0.5824 - val_accuracy: 0.8403\n",
      "Epoch 19/1000\n",
      "198/199 [============================>.] - ETA: 0s - loss: 0.8913 - accuracy: 0.7071\n",
      "Epoch 19: saving model to handgesture_classifier.hdf5\n",
      "199/199 [==============================] - 1s 7ms/step - loss: 0.8914 - accuracy: 0.7072 - val_loss: 0.5791 - val_accuracy: 0.8395\n",
      "Epoch 20/1000\n",
      "190/199 [===========================>..] - ETA: 0s - loss: 0.8795 - accuracy: 0.7077\n",
      "Epoch 20: saving model to handgesture_classifier.hdf5\n",
      "199/199 [==============================] - 1s 6ms/step - loss: 0.8770 - accuracy: 0.7077 - val_loss: 0.5658 - val_accuracy: 0.8491\n",
      "Epoch 21/1000\n",
      "191/199 [===========================>..] - ETA: 0s - loss: 0.8672 - accuracy: 0.7143\n",
      "Epoch 21: saving model to handgesture_classifier.hdf5\n",
      "199/199 [==============================] - 1s 6ms/step - loss: 0.8649 - accuracy: 0.7145 - val_loss: 0.5650 - val_accuracy: 0.8445\n",
      "Epoch 22/1000\n",
      "195/199 [============================>.] - ETA: 0s - loss: 0.8642 - accuracy: 0.7133\n",
      "Epoch 22: saving model to handgesture_classifier.hdf5\n",
      "199/199 [==============================] - 1s 7ms/step - loss: 0.8640 - accuracy: 0.7135 - val_loss: 0.5485 - val_accuracy: 0.8550\n",
      "Epoch 23/1000\n",
      "189/199 [===========================>..] - ETA: 0s - loss: 0.8531 - accuracy: 0.7135\n",
      "Epoch 23: saving model to handgesture_classifier.hdf5\n",
      "199/199 [==============================] - 1s 6ms/step - loss: 0.8516 - accuracy: 0.7137 - val_loss: 0.5461 - val_accuracy: 0.8440\n",
      "Epoch 24/1000\n",
      "194/199 [============================>.] - ETA: 0s - loss: 0.8305 - accuracy: 0.7234\n",
      "Epoch 24: saving model to handgesture_classifier.hdf5\n",
      "199/199 [==============================] - 1s 6ms/step - loss: 0.8294 - accuracy: 0.7238 - val_loss: 0.5496 - val_accuracy: 0.8464\n",
      "Epoch 25/1000\n",
      "192/199 [===========================>..] - ETA: 0s - loss: 0.8246 - accuracy: 0.7267\n",
      "Epoch 25: saving model to handgesture_classifier.hdf5\n",
      "199/199 [==============================] - 1s 6ms/step - loss: 0.8235 - accuracy: 0.7268 - val_loss: 0.5390 - val_accuracy: 0.8562\n",
      "Epoch 26/1000\n",
      "194/199 [============================>.] - ETA: 0s - loss: 0.8121 - accuracy: 0.7287\n",
      "Epoch 26: saving model to handgesture_classifier.hdf5\n",
      "199/199 [==============================] - 1s 6ms/step - loss: 0.8135 - accuracy: 0.7288 - val_loss: 0.5276 - val_accuracy: 0.8589\n",
      "Epoch 27/1000\n",
      "190/199 [===========================>..] - ETA: 0s - loss: 0.8143 - accuracy: 0.7289\n",
      "Epoch 27: saving model to handgesture_classifier.hdf5\n",
      "199/199 [==============================] - 1s 6ms/step - loss: 0.8157 - accuracy: 0.7284 - val_loss: 0.5343 - val_accuracy: 0.8545\n",
      "Epoch 28/1000\n",
      "195/199 [============================>.] - ETA: 0s - loss: 0.8028 - accuracy: 0.7334\n",
      "Epoch 28: saving model to handgesture_classifier.hdf5\n",
      "199/199 [==============================] - 1s 6ms/step - loss: 0.8022 - accuracy: 0.7339 - val_loss: 0.5157 - val_accuracy: 0.8565\n",
      "Epoch 29/1000\n",
      "190/199 [===========================>..] - ETA: 0s - loss: 0.7884 - accuracy: 0.7383\n",
      "Epoch 29: saving model to handgesture_classifier.hdf5\n",
      "199/199 [==============================] - 1s 6ms/step - loss: 0.7905 - accuracy: 0.7379 - val_loss: 0.5159 - val_accuracy: 0.8579\n",
      "Epoch 30/1000\n",
      "197/199 [============================>.] - ETA: 0s - loss: 0.7859 - accuracy: 0.7379\n",
      "Epoch 30: saving model to handgesture_classifier.hdf5\n",
      "199/199 [==============================] - 1s 6ms/step - loss: 0.7865 - accuracy: 0.7377 - val_loss: 0.5072 - val_accuracy: 0.8539\n",
      "Epoch 31/1000\n",
      "196/199 [============================>.] - ETA: 0s - loss: 0.7742 - accuracy: 0.7416\n",
      "Epoch 31: saving model to handgesture_classifier.hdf5\n",
      "199/199 [==============================] - 1s 6ms/step - loss: 0.7739 - accuracy: 0.7421 - val_loss: 0.4941 - val_accuracy: 0.8558\n",
      "Epoch 32/1000\n",
      "193/199 [============================>.] - ETA: 0s - loss: 0.7736 - accuracy: 0.7399\n",
      "Epoch 32: saving model to handgesture_classifier.hdf5\n",
      "199/199 [==============================] - 1s 6ms/step - loss: 0.7740 - accuracy: 0.7396 - val_loss: 0.5002 - val_accuracy: 0.8659\n",
      "Epoch 33/1000\n",
      "197/199 [============================>.] - ETA: 0s - loss: 0.7618 - accuracy: 0.7471\n",
      "Epoch 33: saving model to handgesture_classifier.hdf5\n",
      "199/199 [==============================] - 1s 6ms/step - loss: 0.7612 - accuracy: 0.7474 - val_loss: 0.5003 - val_accuracy: 0.8530\n",
      "Epoch 34/1000\n",
      "197/199 [============================>.] - ETA: 0s - loss: 0.7562 - accuracy: 0.7456\n",
      "Epoch 34: saving model to handgesture_classifier.hdf5\n",
      "199/199 [==============================] - 1s 6ms/step - loss: 0.7559 - accuracy: 0.7456 - val_loss: 0.4961 - val_accuracy: 0.8631\n",
      "Epoch 35/1000\n",
      "198/199 [============================>.] - ETA: 0s - loss: 0.7587 - accuracy: 0.7479\n",
      "Epoch 35: saving model to handgesture_classifier.hdf5\n",
      "199/199 [==============================] - 1s 6ms/step - loss: 0.7585 - accuracy: 0.7481 - val_loss: 0.4939 - val_accuracy: 0.8635\n",
      "Epoch 36/1000\n",
      "195/199 [============================>.] - ETA: 0s - loss: 0.7569 - accuracy: 0.7475\n",
      "Epoch 36: saving model to handgesture_classifier.hdf5\n",
      "199/199 [==============================] - 1s 6ms/step - loss: 0.7566 - accuracy: 0.7476 - val_loss: 0.4965 - val_accuracy: 0.8472\n",
      "Epoch 37/1000\n",
      "192/199 [===========================>..] - ETA: 0s - loss: 0.7389 - accuracy: 0.7493\n",
      "Epoch 37: saving model to handgesture_classifier.hdf5\n",
      "199/199 [==============================] - 1s 6ms/step - loss: 0.7412 - accuracy: 0.7487 - val_loss: 0.4859 - val_accuracy: 0.8647\n",
      "Epoch 38/1000\n",
      "192/199 [===========================>..] - ETA: 0s - loss: 0.7428 - accuracy: 0.7533\n",
      "Epoch 38: saving model to handgesture_classifier.hdf5\n",
      "199/199 [==============================] - 1s 6ms/step - loss: 0.7423 - accuracy: 0.7533 - val_loss: 0.4831 - val_accuracy: 0.8662\n",
      "Epoch 39/1000\n",
      "194/199 [============================>.] - ETA: 0s - loss: 0.7261 - accuracy: 0.7557\n",
      "Epoch 39: saving model to handgesture_classifier.hdf5\n",
      "199/199 [==============================] - 1s 6ms/step - loss: 0.7252 - accuracy: 0.7561 - val_loss: 0.4787 - val_accuracy: 0.8603\n",
      "Epoch 40/1000\n",
      "197/199 [============================>.] - ETA: 0s - loss: 0.7274 - accuracy: 0.7560\n",
      "Epoch 40: saving model to handgesture_classifier.hdf5\n",
      "199/199 [==============================] - 1s 6ms/step - loss: 0.7283 - accuracy: 0.7557 - val_loss: 0.4821 - val_accuracy: 0.8682\n",
      "Epoch 41/1000\n",
      "196/199 [============================>.] - ETA: 0s - loss: 0.7186 - accuracy: 0.7583\n",
      "Epoch 41: saving model to handgesture_classifier.hdf5\n",
      "199/199 [==============================] - 1s 6ms/step - loss: 0.7172 - accuracy: 0.7589 - val_loss: 0.4650 - val_accuracy: 0.8740\n",
      "Epoch 42/1000\n",
      "196/199 [============================>.] - ETA: 0s - loss: 0.7102 - accuracy: 0.7630\n",
      "Epoch 42: saving model to handgesture_classifier.hdf5\n",
      "199/199 [==============================] - 1s 6ms/step - loss: 0.7094 - accuracy: 0.7631 - val_loss: 0.4769 - val_accuracy: 0.8595\n",
      "Epoch 43/1000\n",
      "197/199 [============================>.] - ETA: 0s - loss: 0.7215 - accuracy: 0.7625\n",
      "Epoch 43: saving model to handgesture_classifier.hdf5\n",
      "199/199 [==============================] - 1s 6ms/step - loss: 0.7218 - accuracy: 0.7626 - val_loss: 0.4704 - val_accuracy: 0.8591\n",
      "Epoch 44/1000\n",
      "195/199 [============================>.] - ETA: 0s - loss: 0.7083 - accuracy: 0.7645\n",
      "Epoch 44: saving model to handgesture_classifier.hdf5\n",
      "199/199 [==============================] - 1s 6ms/step - loss: 0.7071 - accuracy: 0.7650 - val_loss: 0.4810 - val_accuracy: 0.8602\n",
      "Epoch 45/1000\n",
      "190/199 [===========================>..] - ETA: 0s - loss: 0.7085 - accuracy: 0.7623\n",
      "Epoch 45: saving model to handgesture_classifier.hdf5\n",
      "199/199 [==============================] - 1s 6ms/step - loss: 0.7067 - accuracy: 0.7632 - val_loss: 0.4579 - val_accuracy: 0.8650\n",
      "Epoch 46/1000\n",
      "195/199 [============================>.] - ETA: 0s - loss: 0.6929 - accuracy: 0.7674\n",
      "Epoch 46: saving model to handgesture_classifier.hdf5\n",
      "199/199 [==============================] - 1s 6ms/step - loss: 0.6925 - accuracy: 0.7677 - val_loss: 0.4569 - val_accuracy: 0.8776\n",
      "Epoch 47/1000\n",
      "195/199 [============================>.] - ETA: 0s - loss: 0.6957 - accuracy: 0.7683\n",
      "Epoch 47: saving model to handgesture_classifier.hdf5\n",
      "199/199 [==============================] - 1s 6ms/step - loss: 0.6964 - accuracy: 0.7681 - val_loss: 0.4559 - val_accuracy: 0.8637\n",
      "Epoch 48/1000\n",
      "199/199 [==============================] - ETA: 0s - loss: 0.6911 - accuracy: 0.7654\n",
      "Epoch 48: saving model to handgesture_classifier.hdf5\n",
      "199/199 [==============================] - 1s 6ms/step - loss: 0.6911 - accuracy: 0.7654 - val_loss: 0.4563 - val_accuracy: 0.8778\n",
      "Epoch 49/1000\n",
      "196/199 [============================>.] - ETA: 0s - loss: 0.6882 - accuracy: 0.7692\n",
      "Epoch 49: saving model to handgesture_classifier.hdf5\n",
      "199/199 [==============================] - 1s 6ms/step - loss: 0.6875 - accuracy: 0.7693 - val_loss: 0.4582 - val_accuracy: 0.8694\n",
      "Epoch 50/1000\n",
      "193/199 [============================>.] - ETA: 0s - loss: 0.6875 - accuracy: 0.7713\n",
      "Epoch 50: saving model to handgesture_classifier.hdf5\n",
      "199/199 [==============================] - 1s 6ms/step - loss: 0.6882 - accuracy: 0.7709 - val_loss: 0.4468 - val_accuracy: 0.8787\n",
      "Epoch 51/1000\n",
      "190/199 [===========================>..] - ETA: 0s - loss: 0.6860 - accuracy: 0.7707\n",
      "Epoch 51: saving model to handgesture_classifier.hdf5\n",
      "199/199 [==============================] - 1s 6ms/step - loss: 0.6852 - accuracy: 0.7710 - val_loss: 0.4597 - val_accuracy: 0.8622\n",
      "Epoch 52/1000\n",
      "196/199 [============================>.] - ETA: 0s - loss: 0.6815 - accuracy: 0.7719\n",
      "Epoch 52: saving model to handgesture_classifier.hdf5\n",
      "199/199 [==============================] - 1s 6ms/step - loss: 0.6821 - accuracy: 0.7717 - val_loss: 0.4523 - val_accuracy: 0.8646\n",
      "Epoch 53/1000\n",
      "190/199 [===========================>..] - ETA: 0s - loss: 0.6755 - accuracy: 0.7762\n",
      "Epoch 53: saving model to handgesture_classifier.hdf5\n",
      "199/199 [==============================] - 1s 6ms/step - loss: 0.6780 - accuracy: 0.7753 - val_loss: 0.4474 - val_accuracy: 0.8687\n",
      "Epoch 54/1000\n",
      "197/199 [============================>.] - ETA: 0s - loss: 0.6804 - accuracy: 0.7726\n",
      "Epoch 54: saving model to handgesture_classifier.hdf5\n",
      "199/199 [==============================] - 1s 6ms/step - loss: 0.6797 - accuracy: 0.7726 - val_loss: 0.4483 - val_accuracy: 0.8695\n",
      "Epoch 55/1000\n",
      "194/199 [============================>.] - ETA: 0s - loss: 0.6731 - accuracy: 0.7748\n",
      "Epoch 55: saving model to handgesture_classifier.hdf5\n",
      "199/199 [==============================] - 1s 6ms/step - loss: 0.6719 - accuracy: 0.7752 - val_loss: 0.4440 - val_accuracy: 0.8731\n",
      "Epoch 56/1000\n",
      "196/199 [============================>.] - ETA: 0s - loss: 0.6702 - accuracy: 0.7737\n",
      "Epoch 56: saving model to handgesture_classifier.hdf5\n",
      "199/199 [==============================] - 1s 6ms/step - loss: 0.6719 - accuracy: 0.7733 - val_loss: 0.4414 - val_accuracy: 0.8754\n",
      "Epoch 57/1000\n",
      "189/199 [===========================>..] - ETA: 0s - loss: 0.6624 - accuracy: 0.7805\n",
      "Epoch 57: saving model to handgesture_classifier.hdf5\n",
      "199/199 [==============================] - 1s 6ms/step - loss: 0.6625 - accuracy: 0.7797 - val_loss: 0.4483 - val_accuracy: 0.8764\n",
      "Epoch 58/1000\n",
      "197/199 [============================>.] - ETA: 0s - loss: 0.6639 - accuracy: 0.7775\n",
      "Epoch 58: saving model to handgesture_classifier.hdf5\n",
      "199/199 [==============================] - 1s 6ms/step - loss: 0.6643 - accuracy: 0.7775 - val_loss: 0.4392 - val_accuracy: 0.8726\n",
      "Epoch 59/1000\n",
      "194/199 [============================>.] - ETA: 0s - loss: 0.6572 - accuracy: 0.7806\n",
      "Epoch 59: saving model to handgesture_classifier.hdf5\n",
      "199/199 [==============================] - 1s 6ms/step - loss: 0.6574 - accuracy: 0.7803 - val_loss: 0.4438 - val_accuracy: 0.8683\n",
      "Epoch 60/1000\n",
      "191/199 [===========================>..] - ETA: 0s - loss: 0.6600 - accuracy: 0.7797\n",
      "Epoch 60: saving model to handgesture_classifier.hdf5\n",
      "199/199 [==============================] - 1s 6ms/step - loss: 0.6589 - accuracy: 0.7797 - val_loss: 0.4369 - val_accuracy: 0.8694\n",
      "Epoch 61/1000\n",
      "192/199 [===========================>..] - ETA: 0s - loss: 0.6552 - accuracy: 0.7810\n",
      "Epoch 61: saving model to handgesture_classifier.hdf5\n",
      "199/199 [==============================] - 1s 6ms/step - loss: 0.6549 - accuracy: 0.7806 - val_loss: 0.4359 - val_accuracy: 0.8738\n",
      "Epoch 62/1000\n",
      "199/199 [==============================] - ETA: 0s - loss: 0.6542 - accuracy: 0.7811\n",
      "Epoch 62: saving model to handgesture_classifier.hdf5\n",
      "199/199 [==============================] - 1s 6ms/step - loss: 0.6542 - accuracy: 0.7811 - val_loss: 0.4457 - val_accuracy: 0.8673\n",
      "Epoch 63/1000\n",
      "193/199 [============================>.] - ETA: 0s - loss: 0.6496 - accuracy: 0.7826\n",
      "Epoch 63: saving model to handgesture_classifier.hdf5\n",
      "199/199 [==============================] - 1s 6ms/step - loss: 0.6497 - accuracy: 0.7831 - val_loss: 0.4465 - val_accuracy: 0.8688\n",
      "Epoch 64/1000\n",
      "193/199 [============================>.] - ETA: 0s - loss: 0.6437 - accuracy: 0.7855\n",
      "Epoch 64: saving model to handgesture_classifier.hdf5\n",
      "199/199 [==============================] - 1s 6ms/step - loss: 0.6438 - accuracy: 0.7851 - val_loss: 0.4395 - val_accuracy: 0.8754\n",
      "Epoch 65/1000\n",
      "193/199 [============================>.] - ETA: 0s - loss: 0.6498 - accuracy: 0.7842\n",
      "Epoch 65: saving model to handgesture_classifier.hdf5\n",
      "199/199 [==============================] - 1s 6ms/step - loss: 0.6498 - accuracy: 0.7834 - val_loss: 0.4299 - val_accuracy: 0.8773\n",
      "Epoch 66/1000\n",
      "194/199 [============================>.] - ETA: 0s - loss: 0.6391 - accuracy: 0.7877\n",
      "Epoch 66: saving model to handgesture_classifier.hdf5\n",
      "199/199 [==============================] - 1s 6ms/step - loss: 0.6394 - accuracy: 0.7877 - val_loss: 0.4374 - val_accuracy: 0.8760\n",
      "Epoch 67/1000\n",
      "195/199 [============================>.] - ETA: 0s - loss: 0.6287 - accuracy: 0.7902\n",
      "Epoch 67: saving model to handgesture_classifier.hdf5\n",
      "199/199 [==============================] - 1s 6ms/step - loss: 0.6286 - accuracy: 0.7903 - val_loss: 0.4292 - val_accuracy: 0.8817\n",
      "Epoch 68/1000\n",
      "199/199 [==============================] - ETA: 0s - loss: 0.6271 - accuracy: 0.7902\n",
      "Epoch 68: saving model to handgesture_classifier.hdf5\n",
      "199/199 [==============================] - 1s 6ms/step - loss: 0.6271 - accuracy: 0.7902 - val_loss: 0.4341 - val_accuracy: 0.8791\n",
      "Epoch 69/1000\n",
      "199/199 [==============================] - ETA: 0s - loss: 0.6301 - accuracy: 0.7910\n",
      "Epoch 69: saving model to handgesture_classifier.hdf5\n",
      "199/199 [==============================] - 1s 6ms/step - loss: 0.6301 - accuracy: 0.7910 - val_loss: 0.4210 - val_accuracy: 0.8836\n",
      "Epoch 70/1000\n",
      "198/199 [============================>.] - ETA: 0s - loss: 0.6320 - accuracy: 0.7908\n",
      "Epoch 70: saving model to handgesture_classifier.hdf5\n",
      "199/199 [==============================] - 1s 6ms/step - loss: 0.6320 - accuracy: 0.7908 - val_loss: 0.4289 - val_accuracy: 0.8740\n",
      "Epoch 71/1000\n",
      "193/199 [============================>.] - ETA: 0s - loss: 0.6333 - accuracy: 0.7883\n",
      "Epoch 71: saving model to handgesture_classifier.hdf5\n",
      "199/199 [==============================] - 1s 6ms/step - loss: 0.6346 - accuracy: 0.7878 - val_loss: 0.4282 - val_accuracy: 0.8783\n",
      "Epoch 72/1000\n",
      "195/199 [============================>.] - ETA: 0s - loss: 0.6299 - accuracy: 0.7905\n",
      "Epoch 72: saving model to handgesture_classifier.hdf5\n",
      "199/199 [==============================] - 1s 6ms/step - loss: 0.6291 - accuracy: 0.7905 - val_loss: 0.4235 - val_accuracy: 0.8733\n",
      "Epoch 73/1000\n",
      "192/199 [===========================>..] - ETA: 0s - loss: 0.6252 - accuracy: 0.7924\n",
      "Epoch 73: saving model to handgesture_classifier.hdf5\n",
      "199/199 [==============================] - 1s 6ms/step - loss: 0.6251 - accuracy: 0.7932 - val_loss: 0.4276 - val_accuracy: 0.8740\n",
      "Epoch 74/1000\n",
      "191/199 [===========================>..] - ETA: 0s - loss: 0.6305 - accuracy: 0.7917\n",
      "Epoch 74: saving model to handgesture_classifier.hdf5\n",
      "199/199 [==============================] - 1s 6ms/step - loss: 0.6301 - accuracy: 0.7917 - val_loss: 0.4416 - val_accuracy: 0.8683\n",
      "Epoch 75/1000\n",
      "192/199 [===========================>..] - ETA: 0s - loss: 0.6268 - accuracy: 0.7897\n",
      "Epoch 75: saving model to handgesture_classifier.hdf5\n",
      "199/199 [==============================] - 1s 6ms/step - loss: 0.6247 - accuracy: 0.7902 - val_loss: 0.4257 - val_accuracy: 0.8774\n",
      "Epoch 76/1000\n",
      "193/199 [============================>.] - ETA: 0s - loss: 0.6259 - accuracy: 0.7946\n",
      "Epoch 76: saving model to handgesture_classifier.hdf5\n",
      "199/199 [==============================] - 1s 6ms/step - loss: 0.6249 - accuracy: 0.7950 - val_loss: 0.4420 - val_accuracy: 0.8706\n",
      "Epoch 77/1000\n",
      "189/199 [===========================>..] - ETA: 0s - loss: 0.6234 - accuracy: 0.7948\n",
      "Epoch 77: saving model to handgesture_classifier.hdf5\n",
      "199/199 [==============================] - 1s 6ms/step - loss: 0.6238 - accuracy: 0.7942 - val_loss: 0.4333 - val_accuracy: 0.8725\n",
      "Epoch 78/1000\n",
      "195/199 [============================>.] - ETA: 0s - loss: 0.6189 - accuracy: 0.7921\n",
      "Epoch 78: saving model to handgesture_classifier.hdf5\n",
      "199/199 [==============================] - 1s 6ms/step - loss: 0.6184 - accuracy: 0.7923 - val_loss: 0.4329 - val_accuracy: 0.8716\n",
      "Epoch 79/1000\n",
      "194/199 [============================>.] - ETA: 0s - loss: 0.6152 - accuracy: 0.7941\n",
      "Epoch 79: saving model to handgesture_classifier.hdf5\n",
      "199/199 [==============================] - 1s 6ms/step - loss: 0.6142 - accuracy: 0.7944 - val_loss: 0.4352 - val_accuracy: 0.8802\n",
      "Epoch 80/1000\n",
      "195/199 [============================>.] - ETA: 0s - loss: 0.6144 - accuracy: 0.7976\n",
      "Epoch 80: saving model to handgesture_classifier.hdf5\n",
      "199/199 [==============================] - 1s 6ms/step - loss: 0.6136 - accuracy: 0.7977 - val_loss: 0.4319 - val_accuracy: 0.8796\n",
      "Epoch 81/1000\n",
      "199/199 [==============================] - ETA: 0s - loss: 0.6218 - accuracy: 0.7985\n",
      "Epoch 81: saving model to handgesture_classifier.hdf5\n",
      "199/199 [==============================] - 1s 6ms/step - loss: 0.6218 - accuracy: 0.7985 - val_loss: 0.4270 - val_accuracy: 0.8828\n",
      "Epoch 82/1000\n",
      "199/199 [==============================] - ETA: 0s - loss: 0.6122 - accuracy: 0.7968\n",
      "Epoch 82: saving model to handgesture_classifier.hdf5\n",
      "199/199 [==============================] - 1s 6ms/step - loss: 0.6122 - accuracy: 0.7968 - val_loss: 0.4243 - val_accuracy: 0.8864\n",
      "Epoch 83/1000\n",
      "196/199 [============================>.] - ETA: 0s - loss: 0.6107 - accuracy: 0.7986\n",
      "Epoch 83: saving model to handgesture_classifier.hdf5\n",
      "199/199 [==============================] - 1s 6ms/step - loss: 0.6104 - accuracy: 0.7986 - val_loss: 0.4168 - val_accuracy: 0.8803\n",
      "Epoch 84/1000\n",
      "199/199 [==============================] - ETA: 0s - loss: 0.6138 - accuracy: 0.7972\n",
      "Epoch 84: saving model to handgesture_classifier.hdf5\n",
      "199/199 [==============================] - 1s 6ms/step - loss: 0.6138 - accuracy: 0.7972 - val_loss: 0.4177 - val_accuracy: 0.8850\n",
      "Epoch 85/1000\n",
      "195/199 [============================>.] - ETA: 0s - loss: 0.6041 - accuracy: 0.7986\n",
      "Epoch 85: saving model to handgesture_classifier.hdf5\n",
      "199/199 [==============================] - 1s 6ms/step - loss: 0.6036 - accuracy: 0.7986 - val_loss: 0.4263 - val_accuracy: 0.8806\n",
      "Epoch 86/1000\n",
      "189/199 [===========================>..] - ETA: 0s - loss: 0.6011 - accuracy: 0.8009\n",
      "Epoch 86: saving model to handgesture_classifier.hdf5\n",
      "199/199 [==============================] - 1s 6ms/step - loss: 0.6022 - accuracy: 0.8014 - val_loss: 0.4227 - val_accuracy: 0.8807\n",
      "Epoch 87/1000\n",
      "197/199 [============================>.] - ETA: 0s - loss: 0.6142 - accuracy: 0.7969\n",
      "Epoch 87: saving model to handgesture_classifier.hdf5\n",
      "199/199 [==============================] - 1s 6ms/step - loss: 0.6138 - accuracy: 0.7970 - val_loss: 0.4353 - val_accuracy: 0.8741\n",
      "Epoch 88/1000\n",
      "195/199 [============================>.] - ETA: 0s - loss: 0.6040 - accuracy: 0.8011\n",
      "Epoch 88: saving model to handgesture_classifier.hdf5\n",
      "199/199 [==============================] - 1s 6ms/step - loss: 0.6034 - accuracy: 0.8011 - val_loss: 0.4275 - val_accuracy: 0.8784\n",
      "Epoch 89/1000\n",
      "196/199 [============================>.] - ETA: 0s - loss: 0.6036 - accuracy: 0.8007\n",
      "Epoch 89: saving model to handgesture_classifier.hdf5\n",
      "199/199 [==============================] - 1s 6ms/step - loss: 0.6023 - accuracy: 0.8009 - val_loss: 0.4244 - val_accuracy: 0.8727\n",
      "Epoch 90/1000\n",
      "194/199 [============================>.] - ETA: 0s - loss: 0.6036 - accuracy: 0.8005\n",
      "Epoch 90: saving model to handgesture_classifier.hdf5\n",
      "199/199 [==============================] - 1s 6ms/step - loss: 0.6029 - accuracy: 0.8009 - val_loss: 0.4194 - val_accuracy: 0.8890\n",
      "Epoch 91/1000\n",
      "198/199 [============================>.] - ETA: 0s - loss: 0.5906 - accuracy: 0.8063\n",
      "Epoch 91: saving model to handgesture_classifier.hdf5\n",
      "199/199 [==============================] - 1s 6ms/step - loss: 0.5905 - accuracy: 0.8064 - val_loss: 0.4182 - val_accuracy: 0.8891\n",
      "Epoch 92/1000\n",
      "199/199 [==============================] - ETA: 0s - loss: 0.5917 - accuracy: 0.8038\n",
      "Epoch 92: saving model to handgesture_classifier.hdf5\n",
      "199/199 [==============================] - 1s 6ms/step - loss: 0.5917 - accuracy: 0.8038 - val_loss: 0.4247 - val_accuracy: 0.8823\n",
      "Epoch 93/1000\n",
      "189/199 [===========================>..] - ETA: 0s - loss: 0.5956 - accuracy: 0.8055\n",
      "Epoch 93: saving model to handgesture_classifier.hdf5\n",
      "199/199 [==============================] - 1s 6ms/step - loss: 0.5951 - accuracy: 0.8049 - val_loss: 0.4192 - val_accuracy: 0.8774\n",
      "Epoch 94/1000\n",
      "199/199 [==============================] - ETA: 0s - loss: 0.5946 - accuracy: 0.8036\n",
      "Epoch 94: saving model to handgesture_classifier.hdf5\n",
      "199/199 [==============================] - 1s 6ms/step - loss: 0.5946 - accuracy: 0.8036 - val_loss: 0.4220 - val_accuracy: 0.8763\n",
      "Epoch 95/1000\n",
      "195/199 [============================>.] - ETA: 0s - loss: 0.5949 - accuracy: 0.8065\n",
      "Epoch 95: saving model to handgesture_classifier.hdf5\n",
      "199/199 [==============================] - 1s 6ms/step - loss: 0.5939 - accuracy: 0.8061 - val_loss: 0.4359 - val_accuracy: 0.8672\n",
      "Epoch 96/1000\n",
      "194/199 [============================>.] - ETA: 0s - loss: 0.5879 - accuracy: 0.8089\n",
      "Epoch 96: saving model to handgesture_classifier.hdf5\n",
      "199/199 [==============================] - 1s 6ms/step - loss: 0.5889 - accuracy: 0.8083 - val_loss: 0.4147 - val_accuracy: 0.8854\n",
      "Epoch 97/1000\n",
      "199/199 [==============================] - ETA: 0s - loss: 0.5842 - accuracy: 0.8033\n",
      "Epoch 97: saving model to handgesture_classifier.hdf5\n",
      "199/199 [==============================] - 1s 6ms/step - loss: 0.5842 - accuracy: 0.8033 - val_loss: 0.4250 - val_accuracy: 0.8815\n",
      "Epoch 98/1000\n",
      "196/199 [============================>.] - ETA: 0s - loss: 0.5847 - accuracy: 0.8033\n",
      "Epoch 98: saving model to handgesture_classifier.hdf5\n",
      "199/199 [==============================] - 1s 6ms/step - loss: 0.5857 - accuracy: 0.8037 - val_loss: 0.4083 - val_accuracy: 0.8891\n",
      "Epoch 99/1000\n",
      "196/199 [============================>.] - ETA: 0s - loss: 0.5870 - accuracy: 0.8058\n",
      "Epoch 99: saving model to handgesture_classifier.hdf5\n",
      "199/199 [==============================] - 1s 6ms/step - loss: 0.5866 - accuracy: 0.8059 - val_loss: 0.4100 - val_accuracy: 0.8837\n",
      "Epoch 100/1000\n",
      "198/199 [============================>.] - ETA: 0s - loss: 0.5799 - accuracy: 0.8070\n",
      "Epoch 100: saving model to handgesture_classifier.hdf5\n",
      "199/199 [==============================] - 1s 6ms/step - loss: 0.5796 - accuracy: 0.8072 - val_loss: 0.4345 - val_accuracy: 0.8726\n",
      "Epoch 101/1000\n",
      "194/199 [============================>.] - ETA: 0s - loss: 0.5911 - accuracy: 0.8048\n",
      "Epoch 101: saving model to handgesture_classifier.hdf5\n",
      "199/199 [==============================] - 1s 6ms/step - loss: 0.5910 - accuracy: 0.8050 - val_loss: 0.4273 - val_accuracy: 0.8864\n",
      "Epoch 102/1000\n",
      "199/199 [==============================] - ETA: 0s - loss: 0.5754 - accuracy: 0.8099\n",
      "Epoch 102: saving model to handgesture_classifier.hdf5\n",
      "199/199 [==============================] - 1s 6ms/step - loss: 0.5754 - accuracy: 0.8099 - val_loss: 0.4082 - val_accuracy: 0.8825\n",
      "Epoch 103/1000\n",
      "194/199 [============================>.] - ETA: 0s - loss: 0.5789 - accuracy: 0.8071\n",
      "Epoch 103: saving model to handgesture_classifier.hdf5\n",
      "199/199 [==============================] - 1s 6ms/step - loss: 0.5788 - accuracy: 0.8075 - val_loss: 0.4146 - val_accuracy: 0.8843\n",
      "Epoch 104/1000\n",
      "197/199 [============================>.] - ETA: 0s - loss: 0.5824 - accuracy: 0.8066\n",
      "Epoch 104: saving model to handgesture_classifier.hdf5\n",
      "199/199 [==============================] - 1s 6ms/step - loss: 0.5820 - accuracy: 0.8068 - val_loss: 0.4234 - val_accuracy: 0.8870\n",
      "Epoch 105/1000\n",
      "198/199 [============================>.] - ETA: 0s - loss: 0.5813 - accuracy: 0.8117\n",
      "Epoch 105: saving model to handgesture_classifier.hdf5\n",
      "199/199 [==============================] - 1s 6ms/step - loss: 0.5814 - accuracy: 0.8116 - val_loss: 0.4132 - val_accuracy: 0.8882\n",
      "Epoch 106/1000\n",
      "196/199 [============================>.] - ETA: 0s - loss: 0.5716 - accuracy: 0.8132\n",
      "Epoch 106: saving model to handgesture_classifier.hdf5\n",
      "199/199 [==============================] - 1s 6ms/step - loss: 0.5713 - accuracy: 0.8133 - val_loss: 0.4210 - val_accuracy: 0.8816\n",
      "Epoch 107/1000\n",
      "198/199 [============================>.] - ETA: 0s - loss: 0.5793 - accuracy: 0.8106\n",
      "Epoch 107: saving model to handgesture_classifier.hdf5\n",
      "199/199 [==============================] - 1s 6ms/step - loss: 0.5793 - accuracy: 0.8105 - val_loss: 0.4225 - val_accuracy: 0.8815\n",
      "Epoch 108/1000\n",
      "197/199 [============================>.] - ETA: 0s - loss: 0.5741 - accuracy: 0.8121\n",
      "Epoch 108: saving model to handgesture_classifier.hdf5\n",
      "199/199 [==============================] - 1s 6ms/step - loss: 0.5752 - accuracy: 0.8119 - val_loss: 0.4113 - val_accuracy: 0.8909\n",
      "Epoch 109/1000\n",
      "199/199 [==============================] - ETA: 0s - loss: 0.5698 - accuracy: 0.8133\n",
      "Epoch 109: saving model to handgesture_classifier.hdf5\n",
      "199/199 [==============================] - 1s 6ms/step - loss: 0.5698 - accuracy: 0.8133 - val_loss: 0.4194 - val_accuracy: 0.8803\n",
      "Epoch 110/1000\n",
      "199/199 [==============================] - ETA: 0s - loss: 0.5693 - accuracy: 0.8142\n",
      "Epoch 110: saving model to handgesture_classifier.hdf5\n",
      "199/199 [==============================] - 1s 6ms/step - loss: 0.5693 - accuracy: 0.8142 - val_loss: 0.4049 - val_accuracy: 0.8884\n",
      "Epoch 111/1000\n",
      "191/199 [===========================>..] - ETA: 0s - loss: 0.5737 - accuracy: 0.8121\n",
      "Epoch 111: saving model to handgesture_classifier.hdf5\n",
      "199/199 [==============================] - 1s 6ms/step - loss: 0.5740 - accuracy: 0.8122 - val_loss: 0.4177 - val_accuracy: 0.8826\n",
      "Epoch 112/1000\n",
      "197/199 [============================>.] - ETA: 0s - loss: 0.5642 - accuracy: 0.8131\n",
      "Epoch 112: saving model to handgesture_classifier.hdf5\n",
      "199/199 [==============================] - 1s 6ms/step - loss: 0.5637 - accuracy: 0.8133 - val_loss: 0.4053 - val_accuracy: 0.8924\n",
      "Epoch 113/1000\n",
      "198/199 [============================>.] - ETA: 0s - loss: 0.5648 - accuracy: 0.8123\n",
      "Epoch 113: saving model to handgesture_classifier.hdf5\n",
      "199/199 [==============================] - 1s 6ms/step - loss: 0.5646 - accuracy: 0.8124 - val_loss: 0.4006 - val_accuracy: 0.8939\n",
      "Epoch 114/1000\n",
      "196/199 [============================>.] - ETA: 0s - loss: 0.5715 - accuracy: 0.8115\n",
      "Epoch 114: saving model to handgesture_classifier.hdf5\n",
      "199/199 [==============================] - 1s 6ms/step - loss: 0.5720 - accuracy: 0.8115 - val_loss: 0.3943 - val_accuracy: 0.8901\n",
      "Epoch 115/1000\n",
      "190/199 [===========================>..] - ETA: 0s - loss: 0.5646 - accuracy: 0.8130\n",
      "Epoch 115: saving model to handgesture_classifier.hdf5\n",
      "199/199 [==============================] - 1s 6ms/step - loss: 0.5673 - accuracy: 0.8123 - val_loss: 0.4042 - val_accuracy: 0.8947\n",
      "Epoch 116/1000\n",
      "189/199 [===========================>..] - ETA: 0s - loss: 0.5658 - accuracy: 0.8140\n",
      "Epoch 116: saving model to handgesture_classifier.hdf5\n",
      "199/199 [==============================] - 1s 6ms/step - loss: 0.5654 - accuracy: 0.8144 - val_loss: 0.4077 - val_accuracy: 0.8864\n",
      "Epoch 117/1000\n",
      "193/199 [============================>.] - ETA: 0s - loss: 0.5703 - accuracy: 0.8120\n",
      "Epoch 117: saving model to handgesture_classifier.hdf5\n",
      "199/199 [==============================] - 1s 6ms/step - loss: 0.5686 - accuracy: 0.8122 - val_loss: 0.4098 - val_accuracy: 0.8927\n",
      "Epoch 118/1000\n",
      "193/199 [============================>.] - ETA: 0s - loss: 0.5627 - accuracy: 0.8155\n",
      "Epoch 118: saving model to handgesture_classifier.hdf5\n",
      "199/199 [==============================] - 1s 6ms/step - loss: 0.5633 - accuracy: 0.8149 - val_loss: 0.4051 - val_accuracy: 0.8923\n",
      "Epoch 119/1000\n",
      "194/199 [============================>.] - ETA: 0s - loss: 0.5662 - accuracy: 0.8104\n",
      "Epoch 119: saving model to handgesture_classifier.hdf5\n",
      "199/199 [==============================] - 1s 6ms/step - loss: 0.5670 - accuracy: 0.8100 - val_loss: 0.4203 - val_accuracy: 0.8832\n",
      "Epoch 120/1000\n",
      "193/199 [============================>.] - ETA: 0s - loss: 0.5639 - accuracy: 0.8130\n",
      "Epoch 120: saving model to handgesture_classifier.hdf5\n",
      "199/199 [==============================] - 1s 6ms/step - loss: 0.5635 - accuracy: 0.8138 - val_loss: 0.4219 - val_accuracy: 0.8876\n",
      "Epoch 121/1000\n",
      "194/199 [============================>.] - ETA: 0s - loss: 0.5653 - accuracy: 0.8181\n",
      "Epoch 121: saving model to handgesture_classifier.hdf5\n",
      "199/199 [==============================] - 1s 6ms/step - loss: 0.5649 - accuracy: 0.8179 - val_loss: 0.4179 - val_accuracy: 0.8874\n",
      "Epoch 122/1000\n",
      "194/199 [============================>.] - ETA: 0s - loss: 0.5611 - accuracy: 0.8168\n",
      "Epoch 122: saving model to handgesture_classifier.hdf5\n",
      "199/199 [==============================] - 1s 6ms/step - loss: 0.5617 - accuracy: 0.8166 - val_loss: 0.4149 - val_accuracy: 0.8914\n",
      "Epoch 123/1000\n",
      "196/199 [============================>.] - ETA: 0s - loss: 0.5628 - accuracy: 0.8162\n",
      "Epoch 123: saving model to handgesture_classifier.hdf5\n",
      "199/199 [==============================] - 1s 6ms/step - loss: 0.5623 - accuracy: 0.8165 - val_loss: 0.3959 - val_accuracy: 0.9104\n",
      "Epoch 124/1000\n",
      "194/199 [============================>.] - ETA: 0s - loss: 0.5608 - accuracy: 0.8183\n",
      "Epoch 124: saving model to handgesture_classifier.hdf5\n",
      "199/199 [==============================] - 1s 6ms/step - loss: 0.5606 - accuracy: 0.8185 - val_loss: 0.4233 - val_accuracy: 0.8838\n",
      "Epoch 125/1000\n",
      "196/199 [============================>.] - ETA: 0s - loss: 0.5569 - accuracy: 0.8147\n",
      "Epoch 125: saving model to handgesture_classifier.hdf5\n",
      "199/199 [==============================] - 1s 6ms/step - loss: 0.5577 - accuracy: 0.8147 - val_loss: 0.3980 - val_accuracy: 0.8947\n",
      "Epoch 126/1000\n",
      "196/199 [============================>.] - ETA: 0s - loss: 0.5541 - accuracy: 0.8172\n",
      "Epoch 126: saving model to handgesture_classifier.hdf5\n",
      "199/199 [==============================] - 1s 6ms/step - loss: 0.5527 - accuracy: 0.8175 - val_loss: 0.4122 - val_accuracy: 0.8950\n",
      "Epoch 127/1000\n",
      "195/199 [============================>.] - ETA: 0s - loss: 0.5579 - accuracy: 0.8175\n",
      "Epoch 127: saving model to handgesture_classifier.hdf5\n",
      "199/199 [==============================] - 1s 6ms/step - loss: 0.5577 - accuracy: 0.8177 - val_loss: 0.4207 - val_accuracy: 0.8878\n",
      "Epoch 128/1000\n",
      "195/199 [============================>.] - ETA: 0s - loss: 0.5520 - accuracy: 0.8199\n",
      "Epoch 128: saving model to handgesture_classifier.hdf5\n",
      "199/199 [==============================] - 1s 6ms/step - loss: 0.5523 - accuracy: 0.8198 - val_loss: 0.4115 - val_accuracy: 0.8893\n",
      "Epoch 129/1000\n",
      "196/199 [============================>.] - ETA: 0s - loss: 0.5462 - accuracy: 0.8179\n",
      "Epoch 129: saving model to handgesture_classifier.hdf5\n",
      "199/199 [==============================] - 1s 6ms/step - loss: 0.5467 - accuracy: 0.8177 - val_loss: 0.4277 - val_accuracy: 0.8807\n",
      "Epoch 130/1000\n",
      "199/199 [==============================] - ETA: 0s - loss: 0.5540 - accuracy: 0.8185\n",
      "Epoch 130: saving model to handgesture_classifier.hdf5\n",
      "199/199 [==============================] - 1s 6ms/step - loss: 0.5540 - accuracy: 0.8185 - val_loss: 0.4135 - val_accuracy: 0.8897\n",
      "Epoch 131/1000\n",
      "198/199 [============================>.] - ETA: 0s - loss: 0.5496 - accuracy: 0.8199\n",
      "Epoch 131: saving model to handgesture_classifier.hdf5\n",
      "199/199 [==============================] - 1s 6ms/step - loss: 0.5496 - accuracy: 0.8199 - val_loss: 0.4025 - val_accuracy: 0.8953\n",
      "Epoch 132/1000\n",
      "193/199 [============================>.] - ETA: 0s - loss: 0.5500 - accuracy: 0.8209\n",
      "Epoch 132: saving model to handgesture_classifier.hdf5\n",
      "199/199 [==============================] - 1s 6ms/step - loss: 0.5497 - accuracy: 0.8211 - val_loss: 0.4162 - val_accuracy: 0.8889\n",
      "Epoch 133/1000\n",
      "192/199 [===========================>..] - ETA: 0s - loss: 0.5482 - accuracy: 0.8214\n",
      "Epoch 133: saving model to handgesture_classifier.hdf5\n",
      "199/199 [==============================] - 1s 6ms/step - loss: 0.5494 - accuracy: 0.8206 - val_loss: 0.4137 - val_accuracy: 0.8887\n",
      "Epoch 134/1000\n",
      "196/199 [============================>.] - ETA: 0s - loss: 0.5485 - accuracy: 0.8206\n",
      "Epoch 134: saving model to handgesture_classifier.hdf5\n",
      "199/199 [==============================] - 1s 6ms/step - loss: 0.5500 - accuracy: 0.8206 - val_loss: 0.4131 - val_accuracy: 0.8906\n",
      "Epoch 134: early stopping\n"
     ]
    },
    {
     "data": {
      "text/plain": [
       "<keras.callbacks.History at 0x2852cba90>"
      ]
     },
     "execution_count": 15,
     "metadata": {},
     "output_type": "execute_result"
    }
   ],
   "source": [
    "model.fit(\n",
    "    X_train,\n",
    "    y_train,\n",
    "    epochs=1000,\n",
    "    batch_size=128,\n",
    "    validation_data=(X_test, y_test),\n",
    "    callbacks=[cp_callback, es_callback]\n",
    ")"
   ]
  },
  {
   "cell_type": "code",
   "execution_count": 16,
   "metadata": {
    "colab": {
     "base_uri": "https://localhost:8080/"
    },
    "id": "pxvb2Y299hE3",
    "outputId": "59eb3185-2e37-4b9e-bc9d-ab1b8ac29b7f",
    "pycharm": {
     "name": "#%%\n"
    }
   },
   "outputs": [
    {
     "name": "stdout",
     "output_type": "stream",
     "text": [
      "67/67 [==============================] - 0s 3ms/step - loss: 0.4131 - accuracy: 0.8906\n"
     ]
    }
   ],
   "source": [
    "# Model evaluation\n",
    "val_loss, val_acc = model.evaluate(X_test, y_test, batch_size=128)"
   ]
  },
  {
   "cell_type": "code",
   "execution_count": 17,
   "metadata": {
    "id": "RBkmDeUW9hE4",
    "pycharm": {
     "name": "#%%\n"
    }
   },
   "outputs": [],
   "source": [
    "# Loading the saved model\n",
    "model = tf.keras.models.load_model(model_save_path)"
   ]
  },
  {
   "cell_type": "code",
   "execution_count": 18,
   "metadata": {
    "colab": {
     "base_uri": "https://localhost:8080/"
    },
    "id": "tFz9Tb0I9hE4",
    "outputId": "1c3b3528-54ae-4ee2-ab04-77429211cbef",
    "pycharm": {
     "name": "#%%\n"
    }
   },
   "outputs": [
    {
     "name": "stdout",
     "output_type": "stream",
     "text": [
      "1/1 [==============================] - 0s 55ms/step\n",
      "[2.3197074e-06 7.5672278e-06 1.0500145e-08 1.8150341e-11 2.8743289e-05\n",
      " 9.5661223e-10 1.7801493e-06 9.1216580e-06 1.0726822e-11 9.7336549e-11\n",
      " 9.9189841e-05 6.1551094e-05 2.9344546e-06 1.1728062e-07 1.9258752e-09\n",
      " 2.9433338e-14 7.8612551e-08 5.8661317e-06 7.1931239e-11 2.6134835e-04\n",
      " 9.1153157e-01 8.7987736e-02 9.7886030e-08 1.8956483e-15]\n",
      "20\n"
     ]
    }
   ],
   "source": [
    "# Inference test\n",
    "predict_result = model.predict(np.array([X_test[0]]))\n",
    "print(np.squeeze(predict_result))\n",
    "print(np.argmax(np.squeeze(predict_result)))"
   ]
  },
  {
   "cell_type": "markdown",
   "metadata": {
    "id": "S3U4yNWx9hE4",
    "pycharm": {
     "name": "#%% md\n"
    }
   },
   "source": [
    "# Confusion matrix"
   ]
  },
  {
   "cell_type": "code",
   "execution_count": 19,
   "metadata": {
    "colab": {
     "base_uri": "https://localhost:8080/",
     "height": 582
    },
    "id": "AP1V6SCk9hE5",
    "outputId": "08e41a80-7a4a-4619-8125-ecc371368d19",
    "pycharm": {
     "name": "#%%\n"
    }
   },
   "outputs": [
    {
     "name": "stdout",
     "output_type": "stream",
     "text": [
      "265/265 [==============================] - 0s 1ms/step\n"
     ]
    },
    {
     "data": {
      "image/png": "[encoded data removed]",
      "text/plain": [
       "<Figure size 504x432 with 2 Axes>"
      ]
     },
     "metadata": {
      "needs_background": "light"
     },
     "output_type": "display_data"
    },
    {
     "name": "stdout",
     "output_type": "stream",
     "text": [
      "Classification Report\n",
      "              precision    recall  f1-score   support\n",
      "\n",
      "           0       0.84      0.99      0.91       304\n",
      "           1       0.96      0.96      0.96       419\n",
      "           2       0.82      0.95      0.88       446\n",
      "           3       0.61      0.89      0.72       274\n",
      "           4       0.85      0.96      0.90       406\n",
      "           5       0.98      0.95      0.97       367\n",
      "           6       0.92      0.79      0.85       496\n",
      "           7       0.85      0.87      0.86       323\n",
      "           8       0.95      0.73      0.82       395\n",
      "           9       0.97      0.98      0.98       388\n",
      "          10       0.81      0.19      0.30       183\n",
      "          11       1.00      0.98      0.99       282\n",
      "          12       0.99      0.66      0.79       423\n",
      "          13       0.95      0.98      0.96       473\n",
      "          14       0.79      0.97      0.87       551\n",
      "          15       0.89      0.64      0.74       221\n",
      "          16       1.00      0.67      0.80        97\n",
      "          17       0.79      0.99      0.88       279\n",
      "          18       0.87      0.94      0.90       263\n",
      "          19       0.93      0.93      0.93       379\n",
      "          20       0.90      0.99      0.94       350\n",
      "          21       0.93      0.91      0.92       596\n",
      "          22       0.98      0.97      0.98       543\n",
      "          23       0.00      0.00      0.00         3\n",
      "\n",
      "    accuracy                           0.89      8461\n",
      "   macro avg       0.86      0.83      0.83      8461\n",
      "weighted avg       0.90      0.89      0.88      8461\n",
      "\n"
     ]
    },
    {
     "name": "stderr",
     "output_type": "stream",
     "text": [
      "/Users/marikruse/miniforge3/envs/tensorflow/lib/python3.8/site-packages/sklearn/metrics/_classification.py:1318: UndefinedMetricWarning: Precision and F-score are ill-defined and being set to 0.0 in labels with no predicted samples. Use `zero_division` parameter to control this behavior.\n",
      "  _warn_prf(average, modifier, msg_start, len(result))\n",
      "/Users/marikruse/miniforge3/envs/tensorflow/lib/python3.8/site-packages/sklearn/metrics/_classification.py:1318: UndefinedMetricWarning: Precision and F-score are ill-defined and being set to 0.0 in labels with no predicted samples. Use `zero_division` parameter to control this behavior.\n",
      "  _warn_prf(average, modifier, msg_start, len(result))\n",
      "/Users/marikruse/miniforge3/envs/tensorflow/lib/python3.8/site-packages/sklearn/metrics/_classification.py:1318: UndefinedMetricWarning: Precision and F-score are ill-defined and being set to 0.0 in labels with no predicted samples. Use `zero_division` parameter to control this behavior.\n",
      "  _warn_prf(average, modifier, msg_start, len(result))\n"
     ]
    }
   ],
   "source": [
    "import pandas as pd\n",
    "import seaborn as sns\n",
    "import matplotlib.pyplot as plt\n",
    "from sklearn.metrics import confusion_matrix, classification_report\n",
    "\n",
    "def print_confusion_matrix(y_true, y_pred, report=True):\n",
    "    labels = sorted(list(set(y_true)))\n",
    "    cmx_data = confusion_matrix(y_true, y_pred, labels=labels)\n",
    "    \n",
    "    df_cmx = pd.DataFrame(cmx_data, index=labels, columns=labels)\n",
    " \n",
    "    fig, ax = plt.subplots(figsize=(7, 6))\n",
    "    sns.heatmap(df_cmx, annot=True, fmt='g' ,square=False)\n",
    "    ax.set_ylim(len(set(y_true)), 0)\n",
    "    plt.show()\n",
    "    \n",
    "    if report:\n",
    "        print('Classification Report')\n",
    "        print(classification_report(y_test, y_pred))\n",
    "\n",
    "Y_pred = model.predict(X_test)\n",
    "y_pred = np.argmax(Y_pred, axis=1)\n",
    "\n",
    "print_confusion_matrix(y_test, y_pred)"
   ]
  },
  {
   "cell_type": "markdown",
   "metadata": {
    "id": "FNP6aqzc9hE5",
    "pycharm": {
     "name": "#%% md\n"
    }
   },
   "source": [
    "# Convert to model for Tensorflow-Lite"
   ]
  },
  {
   "cell_type": "code",
   "execution_count": 20,
   "metadata": {
    "id": "ODjnYyld9hE6",
    "pycharm": {
     "name": "#%%\n"
    }
   },
   "outputs": [],
   "source": [
    "# Save as a model dedicated to inference\n",
    "model.save(model_save_path, include_optimizer=False)"
   ]
  },
  {
   "cell_type": "code",
   "execution_count": 21,
   "metadata": {
    "colab": {
     "base_uri": "https://localhost:8080/"
    },
    "id": "zRfuK8Y59hE6",
    "outputId": "a4ca585c-b5d5-4244-8291-8674063209bb",
    "pycharm": {
     "name": "#%%\n"
    }
   },
   "outputs": [
    {
     "name": "stdout",
     "output_type": "stream",
     "text": [
      "INFO:tensorflow:Assets written to: /var/folders/fy/66rzb6257bj8nry5wy4rqrsc0000gn/T/tmpeeyymuco/assets\n"
     ]
    },
    {
     "data": {
      "text/plain": [
       "10184"
      ]
     },
     "execution_count": 21,
     "metadata": {},
     "output_type": "execute_result"
    }
   ],
   "source": [
    "# Transform model (quantization)\n",
    "\n",
    "converter = tf.lite.TFLiteConverter.from_keras_model(model)\n",
    "converter.optimizations = [tf.lite.Optimize.DEFAULT]\n",
    "tflite_quantized_model = converter.convert()\n",
    "\n",
    "open(tflite_save_path, 'wb').write(tflite_quantized_model)"
   ]
  },
  {
   "cell_type": "markdown",
   "metadata": {
    "id": "CHBPBXdx9hE6",
    "pycharm": {
     "name": "#%% md\n"
    }
   },
   "source": [
    "# Inference test"
   ]
  },
  {
   "cell_type": "code",
   "execution_count": 22,
   "metadata": {
    "id": "mGAzLocO9hE7",
    "pycharm": {
     "name": "#%%\n"
    }
   },
   "outputs": [],
   "source": [
    "interpreter = tf.lite.Interpreter(model_path=tflite_save_path)\n",
    "interpreter.allocate_tensors()"
   ]
  },
  {
   "cell_type": "code",
   "execution_count": 23,
   "metadata": {
    "id": "oQuDK8YS9hE7",
    "pycharm": {
     "name": "#%%\n"
    }
   },
   "outputs": [
    {
     "data": {
      "text/plain": [
       "(1, 2, 42)"
      ]
     },
     "execution_count": 23,
     "metadata": {},
     "output_type": "execute_result"
    }
   ],
   "source": [
    "# Get I / O tensor\n",
    "input_details = interpreter.get_input_details()\n",
    "output_details = interpreter.get_output_details()\n",
    "\n",
    "myarr = np.array([X_test[0]])\n",
    "myarr.shape"
   ]
  },
  {
   "cell_type": "code",
   "execution_count": 24,
   "metadata": {
    "id": "2_ixAf_l9hE7",
    "pycharm": {
     "name": "#%%\n"
    }
   },
   "outputs": [],
   "source": [
    "interpreter.set_tensor(input_details[0]['index'], np.array([X_test[0]], dtype='float32'))"
   ]
  },
  {
   "cell_type": "code",
   "execution_count": 25,
   "metadata": {
    "colab": {
     "base_uri": "https://localhost:8080/"
    },
    "id": "s4FoAnuc9hE7",
    "outputId": "91f18257-8d8b-4ef3-c558-e9b5f94fabbf",
    "pycharm": {
     "name": "#%%\n"
    },
    "scrolled": true
   },
   "outputs": [
    {
     "name": "stdout",
     "output_type": "stream",
     "text": [
      "CPU times: user 296 µs, sys: 430 µs, total: 726 µs\n",
      "Wall time: 956 µs\n"
     ]
    }
   ],
   "source": [
    "%%time\n",
    "# Inference implementation\n",
    "interpreter.invoke()\n",
    "tflite_results = interpreter.get_tensor(output_details[0]['index'])"
   ]
  },
  {
   "cell_type": "code",
   "execution_count": 26,
   "metadata": {
    "colab": {
     "base_uri": "https://localhost:8080/"
    },
    "id": "vONjp19J9hE8",
    "outputId": "77205e24-fd00-42c4-f7b6-e06e527c2cba",
    "pycharm": {
     "name": "#%%\n"
    }
   },
   "outputs": [
    {
     "name": "stdout",
     "output_type": "stream",
     "text": [
      "[2.2420031e-06 7.9992669e-06 1.2731845e-08 2.2658955e-11 2.9316276e-05\n",
      " 1.0489918e-09 1.8209045e-06 8.5645543e-06 1.3361582e-11 1.0723609e-10\n",
      " 9.4786737e-05 6.3661144e-05 3.1445365e-06 1.1986457e-07 2.0794557e-09\n",
      " 3.9701176e-14 8.1056946e-08 5.7980910e-06 8.4987822e-11 2.6635369e-04\n",
      " 9.0827078e-01 9.1245241e-02 1.1580130e-07 3.1568535e-15]\n",
      "20\n"
     ]
    }
   ],
   "source": [
    "print(np.squeeze(tflite_results))\n",
    "print(np.argmax(np.squeeze(tflite_results)))"
   ]
  }
 ],
 "metadata": {
  "accelerator": "GPU",
  "colab": {
   "collapsed_sections": [],
   "name": "keypoint_classification_EN.ipynb",
   "provenance": [],
   "toc_visible": true
  },
  "kernelspec": {
   "display_name": "Python 3.8.13 ('tensorflow')",
   "language": "python",
   "name": "python3"
  },
  "language_info": {
   "codemirror_mode": {
    "name": "ipython",
    "version": 3
   },
   "file_extension": ".py",
   "mimetype": "text/x-python",
   "name": "python",
   "nbconvert_exporter": "python",
   "pygments_lexer": "ipython3",
   "version": "3.8.13"
  },
  "vscode": {
   "interpreter": {
    "hash": "94fb4a061a95054450e7e221fffc63454dbab728d456d26eb1957ad229770318"
   }
  }
 },
 "nbformat": 4,
 "nbformat_minor": 1
}
