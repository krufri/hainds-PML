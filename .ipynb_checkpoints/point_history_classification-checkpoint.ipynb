{
 "cells": [
  {
   "cell_type": "code",
   "execution_count": 1,
   "metadata": {
    "pycharm": {
     "name": "#%%\n"
    }
   },
   "outputs": [],
   "source": [
    "import csv\n",
    "\n",
    "import numpy as np\n",
    "import tensorflow as tf\n",
    "from sklearn.model_selection import train_test_split\n",
    "\n",
    "RANDOM_SEED = 42"
   ]
  },
  {
   "cell_type": "markdown",
   "metadata": {
    "pycharm": {
     "name": "#%% md\n"
    }
   },
   "source": [
    "# 各パス指定"
   ]
  },
  {
   "cell_type": "code",
   "execution_count": 2,
   "metadata": {
    "pycharm": {
     "name": "#%%\n"
    }
   },
   "outputs": [],
   "source": [
    "dataset = 'model/point_history_classifier/point_history.csv'\n",
    "model_save_path = 'model/point_history_classifier/point_history_classifier.hdf5'"
   ]
  },
  {
   "cell_type": "markdown",
   "metadata": {
    "pycharm": {
     "name": "#%% md\n"
    }
   },
   "source": [
    "# 分類数設定"
   ]
  },
  {
   "cell_type": "code",
   "execution_count": 3,
   "metadata": {
    "pycharm": {
     "name": "#%%\n"
    }
   },
   "outputs": [],
   "source": [
    "NUM_CLASSES = 4"
   ]
  },
  {
   "cell_type": "markdown",
   "metadata": {
    "pycharm": {
     "name": "#%% md\n"
    }
   },
   "source": [
    "# 入力長"
   ]
  },
  {
   "cell_type": "code",
   "execution_count": 4,
   "metadata": {
    "pycharm": {
     "name": "#%%\n"
    }
   },
   "outputs": [],
   "source": [
    "TIME_STEPS = 16\n",
    "DIMENSION = 2"
   ]
  },
  {
   "cell_type": "markdown",
   "metadata": {
    "pycharm": {
     "name": "#%% md\n"
    }
   },
   "source": [
    "# 学習データ読み込み"
   ]
  },
  {
   "cell_type": "code",
   "execution_count": 5,
   "metadata": {
    "pycharm": {
     "name": "#%%\n"
    }
   },
   "outputs": [],
   "source": [
    "X_dataset = np.loadtxt(dataset, delimiter=',', dtype='float32', usecols=list(range(1, (TIME_STEPS * DIMENSION) + 1)))"
   ]
  },
  {
   "cell_type": "code",
   "execution_count": 6,
   "metadata": {
    "pycharm": {
     "name": "#%%\n"
    }
   },
   "outputs": [],
   "source": [
    "y_dataset = np.loadtxt(dataset, delimiter=',', dtype='int32', usecols=(0))"
   ]
  },
  {
   "cell_type": "code",
   "execution_count": 7,
   "metadata": {
    "pycharm": {
     "name": "#%%\n"
    }
   },
   "outputs": [],
   "source": [
    "X_train, X_test, y_train, y_test = train_test_split(X_dataset, y_dataset, train_size=0.75, random_state=RANDOM_SEED)"
   ]
  },
  {
   "cell_type": "markdown",
   "metadata": {
    "pycharm": {
     "name": "#%% md\n"
    }
   },
   "source": [
    "# モデル構築"
   ]
  },
  {
   "cell_type": "code",
   "execution_count": 8,
   "metadata": {
    "pycharm": {
     "name": "#%%\n"
    }
   },
   "outputs": [],
   "source": [
    "model = tf.keras.models.Sequential([\n",
    "        tf.keras.layers.InputLayer(input_shape=(TIME_STEPS * DIMENSION, )),\n",
    "        tf.keras.layers.Reshape((TIME_STEPS, DIMENSION), input_shape=(TIME_STEPS * DIMENSION, )),\n",
    "        tf.keras.layers.Dropout(0.2),\n",
    "        tf.keras.layers.LSTM(16, input_shape=[TIME_STEPS, DIMENSION], return_sequences=True),\n",
    "        tf.keras.layers.LSTM(32, return_sequences=True, activation='relu'),\n",
    "        tf.keras.layers.LSTM(16, return_sequences=False, activation='relu'),\n",
    "        tf.keras.layers.Dropout(0.2),\n",
    "        tf.keras.layers.Dense(24, activation='relu'),\n",
    "        tf.keras.layers.Dense(12, activation='relu'),\n",
    "        tf.keras.layers.Dense(NUM_CLASSES, activation='softmax')\n",
    "    ])"
   ]
  },
  {
   "cell_type": "code",
   "execution_count": 9,
   "metadata": {
    "pycharm": {
     "name": "#%%\n"
    }
   },
   "outputs": [
    {
     "name": "stdout",
     "output_type": "stream",
     "text": [
      "Model: \"sequential\"\n",
      "_________________________________________________________________\n",
      " Layer (type)                Output Shape              Param #   \n",
      "=================================================================\n",
      " reshape (Reshape)           (None, 16, 2)             0         \n",
      "                                                                 \n",
      " dropout (Dropout)           (None, 16, 2)             0         \n",
      "                                                                 \n",
      " lstm (LSTM)                 (None, 16, 16)            1216      \n",
      "                                                                 \n",
      " lstm_1 (LSTM)               (None, 16, 32)            6272      \n",
      "                                                                 \n",
      " lstm_2 (LSTM)               (None, 16)                3136      \n",
      "                                                                 \n",
      " dropout_1 (Dropout)         (None, 16)                0         \n",
      "                                                                 \n",
      " dense (Dense)               (None, 24)                408       \n",
      "                                                                 \n",
      " dense_1 (Dense)             (None, 12)                300       \n",
      "                                                                 \n",
      " dense_2 (Dense)             (None, 4)                 52        \n",
      "                                                                 \n",
      "=================================================================\n",
      "Total params: 11,384\n",
      "Trainable params: 11,384\n",
      "Non-trainable params: 0\n",
      "_________________________________________________________________\n"
     ]
    }
   ],
   "source": [
    "model.summary()  # tf.keras.utils.plot_model(model, show_shapes=True)"
   ]
  },
  {
   "cell_type": "code",
   "execution_count": 10,
   "metadata": {
    "pycharm": {
     "name": "#%%\n"
    }
   },
   "outputs": [],
   "source": [
    "# モデルチェックポイントのコールバック\n",
    "cp_callback = tf.keras.callbacks.ModelCheckpoint(\n",
    "    model_save_path, verbose=1, save_weights_only=False)\n",
    "# 早期打ち切り用コールバック\n",
    "es_callback = tf.keras.callbacks.EarlyStopping(patience=20, verbose=1)"
   ]
  },
  {
   "cell_type": "code",
   "execution_count": 11,
   "metadata": {
    "pycharm": {
     "name": "#%%\n"
    }
   },
   "outputs": [],
   "source": [
    "# モデルコンパイル\n",
    "model.compile(\n",
    "    optimizer='adam',\n",
    "    loss='sparse_categorical_crossentropy',\n",
    "    metrics=['accuracy']\n",
    ")"
   ]
  },
  {
   "cell_type": "markdown",
   "metadata": {
    "pycharm": {
     "name": "#%% md\n"
    }
   },
   "source": [
    "# モデル訓練"
   ]
  },
  {
   "cell_type": "code",
   "execution_count": null,
   "metadata": {
    "pycharm": {
     "name": "#%%\n"
    },
    "scrolled": true
   },
   "outputs": [
    {
     "name": "stdout",
     "output_type": "stream",
     "text": [
      "Epoch 1/1000\n",
      "13/14 [==========================>...] - ETA: 0s - loss: 1.3636 - accuracy: 0.7001\n",
      "Epoch 1: saving model to model/point_history_classifier\\point_history_classifier.hdf5\n",
      "14/14 [==============================] - 6s 96ms/step - loss: 1.3633 - accuracy: 0.7001 - val_loss: 1.3306 - val_accuracy: 0.6993\n",
      "Epoch 2/1000\n",
      "13/14 [==========================>...] - ETA: 0s - loss: 1.2894 - accuracy: 0.7314\n",
      "Epoch 2: saving model to model/point_history_classifier\\point_history_classifier.hdf5\n",
      "14/14 [==============================] - 0s 28ms/step - loss: 1.2881 - accuracy: 0.7328 - val_loss: 1.2267 - val_accuracy: 0.6957\n",
      "Epoch 3/1000\n",
      "13/14 [==========================>...] - ETA: 0s - loss: 1.1177 - accuracy: 0.7308\n",
      "Epoch 3: saving model to model/point_history_classifier\\point_history_classifier.hdf5\n",
      "14/14 [==============================] - 0s 29ms/step - loss: 1.1164 - accuracy: 0.7298 - val_loss: 0.9370 - val_accuracy: 0.6886\n",
      "Epoch 4/1000\n",
      "13/14 [==========================>...] - ETA: 0s - loss: 0.9198 - accuracy: 0.7458\n",
      "Epoch 4: saving model to model/point_history_classifier\\point_history_classifier.hdf5\n",
      "14/14 [==============================] - 0s 28ms/step - loss: 0.9237 - accuracy: 0.7429 - val_loss: 0.8034 - val_accuracy: 0.7598\n",
      "Epoch 5/1000\n",
      "13/14 [==========================>...] - ETA: 0s - loss: 0.7552 - accuracy: 0.7921\n",
      "Epoch 5: saving model to model/point_history_classifier\\point_history_classifier.hdf5\n",
      "14/14 [==============================] - 0s 27ms/step - loss: 0.7593 - accuracy: 0.7910 - val_loss: 0.5901 - val_accuracy: 0.8149\n",
      "Epoch 6/1000\n",
      "13/14 [==========================>...] - ETA: 0s - loss: 0.6009 - accuracy: 0.8161\n",
      "Epoch 6: saving model to model/point_history_classifier\\point_history_classifier.hdf5\n",
      "14/14 [==============================] - 0s 27ms/step - loss: 0.6012 - accuracy: 0.8153 - val_loss: 0.4363 - val_accuracy: 0.8274\n",
      "Epoch 7/1000\n",
      "13/14 [==========================>...] - ETA: 0s - loss: 0.4488 - accuracy: 0.8305\n",
      "Epoch 7: saving model to model/point_history_classifier\\point_history_classifier.hdf5\n",
      "14/14 [==============================] - 0s 26ms/step - loss: 0.4490 - accuracy: 0.8296 - val_loss: 0.3555 - val_accuracy: 0.8327\n",
      "Epoch 8/1000\n",
      "13/14 [==========================>...] - ETA: 0s - loss: 0.3588 - accuracy: 0.8347\n",
      "Epoch 8: saving model to model/point_history_classifier\\point_history_classifier.hdf5\n",
      "14/14 [==============================] - 0s 27ms/step - loss: 0.3568 - accuracy: 0.8361 - val_loss: 0.3056 - val_accuracy: 0.8345\n",
      "Epoch 9/1000\n",
      "13/14 [==========================>...] - ETA: 0s - loss: 0.3467 - accuracy: 0.8347\n",
      "Epoch 9: saving model to model/point_history_classifier\\point_history_classifier.hdf5\n",
      "14/14 [==============================] - 0s 27ms/step - loss: 0.3464 - accuracy: 0.8343 - val_loss: 0.4783 - val_accuracy: 0.8399\n",
      "Epoch 10/1000\n",
      "13/14 [==========================>...] - ETA: 0s - loss: 0.3954 - accuracy: 0.8576\n",
      "Epoch 10: saving model to model/point_history_classifier\\point_history_classifier.hdf5\n",
      "14/14 [==============================] - 0s 26ms/step - loss: 0.3952 - accuracy: 0.8563 - val_loss: 0.2989 - val_accuracy: 0.8452\n",
      "Epoch 11/1000\n",
      "13/14 [==========================>...] - ETA: 0s - loss: 0.2879 - accuracy: 0.8522\n",
      "Epoch 11: saving model to model/point_history_classifier\\point_history_classifier.hdf5\n",
      "14/14 [==============================] - 0s 26ms/step - loss: 0.2871 - accuracy: 0.8527 - val_loss: 0.2777 - val_accuracy: 0.8470\n",
      "Epoch 12/1000\n",
      "13/14 [==========================>...] - ETA: 0s - loss: 0.2687 - accuracy: 0.8474\n",
      "Epoch 12: saving model to model/point_history_classifier\\point_history_classifier.hdf5\n",
      "14/14 [==============================] - 0s 28ms/step - loss: 0.2682 - accuracy: 0.8480 - val_loss: 0.2634 - val_accuracy: 0.8559\n",
      "Epoch 13/1000\n",
      "13/14 [==========================>...] - ETA: 0s - loss: 0.2701 - accuracy: 0.8474\n",
      "Epoch 13: saving model to model/point_history_classifier\\point_history_classifier.hdf5\n",
      "14/14 [==============================] - 0s 27ms/step - loss: 0.2693 - accuracy: 0.8486 - val_loss: 0.2584 - val_accuracy: 0.8808\n",
      "Epoch 14/1000\n",
      "13/14 [==========================>...] - ETA: 0s - loss: 0.2803 - accuracy: 0.8582\n",
      "Epoch 14: saving model to model/point_history_classifier\\point_history_classifier.hdf5\n",
      "14/14 [==============================] - 0s 27ms/step - loss: 0.2797 - accuracy: 0.8587 - val_loss: 0.2610 - val_accuracy: 0.8683\n",
      "Epoch 15/1000\n",
      "13/14 [==========================>...] - ETA: 0s - loss: 0.2613 - accuracy: 0.8576\n",
      "Epoch 15: saving model to model/point_history_classifier\\point_history_classifier.hdf5\n",
      "14/14 [==============================] - 0s 27ms/step - loss: 0.2626 - accuracy: 0.8563 - val_loss: 0.2725 - val_accuracy: 0.8612\n",
      "Epoch 16/1000\n",
      "13/14 [==========================>...] - ETA: 0s - loss: 0.2746 - accuracy: 0.8540\n",
      "Epoch 16: saving model to model/point_history_classifier\\point_history_classifier.hdf5\n",
      "14/14 [==============================] - 0s 26ms/step - loss: 0.2727 - accuracy: 0.8557 - val_loss: 0.3689 - val_accuracy: 0.8488\n",
      "Epoch 17/1000\n",
      "13/14 [==========================>...] - ETA: 0s - loss: 0.3163 - accuracy: 0.8570\n",
      "Epoch 17: saving model to model/point_history_classifier\\point_history_classifier.hdf5\n",
      "14/14 [==============================] - 0s 28ms/step - loss: 0.3167 - accuracy: 0.8563 - val_loss: 0.2572 - val_accuracy: 0.8648\n",
      "Epoch 18/1000\n",
      "13/14 [==========================>...] - ETA: 0s - loss: 0.2601 - accuracy: 0.8600\n",
      "Epoch 18: saving model to model/point_history_classifier\\point_history_classifier.hdf5\n",
      "14/14 [==============================] - 0s 27ms/step - loss: 0.2593 - accuracy: 0.8599 - val_loss: 0.2382 - val_accuracy: 0.8612\n",
      "Epoch 19/1000\n",
      "13/14 [==========================>...] - ETA: 0s - loss: 0.2487 - accuracy: 0.8612\n",
      "Epoch 19: saving model to model/point_history_classifier\\point_history_classifier.hdf5\n",
      "14/14 [==============================] - 0s 28ms/step - loss: 0.2494 - accuracy: 0.8605 - val_loss: 0.2398 - val_accuracy: 0.9075\n",
      "Epoch 20/1000\n",
      "13/14 [==========================>...] - ETA: 0s - loss: 0.2467 - accuracy: 0.8702\n",
      "Epoch 20: saving model to model/point_history_classifier\\point_history_classifier.hdf5\n",
      "14/14 [==============================] - 0s 29ms/step - loss: 0.2463 - accuracy: 0.8700 - val_loss: 0.2376 - val_accuracy: 0.8683\n",
      "Epoch 21/1000\n",
      "13/14 [==========================>...] - ETA: 0s - loss: 0.2368 - accuracy: 0.8840\n",
      "Epoch 21: saving model to model/point_history_classifier\\point_history_classifier.hdf5\n",
      "14/14 [==============================] - 0s 28ms/step - loss: 0.2365 - accuracy: 0.8848 - val_loss: 0.2376 - val_accuracy: 0.9075\n",
      "Epoch 22/1000\n",
      "13/14 [==========================>...] - ETA: 0s - loss: 0.2256 - accuracy: 0.8882\n",
      "Epoch 22: saving model to model/point_history_classifier\\point_history_classifier.hdf5\n",
      "14/14 [==============================] - 0s 27ms/step - loss: 0.2264 - accuracy: 0.8878 - val_loss: 0.2242 - val_accuracy: 0.8701\n",
      "Epoch 23/1000\n",
      "13/14 [==========================>...] - ETA: 0s - loss: 0.2403 - accuracy: 0.8858\n",
      "Epoch 23: saving model to model/point_history_classifier\\point_history_classifier.hdf5\n",
      "14/14 [==============================] - 0s 26ms/step - loss: 0.2388 - accuracy: 0.8872 - val_loss: 0.2418 - val_accuracy: 0.8986\n",
      "Epoch 24/1000\n",
      "13/14 [==========================>...] - ETA: 0s - loss: 0.2339 - accuracy: 0.8966\n",
      "Epoch 24: saving model to model/point_history_classifier\\point_history_classifier.hdf5\n",
      "14/14 [==============================] - 0s 27ms/step - loss: 0.2323 - accuracy: 0.8973 - val_loss: 0.2184 - val_accuracy: 0.9075\n",
      "Epoch 25/1000\n",
      "12/14 [========================>.....] - ETA: 0s - loss: 0.2273 - accuracy: 0.8932\n",
      "Epoch 25: saving model to model/point_history_classifier\\point_history_classifier.hdf5\n",
      "14/14 [==============================] - 0s 30ms/step - loss: 0.2243 - accuracy: 0.8931 - val_loss: 0.2250 - val_accuracy: 0.8932\n",
      "Epoch 26/1000\n",
      "13/14 [==========================>...] - ETA: 0s - loss: 0.2323 - accuracy: 0.8858\n",
      "Epoch 26: saving model to model/point_history_classifier\\point_history_classifier.hdf5\n",
      "14/14 [==============================] - 0s 31ms/step - loss: 0.2328 - accuracy: 0.8854 - val_loss: 0.2116 - val_accuracy: 0.9075\n",
      "Epoch 27/1000\n"
     ]
    },
    {
     "name": "stdout",
     "output_type": "stream",
     "text": [
      "13/14 [==========================>...] - ETA: 0s - loss: 0.2325 - accuracy: 0.8900\n",
      "Epoch 27: saving model to model/point_history_classifier\\point_history_classifier.hdf5\n",
      "14/14 [==============================] - 0s 31ms/step - loss: 0.2320 - accuracy: 0.8895 - val_loss: 0.2118 - val_accuracy: 0.9181\n",
      "Epoch 28/1000\n",
      "13/14 [==========================>...] - ETA: 0s - loss: 0.2192 - accuracy: 0.8924\n",
      "Epoch 28: saving model to model/point_history_classifier\\point_history_classifier.hdf5\n",
      "14/14 [==============================] - 0s 30ms/step - loss: 0.2188 - accuracy: 0.8925 - val_loss: 0.2093 - val_accuracy: 0.9181\n",
      "Epoch 29/1000\n",
      "13/14 [==========================>...] - ETA: 0s - loss: 0.2313 - accuracy: 0.8948\n",
      "Epoch 29: saving model to model/point_history_classifier\\point_history_classifier.hdf5\n",
      "14/14 [==============================] - 0s 28ms/step - loss: 0.2308 - accuracy: 0.8955 - val_loss: 0.2637 - val_accuracy: 0.9039\n",
      "Epoch 30/1000\n",
      "13/14 [==========================>...] - ETA: 0s - loss: 0.2670 - accuracy: 0.8846\n",
      "Epoch 30: saving model to model/point_history_classifier\\point_history_classifier.hdf5\n",
      "14/14 [==============================] - 0s 28ms/step - loss: 0.2667 - accuracy: 0.8842 - val_loss: 0.2276 - val_accuracy: 0.9181\n",
      "Epoch 31/1000\n",
      "13/14 [==========================>...] - ETA: 0s - loss: 0.2219 - accuracy: 0.8990\n",
      "Epoch 31: saving model to model/point_history_classifier\\point_history_classifier.hdf5\n",
      "14/14 [==============================] - 0s 27ms/step - loss: 0.2225 - accuracy: 0.8979 - val_loss: 0.1999 - val_accuracy: 0.9146\n",
      "Epoch 32/1000\n",
      "13/14 [==========================>...] - ETA: 0s - loss: 0.2087 - accuracy: 0.9050\n",
      "Epoch 32: saving model to model/point_history_classifier\\point_history_classifier.hdf5\n",
      "14/14 [==============================] - 0s 27ms/step - loss: 0.2089 - accuracy: 0.9050 - val_loss: 0.2131 - val_accuracy: 0.9199\n",
      "Epoch 33/1000\n",
      "13/14 [==========================>...] - ETA: 0s - loss: 0.2611 - accuracy: 0.8960\n",
      "Epoch 33: saving model to model/point_history_classifier\\point_history_classifier.hdf5\n",
      "14/14 [==============================] - 0s 28ms/step - loss: 0.2606 - accuracy: 0.8955 - val_loss: 0.2699 - val_accuracy: 0.9004\n",
      "Epoch 34/1000\n",
      "13/14 [==========================>...] - ETA: 0s - loss: 0.2590 - accuracy: 0.9014\n",
      "Epoch 34: saving model to model/point_history_classifier\\point_history_classifier.hdf5\n",
      "14/14 [==============================] - 0s 28ms/step - loss: 0.2603 - accuracy: 0.9008 - val_loss: 0.2318 - val_accuracy: 0.9199\n",
      "Epoch 35/1000\n",
      "13/14 [==========================>...] - ETA: 0s - loss: 0.2297 - accuracy: 0.9008\n",
      "Epoch 35: saving model to model/point_history_classifier\\point_history_classifier.hdf5\n",
      "14/14 [==============================] - 0s 27ms/step - loss: 0.2281 - accuracy: 0.9020 - val_loss: 0.2053 - val_accuracy: 0.9217\n",
      "Epoch 36/1000\n",
      "13/14 [==========================>...] - ETA: 0s - loss: 0.1959 - accuracy: 0.9099\n",
      "Epoch 36: saving model to model/point_history_classifier\\point_history_classifier.hdf5\n",
      "14/14 [==============================] - 0s 26ms/step - loss: 0.1970 - accuracy: 0.9091 - val_loss: 0.2181 - val_accuracy: 0.8986\n",
      "Epoch 37/1000\n",
      "13/14 [==========================>...] - ETA: 0s - loss: 0.2010 - accuracy: 0.9105\n",
      "Epoch 37: saving model to model/point_history_classifier\\point_history_classifier.hdf5\n",
      "14/14 [==============================] - 0s 28ms/step - loss: 0.2008 - accuracy: 0.9109 - val_loss: 0.2120 - val_accuracy: 0.9164\n",
      "Epoch 38/1000\n",
      "13/14 [==========================>...] - ETA: 0s - loss: 0.1949 - accuracy: 0.9081\n",
      "Epoch 38: saving model to model/point_history_classifier\\point_history_classifier.hdf5\n",
      "14/14 [==============================] - 0s 28ms/step - loss: 0.1955 - accuracy: 0.9080 - val_loss: 0.1944 - val_accuracy: 0.9253\n",
      "Epoch 39/1000\n",
      "13/14 [==========================>...] - ETA: 0s - loss: 0.1957 - accuracy: 0.9081\n",
      "Epoch 39: saving model to model/point_history_classifier\\point_history_classifier.hdf5\n",
      "14/14 [==============================] - 0s 26ms/step - loss: 0.1950 - accuracy: 0.9091 - val_loss: 0.1838 - val_accuracy: 0.9217\n",
      "Epoch 40/1000\n",
      "13/14 [==========================>...] - ETA: 0s - loss: 0.1886 - accuracy: 0.9147\n",
      "Epoch 40: saving model to model/point_history_classifier\\point_history_classifier.hdf5\n",
      "14/14 [==============================] - 0s 27ms/step - loss: 0.1909 - accuracy: 0.9145 - val_loss: 0.1986 - val_accuracy: 0.9217\n",
      "Epoch 41/1000\n",
      "13/14 [==========================>...] - ETA: 0s - loss: 0.1844 - accuracy: 0.9159\n",
      "Epoch 41: saving model to model/point_history_classifier\\point_history_classifier.hdf5\n",
      "14/14 [==============================] - 0s 26ms/step - loss: 0.1863 - accuracy: 0.9157 - val_loss: 0.2009 - val_accuracy: 0.9199\n",
      "Epoch 42/1000\n",
      "13/14 [==========================>...] - ETA: 0s - loss: 0.1916 - accuracy: 0.9171\n",
      "Epoch 42: saving model to model/point_history_classifier\\point_history_classifier.hdf5\n",
      "14/14 [==============================] - 0s 28ms/step - loss: 0.1908 - accuracy: 0.9181 - val_loss: 0.2491 - val_accuracy: 0.9039\n",
      "Epoch 43/1000\n",
      "13/14 [==========================>...] - ETA: 0s - loss: 0.2059 - accuracy: 0.9081\n",
      "Epoch 43: saving model to model/point_history_classifier\\point_history_classifier.hdf5\n",
      "14/14 [==============================] - 0s 28ms/step - loss: 0.2053 - accuracy: 0.9086 - val_loss: 0.1811 - val_accuracy: 0.9199\n",
      "Epoch 44/1000\n",
      "13/14 [==========================>...] - ETA: 0s - loss: 0.1860 - accuracy: 0.9159\n",
      "Epoch 44: saving model to model/point_history_classifier\\point_history_classifier.hdf5\n",
      "14/14 [==============================] - 0s 27ms/step - loss: 0.1850 - accuracy: 0.9163 - val_loss: 0.1895 - val_accuracy: 0.9235\n",
      "Epoch 45/1000\n",
      "13/14 [==========================>...] - ETA: 0s - loss: 0.1762 - accuracy: 0.9237\n",
      "Epoch 45: saving model to model/point_history_classifier\\point_history_classifier.hdf5\n",
      "14/14 [==============================] - 0s 29ms/step - loss: 0.1749 - accuracy: 0.9246 - val_loss: 0.1755 - val_accuracy: 0.9270\n",
      "Epoch 46/1000\n",
      "13/14 [==========================>...] - ETA: 0s - loss: 0.1671 - accuracy: 0.9219\n",
      "Epoch 46: saving model to model/point_history_classifier\\point_history_classifier.hdf5\n",
      "14/14 [==============================] - 0s 30ms/step - loss: 0.1664 - accuracy: 0.9222 - val_loss: 0.1888 - val_accuracy: 0.9306\n",
      "Epoch 47/1000\n",
      "13/14 [==========================>...] - ETA: 0s - loss: 0.1801 - accuracy: 0.9249\n",
      "Epoch 47: saving model to model/point_history_classifier\\point_history_classifier.hdf5\n",
      "14/14 [==============================] - 0s 29ms/step - loss: 0.1799 - accuracy: 0.9234 - val_loss: 0.1927 - val_accuracy: 0.9288\n",
      "Epoch 48/1000\n",
      "13/14 [==========================>...] - ETA: 0s - loss: 0.1967 - accuracy: 0.9195\n",
      "Epoch 48: saving model to model/point_history_classifier\\point_history_classifier.hdf5\n",
      "14/14 [==============================] - 0s 29ms/step - loss: 0.2028 - accuracy: 0.9192 - val_loss: 0.1858 - val_accuracy: 0.9270\n",
      "Epoch 49/1000\n",
      "13/14 [==========================>...] - ETA: 0s - loss: 0.1911 - accuracy: 0.9285\n",
      "Epoch 49: saving model to model/point_history_classifier\\point_history_classifier.hdf5\n",
      "14/14 [==============================] - 0s 27ms/step - loss: 0.1923 - accuracy: 0.9276 - val_loss: 0.2029 - val_accuracy: 0.9164\n",
      "Epoch 50/1000\n",
      "13/14 [==========================>...] - ETA: 0s - loss: 0.1946 - accuracy: 0.9255\n",
      "Epoch 50: saving model to model/point_history_classifier\\point_history_classifier.hdf5\n",
      "14/14 [==============================] - 0s 26ms/step - loss: 0.1927 - accuracy: 0.9264 - val_loss: 0.1786 - val_accuracy: 0.9324\n",
      "Epoch 51/1000\n",
      "13/14 [==========================>...] - ETA: 0s - loss: 0.1734 - accuracy: 0.9279\n",
      "Epoch 51: saving model to model/point_history_classifier\\point_history_classifier.hdf5\n",
      "14/14 [==============================] - 0s 26ms/step - loss: 0.1761 - accuracy: 0.9276 - val_loss: 0.1761 - val_accuracy: 0.9342\n",
      "Epoch 52/1000\n",
      "13/14 [==========================>...] - ETA: 0s - loss: 0.1608 - accuracy: 0.9321\n",
      "Epoch 52: saving model to model/point_history_classifier\\point_history_classifier.hdf5\n",
      "14/14 [==============================] - 0s 26ms/step - loss: 0.1598 - accuracy: 0.9329 - val_loss: 0.1779 - val_accuracy: 0.9306\n",
      "Epoch 53/1000\n"
     ]
    },
    {
     "name": "stdout",
     "output_type": "stream",
     "text": [
      "13/14 [==========================>...] - ETA: 0s - loss: 0.1578 - accuracy: 0.9315\n",
      "Epoch 53: saving model to model/point_history_classifier\\point_history_classifier.hdf5\n",
      "14/14 [==============================] - 0s 26ms/step - loss: 0.1632 - accuracy: 0.9311 - val_loss: 0.2892 - val_accuracy: 0.8968\n",
      "Epoch 54/1000\n",
      "13/14 [==========================>...] - ETA: 0s - loss: 0.2085 - accuracy: 0.9219\n",
      "Epoch 54: saving model to model/point_history_classifier\\point_history_classifier.hdf5\n",
      "14/14 [==============================] - 0s 26ms/step - loss: 0.2094 - accuracy: 0.9210 - val_loss: 0.1820 - val_accuracy: 0.9253\n",
      "Epoch 55/1000\n",
      "13/14 [==========================>...] - ETA: 0s - loss: 0.1748 - accuracy: 0.9303\n",
      "Epoch 55: saving model to model/point_history_classifier\\point_history_classifier.hdf5\n",
      "14/14 [==============================] - 0s 26ms/step - loss: 0.1751 - accuracy: 0.9299 - val_loss: 0.1995 - val_accuracy: 0.9359\n",
      "Epoch 56/1000\n",
      "13/14 [==========================>...] - ETA: 0s - loss: 0.1585 - accuracy: 0.9309\n",
      "Epoch 56: saving model to model/point_history_classifier\\point_history_classifier.hdf5\n",
      "14/14 [==============================] - 0s 26ms/step - loss: 0.1569 - accuracy: 0.9317 - val_loss: 0.1613 - val_accuracy: 0.9288\n",
      "Epoch 57/1000\n",
      "13/14 [==========================>...] - ETA: 0s - loss: 0.1501 - accuracy: 0.9357\n",
      "Epoch 57: saving model to model/point_history_classifier\\point_history_classifier.hdf5\n",
      "14/14 [==============================] - 0s 26ms/step - loss: 0.1492 - accuracy: 0.9359 - val_loss: 0.2227 - val_accuracy: 0.9253\n",
      "Epoch 58/1000\n",
      "13/14 [==========================>...] - ETA: 0s - loss: 0.1798 - accuracy: 0.9237\n",
      "Epoch 58: saving model to model/point_history_classifier\\point_history_classifier.hdf5\n",
      "14/14 [==============================] - 0s 26ms/step - loss: 0.1787 - accuracy: 0.9246 - val_loss: 0.1983 - val_accuracy: 0.9253\n",
      "Epoch 59/1000\n",
      "13/14 [==========================>...] - ETA: 0s - loss: 0.1736 - accuracy: 0.9351\n",
      "Epoch 59: saving model to model/point_history_classifier\\point_history_classifier.hdf5\n",
      "14/14 [==============================] - 0s 26ms/step - loss: 0.1748 - accuracy: 0.9329 - val_loss: 0.1802 - val_accuracy: 0.9342\n",
      "Epoch 60/1000\n",
      "13/14 [==========================>...] - ETA: 0s - loss: 0.1720 - accuracy: 0.9351\n",
      "Epoch 60: saving model to model/point_history_classifier\\point_history_classifier.hdf5\n",
      "14/14 [==============================] - 0s 27ms/step - loss: 0.1704 - accuracy: 0.9359 - val_loss: 0.1795 - val_accuracy: 0.9395\n",
      "Epoch 61/1000\n",
      "13/14 [==========================>...] - ETA: 0s - loss: 0.1630 - accuracy: 0.9261\n",
      "Epoch 61: saving model to model/point_history_classifier\\point_history_classifier.hdf5\n",
      "14/14 [==============================] - 0s 26ms/step - loss: 0.1615 - accuracy: 0.9270 - val_loss: 0.1585 - val_accuracy: 0.9359\n",
      "Epoch 62/1000\n",
      "13/14 [==========================>...] - ETA: 0s - loss: 0.1423 - accuracy: 0.9339\n",
      "Epoch 62: saving model to model/point_history_classifier\\point_history_classifier.hdf5\n",
      "14/14 [==============================] - 0s 27ms/step - loss: 0.1415 - accuracy: 0.9341 - val_loss: 0.1559 - val_accuracy: 0.9413\n",
      "Epoch 63/1000\n",
      "13/14 [==========================>...] - ETA: 0s - loss: 0.1350 - accuracy: 0.9399\n",
      "Epoch 63: saving model to model/point_history_classifier\\point_history_classifier.hdf5\n",
      "14/14 [==============================] - 0s 26ms/step - loss: 0.1364 - accuracy: 0.9394 - val_loss: 0.1781 - val_accuracy: 0.9377\n",
      "Epoch 64/1000\n",
      "13/14 [==========================>...] - ETA: 0s - loss: 0.1309 - accuracy: 0.9441\n",
      "Epoch 64: saving model to model/point_history_classifier\\point_history_classifier.hdf5\n",
      "14/14 [==============================] - 0s 25ms/step - loss: 0.1301 - accuracy: 0.9448 - val_loss: 0.1591 - val_accuracy: 0.9413\n",
      "Epoch 65/1000\n",
      "13/14 [==========================>...] - ETA: 0s - loss: 0.1638 - accuracy: 0.9357\n",
      "Epoch 65: saving model to model/point_history_classifier\\point_history_classifier.hdf5\n",
      "14/14 [==============================] - 0s 27ms/step - loss: 0.1622 - accuracy: 0.9365 - val_loss: 0.1556 - val_accuracy: 0.9520\n",
      "Epoch 66/1000\n",
      "13/14 [==========================>...] - ETA: 0s - loss: 0.1333 - accuracy: 0.9441\n",
      "Epoch 66: saving model to model/point_history_classifier\\point_history_classifier.hdf5\n",
      "14/14 [==============================] - 0s 27ms/step - loss: 0.1333 - accuracy: 0.9442 - val_loss: 0.1440 - val_accuracy: 0.9537\n",
      "Epoch 67/1000\n",
      "13/14 [==========================>...] - ETA: 0s - loss: 0.1484 - accuracy: 0.9363\n",
      "Epoch 67: saving model to model/point_history_classifier\\point_history_classifier.hdf5\n",
      "14/14 [==============================] - 0s 28ms/step - loss: 0.1472 - accuracy: 0.9371 - val_loss: 0.1595 - val_accuracy: 0.9502\n",
      "Epoch 68/1000\n",
      "13/14 [==========================>...] - ETA: 0s - loss: 0.1276 - accuracy: 0.9453\n",
      "Epoch 68: saving model to model/point_history_classifier\\point_history_classifier.hdf5\n",
      "14/14 [==============================] - 0s 30ms/step - loss: 0.1266 - accuracy: 0.9460 - val_loss: 0.1419 - val_accuracy: 0.9484\n",
      "Epoch 69/1000\n",
      "13/14 [==========================>...] - ETA: 0s - loss: 0.1312 - accuracy: 0.9387\n",
      "Epoch 69: saving model to model/point_history_classifier\\point_history_classifier.hdf5\n",
      "14/14 [==============================] - 0s 30ms/step - loss: 0.1311 - accuracy: 0.9382 - val_loss: 0.1278 - val_accuracy: 0.9555\n",
      "Epoch 70/1000\n",
      "13/14 [==========================>...] - ETA: 0s - loss: 0.1260 - accuracy: 0.9525\n",
      "Epoch 70: saving model to model/point_history_classifier\\point_history_classifier.hdf5\n",
      "14/14 [==============================] - 0s 29ms/step - loss: 0.1247 - accuracy: 0.9531 - val_loss: 0.1424 - val_accuracy: 0.9431\n",
      "Epoch 71/1000\n",
      "12/14 [========================>.....] - ETA: 0s - loss: 0.1171 - accuracy: 0.9544\n",
      "Epoch 71: saving model to model/point_history_classifier\\point_history_classifier.hdf5\n",
      "14/14 [==============================] - 0s 29ms/step - loss: 0.1142 - accuracy: 0.9567 - val_loss: 0.1431 - val_accuracy: 0.9431\n",
      "Epoch 72/1000\n",
      "13/14 [==========================>...] - ETA: 0s - loss: 0.1324 - accuracy: 0.9453\n",
      "Epoch 72: saving model to model/point_history_classifier\\point_history_classifier.hdf5\n",
      "14/14 [==============================] - 0s 27ms/step - loss: 0.1318 - accuracy: 0.9460 - val_loss: 0.1577 - val_accuracy: 0.9520\n",
      "Epoch 73/1000\n",
      "13/14 [==========================>...] - ETA: 0s - loss: 0.1252 - accuracy: 0.9495\n",
      "Epoch 73: saving model to model/point_history_classifier\\point_history_classifier.hdf5\n",
      "14/14 [==============================] - 0s 27ms/step - loss: 0.1253 - accuracy: 0.9495 - val_loss: 0.1475 - val_accuracy: 0.9448\n",
      "Epoch 74/1000\n",
      "13/14 [==========================>...] - ETA: 0s - loss: 0.1207 - accuracy: 0.9561\n",
      "Epoch 74: saving model to model/point_history_classifier\\point_history_classifier.hdf5\n",
      "14/14 [==============================] - 0s 26ms/step - loss: 0.1194 - accuracy: 0.9567 - val_loss: 0.1418 - val_accuracy: 0.9466\n",
      "Epoch 75/1000\n",
      "13/14 [==========================>...] - ETA: 0s - loss: 0.1219 - accuracy: 0.9507\n",
      "Epoch 75: saving model to model/point_history_classifier\\point_history_classifier.hdf5\n",
      "14/14 [==============================] - 0s 26ms/step - loss: 0.1211 - accuracy: 0.9513 - val_loss: 0.1557 - val_accuracy: 0.9448\n",
      "Epoch 76/1000\n",
      "13/14 [==========================>...] - ETA: 0s - loss: 0.1231 - accuracy: 0.9519\n",
      "Epoch 76: saving model to model/point_history_classifier\\point_history_classifier.hdf5\n",
      "14/14 [==============================] - 0s 27ms/step - loss: 0.1218 - accuracy: 0.9525 - val_loss: 0.1337 - val_accuracy: 0.9573\n",
      "Epoch 77/1000\n",
      "13/14 [==========================>...] - ETA: 0s - loss: 0.1178 - accuracy: 0.9561\n",
      "Epoch 77: saving model to model/point_history_classifier\\point_history_classifier.hdf5\n",
      "14/14 [==============================] - 0s 27ms/step - loss: 0.1171 - accuracy: 0.9561 - val_loss: 0.1185 - val_accuracy: 0.9609\n",
      "Epoch 78/1000\n",
      "13/14 [==========================>...] - ETA: 0s - loss: 0.1098 - accuracy: 0.9555\n",
      "Epoch 78: saving model to model/point_history_classifier\\point_history_classifier.hdf5\n",
      "14/14 [==============================] - 0s 27ms/step - loss: 0.1110 - accuracy: 0.9543 - val_loss: 0.1379 - val_accuracy: 0.9466\n",
      "Epoch 79/1000\n"
     ]
    },
    {
     "name": "stdout",
     "output_type": "stream",
     "text": [
      "13/14 [==========================>...] - ETA: 0s - loss: 0.1094 - accuracy: 0.9525\n",
      "Epoch 79: saving model to model/point_history_classifier\\point_history_classifier.hdf5\n",
      "14/14 [==============================] - 0s 26ms/step - loss: 0.1086 - accuracy: 0.9531 - val_loss: 0.1159 - val_accuracy: 0.9555\n",
      "Epoch 80/1000\n",
      "13/14 [==========================>...] - ETA: 0s - loss: 0.1087 - accuracy: 0.9543\n",
      "Epoch 80: saving model to model/point_history_classifier\\point_history_classifier.hdf5\n",
      "14/14 [==============================] - 0s 26ms/step - loss: 0.1077 - accuracy: 0.9549 - val_loss: 0.1114 - val_accuracy: 0.9609\n",
      "Epoch 81/1000\n",
      "13/14 [==========================>...] - ETA: 0s - loss: 0.1032 - accuracy: 0.9597\n",
      "Epoch 81: saving model to model/point_history_classifier\\point_history_classifier.hdf5\n",
      "14/14 [==============================] - 0s 26ms/step - loss: 0.1033 - accuracy: 0.9596 - val_loss: 0.1205 - val_accuracy: 0.9609\n",
      "Epoch 82/1000\n",
      "13/14 [==========================>...] - ETA: 0s - loss: 0.1035 - accuracy: 0.9597\n",
      "Epoch 82: saving model to model/point_history_classifier\\point_history_classifier.hdf5\n",
      "14/14 [==============================] - 0s 26ms/step - loss: 0.1032 - accuracy: 0.9596 - val_loss: 0.1136 - val_accuracy: 0.9591\n",
      "Epoch 83/1000\n",
      "13/14 [==========================>...] - ETA: 0s - loss: 0.1049 - accuracy: 0.9549\n",
      "Epoch 83: saving model to model/point_history_classifier\\point_history_classifier.hdf5\n",
      "14/14 [==============================] - 0s 25ms/step - loss: 0.1046 - accuracy: 0.9549 - val_loss: 0.1185 - val_accuracy: 0.9644\n",
      "Epoch 84/1000\n",
      "13/14 [==========================>...] - ETA: 0s - loss: 0.1002 - accuracy: 0.9591\n",
      "Epoch 84: saving model to model/point_history_classifier\\point_history_classifier.hdf5\n",
      "14/14 [==============================] - 0s 26ms/step - loss: 0.0991 - accuracy: 0.9596 - val_loss: 0.1003 - val_accuracy: 0.9698\n",
      "Epoch 85/1000\n",
      "13/14 [==========================>...] - ETA: 0s - loss: 0.1051 - accuracy: 0.9543\n",
      "Epoch 85: saving model to model/point_history_classifier\\point_history_classifier.hdf5\n",
      "14/14 [==============================] - 0s 26ms/step - loss: 0.1045 - accuracy: 0.9549 - val_loss: 0.4266 - val_accuracy: 0.8594\n",
      "Epoch 86/1000\n",
      "13/14 [==========================>...] - ETA: 0s - loss: 0.2480 - accuracy: 0.9303\n",
      "Epoch 86: saving model to model/point_history_classifier\\point_history_classifier.hdf5\n",
      "14/14 [==============================] - 0s 27ms/step - loss: 0.2472 - accuracy: 0.9305 - val_loss: 0.2360 - val_accuracy: 0.9537\n",
      "Epoch 87/1000\n",
      "13/14 [==========================>...] - ETA: 0s - loss: 0.1845 - accuracy: 0.9447\n",
      "Epoch 87: saving model to model/point_history_classifier\\point_history_classifier.hdf5\n",
      "14/14 [==============================] - 0s 26ms/step - loss: 0.1872 - accuracy: 0.9430 - val_loss: 0.1604 - val_accuracy: 0.9413\n",
      "Epoch 88/1000\n",
      "13/14 [==========================>...] - ETA: 0s - loss: 0.1417 - accuracy: 0.9489\n",
      "Epoch 88: saving model to model/point_history_classifier\\point_history_classifier.hdf5\n",
      "14/14 [==============================] - 0s 25ms/step - loss: 0.1431 - accuracy: 0.9483 - val_loss: 0.1289 - val_accuracy: 0.9609\n",
      "Epoch 89/1000\n",
      "13/14 [==========================>...] - ETA: 0s - loss: 0.1188 - accuracy: 0.9567\n",
      "Epoch 89: saving model to model/point_history_classifier\\point_history_classifier.hdf5\n",
      "14/14 [==============================] - 0s 27ms/step - loss: 0.1181 - accuracy: 0.9567 - val_loss: 0.1094 - val_accuracy: 0.9662\n",
      "Epoch 90/1000\n",
      "13/14 [==========================>...] - ETA: 0s - loss: 0.1078 - accuracy: 0.9555\n",
      "Epoch 90: saving model to model/point_history_classifier\\point_history_classifier.hdf5\n",
      "14/14 [==============================] - 0s 26ms/step - loss: 0.1078 - accuracy: 0.9549 - val_loss: 0.1039 - val_accuracy: 0.9698\n",
      "Epoch 91/1000\n",
      "13/14 [==========================>...] - ETA: 0s - loss: 0.1009 - accuracy: 0.9597\n",
      "Epoch 91: saving model to model/point_history_classifier\\point_history_classifier.hdf5\n",
      "14/14 [==============================] - 0s 26ms/step - loss: 0.1008 - accuracy: 0.9596 - val_loss: 0.1140 - val_accuracy: 0.9591\n",
      "Epoch 92/1000\n",
      "13/14 [==========================>...] - ETA: 0s - loss: 0.1149 - accuracy: 0.9573\n",
      "Epoch 92: saving model to model/point_history_classifier\\point_history_classifier.hdf5\n",
      "14/14 [==============================] - 0s 25ms/step - loss: 0.1138 - accuracy: 0.9578 - val_loss: 0.1197 - val_accuracy: 0.9591\n",
      "Epoch 93/1000\n",
      "13/14 [==========================>...] - ETA: 0s - loss: 0.0862 - accuracy: 0.9627\n",
      "Epoch 93: saving model to model/point_history_classifier\\point_history_classifier.hdf5\n",
      "14/14 [==============================] - 0s 25ms/step - loss: 0.0867 - accuracy: 0.9626 - val_loss: 0.1140 - val_accuracy: 0.9573\n",
      "Epoch 94/1000\n",
      " 1/14 [=>............................] - ETA: 0s - loss: 0.0770 - accuracy: 0.9766"
     ]
    }
   ],
   "source": [
    "model.fit(\n",
    "    X_train,\n",
    "    y_train,\n",
    "    epochs=1000,\n",
    "    batch_size=128,\n",
    "    validation_data=(X_test, y_test),\n",
    "    callbacks=[cp_callback, es_callback]\n",
    ")"
   ]
  },
  {
   "cell_type": "code",
   "execution_count": null,
   "metadata": {
    "pycharm": {
     "name": "#%%\n"
    }
   },
   "outputs": [],
   "source": [
    "# 保存したモデルのロード\n",
    "model = tf.keras.models.load_model(model_save_path)"
   ]
  },
  {
   "cell_type": "code",
   "execution_count": null,
   "metadata": {
    "pycharm": {
     "name": "#%%\n"
    }
   },
   "outputs": [],
   "source": [
    "# 推論テスト\n",
    "predict_result = model.predict(np.array([X_test[0]]))\n",
    "print(np.squeeze(predict_result))\n",
    "print(np.argmax(np.squeeze(predict_result)))"
   ]
  },
  {
   "cell_type": "markdown",
   "metadata": {
    "pycharm": {
     "name": "#%% md\n"
    }
   },
   "source": [
    "# 混同行列"
   ]
  },
  {
   "cell_type": "code",
   "execution_count": null,
   "metadata": {
    "pycharm": {
     "name": "#%%\n"
    }
   },
   "outputs": [],
   "source": [
    "import pandas as pd\n",
    "import seaborn as sns\n",
    "import matplotlib.pyplot as plt\n",
    "from sklearn.metrics import confusion_matrix, classification_report\n",
    "\n",
    "def print_confusion_matrix(y_true, y_pred, report=True):\n",
    "    labels = sorted(list(set(y_true)))\n",
    "    cmx_data = confusion_matrix(y_true, y_pred, labels=labels)\n",
    "    \n",
    "    df_cmx = pd.DataFrame(cmx_data, index=labels, columns=labels)\n",
    " \n",
    "    fig, ax = plt.subplots(figsize=(7, 6))\n",
    "    sns.heatmap(df_cmx, annot=True, fmt='g' ,square=False)\n",
    "    ax.set_ylim(len(set(y_true)), 0)\n",
    "    plt.show()\n",
    "    \n",
    "    if report:\n",
    "        print('Classification Report')\n",
    "        print(classification_report(y_test, y_pred))\n",
    "\n",
    "Y_pred = model.predict(X_test)\n",
    "y_pred = np.argmax(Y_pred, axis=1)\n",
    "\n",
    "print_confusion_matrix(y_test, y_pred)"
   ]
  },
  {
   "cell_type": "markdown",
   "metadata": {
    "pycharm": {
     "name": "#%% md\n"
    }
   },
   "source": [
    "# Tensorflow-Lite用のモデルへ変換"
   ]
  },
  {
   "cell_type": "code",
   "execution_count": null,
   "metadata": {
    "pycharm": {
     "name": "#%%\n"
    }
   },
   "outputs": [],
   "source": [
    "# 推論専用のモデルとして保存\n",
    "model.save(model_save_path, include_optimizer=False)\n",
    "model = tf.keras.models.load_model(model_save_path)"
   ]
  },
  {
   "cell_type": "code",
   "execution_count": null,
   "metadata": {
    "pycharm": {
     "name": "#%%\n"
    }
   },
   "outputs": [],
   "source": [
    "tflite_save_path = 'model/point_history_classifier/point_history_classifier.tflite'"
   ]
  },
  {
   "cell_type": "code",
   "execution_count": null,
   "metadata": {
    "pycharm": {
     "name": "#%%\n"
    }
   },
   "outputs": [],
   "source": [
    "# モデルを変換(量子化\n",
    "\n",
    "from tensorflow import lite\n",
    "\n",
    "converter = tf.lite.TFLiteConverter.from_keras_model(model)\n",
    "# converter = tf.lite.TFLiteConverter.from_saved_model(saved_model_path)\n",
    "converter.optimizations = [tf.lite.Optimize.DEFAULT]\n",
    "\n",
    "converter.experimental_new_converter=True\n",
    "converter.target_spec.supported_ops = [tf.lite.OpsSet.TFLITE_BUILTINS,\n",
    "tf.lite.OpsSet.SELECT_TF_OPS]\n",
    "\n",
    "tflite_quantized_model = converter.convert()\n",
    "\n",
    "open(tflite_save_path, 'wb').write(tflite_quantized_model)"
   ]
  },
  {
   "cell_type": "markdown",
   "metadata": {
    "pycharm": {
     "name": "#%% md\n"
    }
   },
   "source": [
    "# 推論テスト"
   ]
  },
  {
   "cell_type": "code",
   "execution_count": null,
   "metadata": {
    "pycharm": {
     "name": "#%%\n"
    }
   },
   "outputs": [],
   "source": [
    "interpreter = tf.lite.Interpreter(model_path=tflite_save_path)\n",
    "interpreter.allocate_tensors()"
   ]
  },
  {
   "cell_type": "code",
   "execution_count": null,
   "metadata": {
    "pycharm": {
     "name": "#%%\n"
    }
   },
   "outputs": [],
   "source": [
    "# 入出力テンソルを取得\n",
    "input_details = interpreter.get_input_details()\n",
    "output_details = interpreter.get_output_details()\n",
    "print(input_details)"
   ]
  },
  {
   "cell_type": "code",
   "execution_count": null,
   "metadata": {
    "pycharm": {
     "name": "#%%\n"
    }
   },
   "outputs": [],
   "source": [
    "interpreter.set_tensor(input_details[0]['index'], np.array([X_test[0]]))"
   ]
  },
  {
   "cell_type": "code",
   "execution_count": null,
   "metadata": {
    "pycharm": {
     "name": "#%%\n"
    }
   },
   "outputs": [],
   "source": [
    "%%time\n",
    "# 推論実施\n",
    "interpreter.invoke()\n",
    "tflite_results = interpreter.get_tensor(output_details[0]['index'])"
   ]
  },
  {
   "cell_type": "code",
   "execution_count": null,
   "metadata": {
    "pycharm": {
     "name": "#%%\n"
    }
   },
   "outputs": [],
   "source": [
    "print(np.squeeze(tflite_results))\n",
    "print(np.argmax(np.squeeze(tflite_results)))"
   ]
  }
 ],
 "metadata": {
  "kernelspec": {
   "display_name": "Python 3 (ipykernel)",
   "language": "python",
   "name": "python3"
  },
  "language_info": {
   "codemirror_mode": {
    "name": "ipython",
    "version": 3
   },
   "file_extension": ".py",
   "mimetype": "text/x-python",
   "name": "python",
   "nbconvert_exporter": "python",
   "pygments_lexer": "ipython3",
   "version": "3.9.7"
  },
  "vscode": {
   "interpreter": {
    "hash": "94fb4a061a95054450e7e221fffc63454dbab728d456d26eb1957ad229770318"
   }
  }
 },
 "nbformat": 4,
 "nbformat_minor": 4
}
