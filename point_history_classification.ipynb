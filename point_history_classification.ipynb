{
 "cells": [
  {
   "cell_type": "code",
   "execution_count": 1,
   "metadata": {
    "pycharm": {
     "name": "#%%\n"
    }
   },
   "outputs": [],
   "source": [
    "import csv\n",
    "\n",
    "import numpy as np\n",
    "import tensorflow as tf\n",
    "from sklearn.model_selection import train_test_split\n",
    "\n",
    "RANDOM_SEED = 42"
   ]
  },
  {
   "cell_type": "markdown",
   "metadata": {
    "pycharm": {
     "name": "#%% md\n"
    }
   },
   "source": [
    "# Specify each path"
   ]
  },
  {
   "cell_type": "code",
   "execution_count": 2,
   "metadata": {
    "pycharm": {
     "name": "#%%\n"
    }
   },
   "outputs": [],
   "source": [
    "dataset = 'model/point_history_classifier/point_history.csv'\n",
    "model_save_path = 'model/point_history_classifier/point_history_classifier.hdf5'"
   ]
  },
  {
   "cell_type": "markdown",
   "metadata": {
    "pycharm": {
     "name": "#%% md\n"
    }
   },
   "source": [
    "# Set number of classes"
   ]
  },
  {
   "cell_type": "code",
   "execution_count": 3,
   "metadata": {
    "pycharm": {
     "name": "#%%\n"
    }
   },
   "outputs": [],
   "source": [
    "NUM_CLASSES = 4"
   ]
  },
  {
   "cell_type": "markdown",
   "metadata": {
    "pycharm": {
     "name": "#%% md\n"
    }
   },
   "source": [
    "# Input length"
   ]
  },
  {
   "cell_type": "code",
   "execution_count": 4,
   "metadata": {
    "pycharm": {
     "name": "#%%\n"
    }
   },
   "outputs": [],
   "source": [
    "TIME_STEPS = 16\n",
    "DIMENSION = 2"
   ]
  },
  {
   "cell_type": "markdown",
   "metadata": {
    "pycharm": {
     "name": "#%% md\n"
    }
   },
   "source": [
    "# Dataset reading"
   ]
  },
  {
   "cell_type": "code",
   "execution_count": 5,
   "metadata": {
    "pycharm": {
     "name": "#%%\n"
    }
   },
   "outputs": [],
   "source": [
    "X_dataset = np.loadtxt(dataset, delimiter=',', dtype='float32', usecols=list(range(1, (TIME_STEPS * DIMENSION) + 1)))"
   ]
  },
  {
   "cell_type": "code",
   "execution_count": 6,
   "metadata": {
    "pycharm": {
     "name": "#%%\n"
    }
   },
   "outputs": [],
   "source": [
    "y_dataset = np.loadtxt(dataset, delimiter=',', dtype='int32', usecols=(0))"
   ]
  },
  {
   "cell_type": "code",
   "execution_count": 7,
   "metadata": {
    "pycharm": {
     "name": "#%%\n"
    }
   },
   "outputs": [],
   "source": [
    "X_train, X_test, y_train, y_test = train_test_split(X_dataset, y_dataset, train_size=0.75, random_state=RANDOM_SEED)"
   ]
  },
  {
   "cell_type": "markdown",
   "metadata": {
    "pycharm": {
     "name": "#%% md\n"
    }
   },
   "source": [
    "# Builing the LSTM model"
   ]
  },
  {
   "cell_type": "code",
   "execution_count": 8,
   "metadata": {
    "pycharm": {
     "name": "#%%\n"
    }
   },
   "outputs": [],
   "source": [
    "model = tf.keras.models.Sequential([\n",
    "        tf.keras.layers.InputLayer(input_shape=(TIME_STEPS * DIMENSION, )),\n",
    "        tf.keras.layers.Reshape((TIME_STEPS, DIMENSION), input_shape=(TIME_STEPS * DIMENSION, )),\n",
    "        tf.keras.layers.Dropout(0.2),\n",
    "        tf.keras.layers.LSTM(16, input_shape=[TIME_STEPS, DIMENSION], return_sequences=True),\n",
    "        tf.keras.layers.LSTM(32, return_sequences=True, activation='relu'),\n",
    "        tf.keras.layers.LSTM(16, return_sequences=False, activation='relu'),\n",
    "        tf.keras.layers.Dropout(0.2),\n",
    "        tf.keras.layers.Dense(24, activation='relu'),\n",
    "        tf.keras.layers.Dense(12, activation='relu'),\n",
    "        tf.keras.layers.Dense(NUM_CLASSES, activation='softmax')\n",
    "    ])"
   ]
  },
  {
   "cell_type": "code",
   "execution_count": 9,
   "metadata": {
    "pycharm": {
     "name": "#%%\n"
    }
   },
   "outputs": [
    {
     "name": "stdout",
     "output_type": "stream",
     "text": [
      "Model: \"sequential\"\n",
      "_________________________________________________________________\n",
      " Layer (type)                Output Shape              Param #   \n",
      "=================================================================\n",
      " reshape (Reshape)           (None, 16, 2)             0         \n",
      "                                                                 \n",
      " dropout (Dropout)           (None, 16, 2)             0         \n",
      "                                                                 \n",
      " lstm (LSTM)                 (None, 16, 16)            1216      \n",
      "                                                                 \n",
      " lstm_1 (LSTM)               (None, 16, 32)            6272      \n",
      "                                                                 \n",
      " lstm_2 (LSTM)               (None, 16)                3136      \n",
      "                                                                 \n",
      " dropout_1 (Dropout)         (None, 16)                0         \n",
      "                                                                 \n",
      " dense (Dense)               (None, 24)                408       \n",
      "                                                                 \n",
      " dense_1 (Dense)             (None, 12)                300       \n",
      "                                                                 \n",
      " dense_2 (Dense)             (None, 4)                 52        \n",
      "                                                                 \n",
      "=================================================================\n",
      "Total params: 11,384\n",
      "Trainable params: 11,384\n",
      "Non-trainable params: 0\n",
      "_________________________________________________________________\n"
     ]
    }
   ],
   "source": [
    "model.summary()  # tf.keras.utils.plot_model(model, show_shapes=True)"
   ]
  },
  {
   "cell_type": "code",
   "execution_count": 10,
   "metadata": {
    "pycharm": {
     "name": "#%%\n"
    }
   },
   "outputs": [],
   "source": [
    "cp_callback = tf.keras.callbacks.ModelCheckpoint(\n",
    "    model_save_path, verbose=1, save_weights_only=False)\n",
    "es_callback = tf.keras.callbacks.EarlyStopping(patience=20, verbose=1)"
   ]
  },
  {
   "cell_type": "code",
   "execution_count": 11,
   "metadata": {
    "pycharm": {
     "name": "#%%\n"
    }
   },
   "outputs": [],
   "source": [
    "model.compile(\n",
    "    optimizer='adam',\n",
    "    loss='sparse_categorical_crossentropy',\n",
    "    metrics=['accuracy']\n",
    ")"
   ]
  },
  {
   "cell_type": "markdown",
   "metadata": {
    "pycharm": {
     "name": "#%% md\n"
    }
   },
   "source": [
    "# Training the model"
   ]
  },
  {
   "cell_type": "code",
   "execution_count": 12,
   "metadata": {
    "pycharm": {
     "name": "#%%\n"
    },
    "scrolled": true
   },
   "outputs": [
    {
     "name": "stdout",
     "output_type": "stream",
     "text": [
      "Epoch 1/1000\n",
      "15/15 [==============================] - ETA: 0s - loss: 1.3672 - accuracy: 0.6227\n",
      "Epoch 1: saving model to model/point_history_classifier\\point_history_classifier.hdf5\n",
      "15/15 [==============================] - 16s 267ms/step - loss: 1.3672 - accuracy: 0.6227 - val_loss: 1.3395 - val_accuracy: 0.6228\n",
      "Epoch 2/1000\n",
      "15/15 [==============================] - ETA: 0s - loss: 1.3124 - accuracy: 0.6466\n",
      "Epoch 2: saving model to model/point_history_classifier\\point_history_classifier.hdf5\n",
      "15/15 [==============================] - 1s 50ms/step - loss: 1.3124 - accuracy: 0.6466 - val_loss: 1.2595 - val_accuracy: 0.6341\n",
      "Epoch 3/1000\n",
      "15/15 [==============================] - ETA: 0s - loss: 1.1997 - accuracy: 0.6466\n",
      "Epoch 3: saving model to model/point_history_classifier\\point_history_classifier.hdf5\n",
      "15/15 [==============================] - 1s 47ms/step - loss: 1.1997 - accuracy: 0.6466 - val_loss: 1.0750 - val_accuracy: 0.6341\n",
      "Epoch 4/1000\n",
      "15/15 [==============================] - ETA: 0s - loss: 1.0374 - accuracy: 0.6482\n",
      "Epoch 4: saving model to model/point_history_classifier\\point_history_classifier.hdf5\n",
      "15/15 [==============================] - 1s 41ms/step - loss: 1.0374 - accuracy: 0.6482 - val_loss: 0.9121 - val_accuracy: 0.6878\n",
      "Epoch 5/1000\n",
      "15/15 [==============================] - ETA: 0s - loss: 0.8720 - accuracy: 0.7068\n",
      "Epoch 5: saving model to model/point_history_classifier\\point_history_classifier.hdf5\n",
      "15/15 [==============================] - 1s 42ms/step - loss: 0.8720 - accuracy: 0.7068 - val_loss: 0.7139 - val_accuracy: 0.7691\n",
      "Epoch 6/1000\n",
      "14/15 [===========================>..] - ETA: 0s - loss: 0.7091 - accuracy: 0.7439\n",
      "Epoch 6: saving model to model/point_history_classifier\\point_history_classifier.hdf5\n",
      "15/15 [==============================] - 1s 42ms/step - loss: 0.7097 - accuracy: 0.7432 - val_loss: 0.5915 - val_accuracy: 0.7837\n",
      "Epoch 7/1000\n",
      "15/15 [==============================] - ETA: 0s - loss: 0.6339 - accuracy: 0.7725\n",
      "Epoch 7: saving model to model/point_history_classifier\\point_history_classifier.hdf5\n",
      "15/15 [==============================] - 1s 41ms/step - loss: 0.6339 - accuracy: 0.7725 - val_loss: 0.5671 - val_accuracy: 0.7870\n",
      "Epoch 8/1000\n",
      "14/15 [===========================>..] - ETA: 0s - loss: 0.5819 - accuracy: 0.7690\n",
      "Epoch 8: saving model to model/point_history_classifier\\point_history_classifier.hdf5\n",
      "15/15 [==============================] - 1s 41ms/step - loss: 0.5798 - accuracy: 0.7709 - val_loss: 0.5120 - val_accuracy: 0.7951\n",
      "Epoch 9/1000\n",
      "15/15 [==============================] - ETA: 0s - loss: 0.5594 - accuracy: 0.7850\n",
      "Epoch 9: saving model to model/point_history_classifier\\point_history_classifier.hdf5\n",
      "15/15 [==============================] - 1s 43ms/step - loss: 0.5594 - accuracy: 0.7850 - val_loss: 0.4861 - val_accuracy: 0.8049\n",
      "Epoch 10/1000\n",
      "14/15 [===========================>..] - ETA: 0s - loss: 0.5494 - accuracy: 0.7695\n",
      "Epoch 10: saving model to model/point_history_classifier\\point_history_classifier.hdf5\n",
      "15/15 [==============================] - 1s 41ms/step - loss: 0.5480 - accuracy: 0.7682 - val_loss: 0.5097 - val_accuracy: 0.7919\n",
      "Epoch 11/1000\n",
      "14/15 [===========================>..] - ETA: 0s - loss: 0.5195 - accuracy: 0.7930\n",
      "Epoch 11: saving model to model/point_history_classifier\\point_history_classifier.hdf5\n",
      "15/15 [==============================] - 1s 41ms/step - loss: 0.5135 - accuracy: 0.7959 - val_loss: 0.5171 - val_accuracy: 0.8016\n",
      "Epoch 12/1000\n",
      "14/15 [===========================>..] - ETA: 0s - loss: 0.5334 - accuracy: 0.7969\n",
      "Epoch 12: saving model to model/point_history_classifier\\point_history_classifier.hdf5\n",
      "15/15 [==============================] - 1s 42ms/step - loss: 0.5344 - accuracy: 0.7959 - val_loss: 0.4784 - val_accuracy: 0.8195\n",
      "Epoch 13/1000\n",
      "15/15 [==============================] - ETA: 0s - loss: 0.4985 - accuracy: 0.8018\n",
      "Epoch 13: saving model to model/point_history_classifier\\point_history_classifier.hdf5\n",
      "15/15 [==============================] - 1s 41ms/step - loss: 0.4985 - accuracy: 0.8018 - val_loss: 0.4568 - val_accuracy: 0.8130\n",
      "Epoch 14/1000\n",
      "15/15 [==============================] - ETA: 0s - loss: 0.4771 - accuracy: 0.8203\n",
      "Epoch 14: saving model to model/point_history_classifier\\point_history_classifier.hdf5\n",
      "15/15 [==============================] - 1s 42ms/step - loss: 0.4771 - accuracy: 0.8203 - val_loss: 0.4563 - val_accuracy: 0.8130\n",
      "Epoch 15/1000\n",
      "14/15 [===========================>..] - ETA: 0s - loss: 0.4758 - accuracy: 0.8125\n",
      "Epoch 15: saving model to model/point_history_classifier\\point_history_classifier.hdf5\n",
      "15/15 [==============================] - 1s 41ms/step - loss: 0.4798 - accuracy: 0.8105 - val_loss: 0.4371 - val_accuracy: 0.8244\n",
      "Epoch 16/1000\n",
      "15/15 [==============================] - ETA: 0s - loss: 0.4629 - accuracy: 0.8170\n",
      "Epoch 16: saving model to model/point_history_classifier\\point_history_classifier.hdf5\n",
      "15/15 [==============================] - 1s 43ms/step - loss: 0.4629 - accuracy: 0.8170 - val_loss: 0.4279 - val_accuracy: 0.8341\n",
      "Epoch 17/1000\n",
      "15/15 [==============================] - ETA: 0s - loss: 0.4484 - accuracy: 0.8306\n",
      "Epoch 17: saving model to model/point_history_classifier\\point_history_classifier.hdf5\n",
      "15/15 [==============================] - 1s 43ms/step - loss: 0.4484 - accuracy: 0.8306 - val_loss: 0.4278 - val_accuracy: 0.8293\n",
      "Epoch 18/1000\n",
      "15/15 [==============================] - ETA: 0s - loss: 0.4415 - accuracy: 0.8333\n",
      "Epoch 18: saving model to model/point_history_classifier\\point_history_classifier.hdf5\n",
      "15/15 [==============================] - 1s 40ms/step - loss: 0.4415 - accuracy: 0.8333 - val_loss: 0.4344 - val_accuracy: 0.8618\n",
      "Epoch 19/1000\n",
      "15/15 [==============================] - ETA: 0s - loss: 0.4752 - accuracy: 0.8420\n",
      "Epoch 19: saving model to model/point_history_classifier\\point_history_classifier.hdf5\n",
      "15/15 [==============================] - 1s 43ms/step - loss: 0.4752 - accuracy: 0.8420 - val_loss: 0.4021 - val_accuracy: 0.8650\n",
      "Epoch 20/1000\n",
      "14/15 [===========================>..] - ETA: 0s - loss: 0.4458 - accuracy: 0.8421\n",
      "Epoch 20: saving model to model/point_history_classifier\\point_history_classifier.hdf5\n",
      "15/15 [==============================] - 1s 41ms/step - loss: 0.4437 - accuracy: 0.8420 - val_loss: 0.3966 - val_accuracy: 0.8618\n",
      "Epoch 21/1000\n",
      "15/15 [==============================] - ETA: 0s - loss: 0.4074 - accuracy: 0.8578\n",
      "Epoch 21: saving model to model/point_history_classifier\\point_history_classifier.hdf5\n",
      "15/15 [==============================] - 1s 45ms/step - loss: 0.4074 - accuracy: 0.8578 - val_loss: 0.3660 - val_accuracy: 0.8715\n",
      "Epoch 22/1000\n",
      "15/15 [==============================] - ETA: 0s - loss: 0.3997 - accuracy: 0.8659\n",
      "Epoch 22: saving model to model/point_history_classifier\\point_history_classifier.hdf5\n",
      "15/15 [==============================] - 1s 46ms/step - loss: 0.3997 - accuracy: 0.8659 - val_loss: 0.3916 - val_accuracy: 0.8683\n",
      "Epoch 23/1000\n",
      "14/15 [===========================>..] - ETA: 0s - loss: 0.4004 - accuracy: 0.8616\n",
      "Epoch 23: saving model to model/point_history_classifier\\point_history_classifier.hdf5\n",
      "15/15 [==============================] - 1s 46ms/step - loss: 0.4029 - accuracy: 0.8610 - val_loss: 0.3732 - val_accuracy: 0.8748\n",
      "Epoch 24/1000\n",
      "15/15 [==============================] - ETA: 0s - loss: 0.3917 - accuracy: 0.8713\n",
      "Epoch 24: saving model to model/point_history_classifier\\point_history_classifier.hdf5\n",
      "15/15 [==============================] - 1s 47ms/step - loss: 0.3917 - accuracy: 0.8713 - val_loss: 0.3617 - val_accuracy: 0.8715\n",
      "Epoch 25/1000\n",
      "14/15 [===========================>..] - ETA: 0s - loss: 0.3890 - accuracy: 0.8666\n",
      "Epoch 25: saving model to model/point_history_classifier\\point_history_classifier.hdf5\n",
      "15/15 [==============================] - 1s 47ms/step - loss: 0.3901 - accuracy: 0.8654 - val_loss: 0.3802 - val_accuracy: 0.8634\n",
      "Epoch 26/1000\n",
      "14/15 [===========================>..] - ETA: 0s - loss: 0.3797 - accuracy: 0.8722\n",
      "Epoch 26: saving model to model/point_history_classifier\\point_history_classifier.hdf5\n",
      "15/15 [==============================] - 1s 41ms/step - loss: 0.3817 - accuracy: 0.8724 - val_loss: 0.3378 - val_accuracy: 0.8829\n",
      "Epoch 27/1000\n"
     ]
    },
    {
     "name": "stdout",
     "output_type": "stream",
     "text": [
      "15/15 [==============================] - ETA: 0s - loss: 0.3836 - accuracy: 0.8654\n",
      "Epoch 27: saving model to model/point_history_classifier\\point_history_classifier.hdf5\n",
      "15/15 [==============================] - 1s 47ms/step - loss: 0.3836 - accuracy: 0.8654 - val_loss: 0.3557 - val_accuracy: 0.8829\n",
      "Epoch 28/1000\n",
      "15/15 [==============================] - ETA: 0s - loss: 0.3766 - accuracy: 0.8664\n",
      "Epoch 28: saving model to model/point_history_classifier\\point_history_classifier.hdf5\n",
      "15/15 [==============================] - 1s 45ms/step - loss: 0.3766 - accuracy: 0.8664 - val_loss: 0.3318 - val_accuracy: 0.8748\n",
      "Epoch 29/1000\n",
      "14/15 [===========================>..] - ETA: 0s - loss: 0.3623 - accuracy: 0.8772\n",
      "Epoch 29: saving model to model/point_history_classifier\\point_history_classifier.hdf5\n",
      "15/15 [==============================] - 1s 41ms/step - loss: 0.3640 - accuracy: 0.8773 - val_loss: 0.3894 - val_accuracy: 0.8780\n",
      "Epoch 30/1000\n",
      "15/15 [==============================] - ETA: 0s - loss: 0.3678 - accuracy: 0.8773\n",
      "Epoch 30: saving model to model/point_history_classifier\\point_history_classifier.hdf5\n",
      "15/15 [==============================] - 1s 42ms/step - loss: 0.3678 - accuracy: 0.8773 - val_loss: 0.3492 - val_accuracy: 0.8732\n",
      "Epoch 31/1000\n",
      "14/15 [===========================>..] - ETA: 0s - loss: 0.3604 - accuracy: 0.8795\n",
      "Epoch 31: saving model to model/point_history_classifier\\point_history_classifier.hdf5\n",
      "15/15 [==============================] - 1s 43ms/step - loss: 0.3613 - accuracy: 0.8784 - val_loss: 0.3362 - val_accuracy: 0.8878\n",
      "Epoch 32/1000\n",
      "14/15 [===========================>..] - ETA: 0s - loss: 0.3616 - accuracy: 0.8800\n",
      "Epoch 32: saving model to model/point_history_classifier\\point_history_classifier.hdf5\n",
      "15/15 [==============================] - 1s 46ms/step - loss: 0.3600 - accuracy: 0.8806 - val_loss: 0.3320 - val_accuracy: 0.8748\n",
      "Epoch 33/1000\n",
      "13/15 [=========================>....] - ETA: 0s - loss: 0.3527 - accuracy: 0.8840\n",
      "Epoch 33: saving model to model/point_history_classifier\\point_history_classifier.hdf5\n",
      "15/15 [==============================] - 1s 42ms/step - loss: 0.3492 - accuracy: 0.8865 - val_loss: 0.3226 - val_accuracy: 0.8829\n",
      "Epoch 34/1000\n",
      "15/15 [==============================] - ETA: 0s - loss: 0.3716 - accuracy: 0.8795\n",
      "Epoch 34: saving model to model/point_history_classifier\\point_history_classifier.hdf5\n",
      "15/15 [==============================] - 1s 50ms/step - loss: 0.3716 - accuracy: 0.8795 - val_loss: 0.3529 - val_accuracy: 0.8715\n",
      "Epoch 35/1000\n",
      "15/15 [==============================] - ETA: 0s - loss: 0.3631 - accuracy: 0.8789\n",
      "Epoch 35: saving model to model/point_history_classifier\\point_history_classifier.hdf5\n",
      "15/15 [==============================] - 1s 49ms/step - loss: 0.3631 - accuracy: 0.8789 - val_loss: 0.3363 - val_accuracy: 0.8813\n",
      "Epoch 36/1000\n",
      "14/15 [===========================>..] - ETA: 0s - loss: 0.3582 - accuracy: 0.8811\n",
      "Epoch 36: saving model to model/point_history_classifier\\point_history_classifier.hdf5\n",
      "15/15 [==============================] - 1s 45ms/step - loss: 0.3589 - accuracy: 0.8800 - val_loss: 0.3210 - val_accuracy: 0.8829\n",
      "Epoch 37/1000\n",
      "14/15 [===========================>..] - ETA: 0s - loss: 0.3378 - accuracy: 0.8828\n",
      "Epoch 37: saving model to model/point_history_classifier\\point_history_classifier.hdf5\n",
      "15/15 [==============================] - 1s 46ms/step - loss: 0.3404 - accuracy: 0.8811 - val_loss: 0.3367 - val_accuracy: 0.8829\n",
      "Epoch 38/1000\n",
      "15/15 [==============================] - ETA: 0s - loss: 0.3490 - accuracy: 0.8822\n",
      "Epoch 38: saving model to model/point_history_classifier\\point_history_classifier.hdf5\n",
      "15/15 [==============================] - 1s 45ms/step - loss: 0.3490 - accuracy: 0.8822 - val_loss: 0.3243 - val_accuracy: 0.8894\n",
      "Epoch 39/1000\n",
      "14/15 [===========================>..] - ETA: 0s - loss: 0.3384 - accuracy: 0.8895\n",
      "Epoch 39: saving model to model/point_history_classifier\\point_history_classifier.hdf5\n",
      "15/15 [==============================] - 1s 45ms/step - loss: 0.3467 - accuracy: 0.8855 - val_loss: 0.3268 - val_accuracy: 0.8862\n",
      "Epoch 40/1000\n",
      "15/15 [==============================] - ETA: 0s - loss: 0.3465 - accuracy: 0.8860\n",
      "Epoch 40: saving model to model/point_history_classifier\\point_history_classifier.hdf5\n",
      "15/15 [==============================] - 1s 46ms/step - loss: 0.3465 - accuracy: 0.8860 - val_loss: 0.3147 - val_accuracy: 0.8992\n",
      "Epoch 41/1000\n",
      "14/15 [===========================>..] - ETA: 0s - loss: 0.3238 - accuracy: 0.8940\n",
      "Epoch 41: saving model to model/point_history_classifier\\point_history_classifier.hdf5\n",
      "15/15 [==============================] - 1s 42ms/step - loss: 0.3243 - accuracy: 0.8947 - val_loss: 0.3071 - val_accuracy: 0.8943\n",
      "Epoch 42/1000\n",
      "15/15 [==============================] - ETA: 0s - loss: 0.3294 - accuracy: 0.8936\n",
      "Epoch 42: saving model to model/point_history_classifier\\point_history_classifier.hdf5\n",
      "15/15 [==============================] - 1s 46ms/step - loss: 0.3294 - accuracy: 0.8936 - val_loss: 0.3095 - val_accuracy: 0.8943\n",
      "Epoch 43/1000\n",
      "13/15 [=========================>....] - ETA: 0s - loss: 0.3285 - accuracy: 0.8984\n",
      "Epoch 43: saving model to model/point_history_classifier\\point_history_classifier.hdf5\n",
      "15/15 [==============================] - 1s 43ms/step - loss: 0.3272 - accuracy: 0.8963 - val_loss: 0.3376 - val_accuracy: 0.8878\n",
      "Epoch 44/1000\n",
      "15/15 [==============================] - ETA: 0s - loss: 0.3304 - accuracy: 0.8909\n",
      "Epoch 44: saving model to model/point_history_classifier\\point_history_classifier.hdf5\n",
      "15/15 [==============================] - 1s 44ms/step - loss: 0.3304 - accuracy: 0.8909 - val_loss: 0.3411 - val_accuracy: 0.8894\n",
      "Epoch 45/1000\n",
      "14/15 [===========================>..] - ETA: 0s - loss: 0.4115 - accuracy: 0.8711\n",
      "Epoch 45: saving model to model/point_history_classifier\\point_history_classifier.hdf5\n",
      "15/15 [==============================] - 1s 48ms/step - loss: 0.4095 - accuracy: 0.8719 - val_loss: 0.3461 - val_accuracy: 0.8878\n",
      "Epoch 46/1000\n",
      "14/15 [===========================>..] - ETA: 0s - loss: 0.3303 - accuracy: 0.8884\n",
      "Epoch 46: saving model to model/point_history_classifier\\point_history_classifier.hdf5\n",
      "15/15 [==============================] - 1s 47ms/step - loss: 0.3296 - accuracy: 0.8882 - val_loss: 0.3016 - val_accuracy: 0.8959\n",
      "Epoch 47/1000\n",
      "15/15 [==============================] - ETA: 0s - loss: 0.3269 - accuracy: 0.8903\n",
      "Epoch 47: saving model to model/point_history_classifier\\point_history_classifier.hdf5\n",
      "15/15 [==============================] - 1s 49ms/step - loss: 0.3269 - accuracy: 0.8903 - val_loss: 0.3052 - val_accuracy: 0.9041\n",
      "Epoch 48/1000\n",
      "14/15 [===========================>..] - ETA: 0s - loss: 0.3050 - accuracy: 0.8984\n",
      "Epoch 48: saving model to model/point_history_classifier\\point_history_classifier.hdf5\n",
      "15/15 [==============================] - 1s 48ms/step - loss: 0.3046 - accuracy: 0.8990 - val_loss: 0.2931 - val_accuracy: 0.9073\n",
      "Epoch 49/1000\n",
      "15/15 [==============================] - ETA: 0s - loss: 0.3059 - accuracy: 0.8974\n",
      "Epoch 49: saving model to model/point_history_classifier\\point_history_classifier.hdf5\n",
      "15/15 [==============================] - 1s 52ms/step - loss: 0.3059 - accuracy: 0.8974 - val_loss: 0.3039 - val_accuracy: 0.8943\n",
      "Epoch 50/1000\n",
      "15/15 [==============================] - ETA: 0s - loss: 0.3196 - accuracy: 0.8990\n",
      "Epoch 50: saving model to model/point_history_classifier\\point_history_classifier.hdf5\n",
      "15/15 [==============================] - 1s 46ms/step - loss: 0.3196 - accuracy: 0.8990 - val_loss: 0.2985 - val_accuracy: 0.9024\n",
      "Epoch 51/1000\n",
      "14/15 [===========================>..] - ETA: 0s - loss: 0.3189 - accuracy: 0.8979\n",
      "Epoch 51: saving model to model/point_history_classifier\\point_history_classifier.hdf5\n",
      "15/15 [==============================] - 1s 45ms/step - loss: 0.3155 - accuracy: 0.8990 - val_loss: 0.2871 - val_accuracy: 0.8943\n",
      "Epoch 52/1000\n",
      "14/15 [===========================>..] - ETA: 0s - loss: 0.3110 - accuracy: 0.8973\n",
      "Epoch 52: saving model to model/point_history_classifier\\point_history_classifier.hdf5\n",
      "15/15 [==============================] - 1s 46ms/step - loss: 0.3066 - accuracy: 0.8996 - val_loss: 0.2827 - val_accuracy: 0.9089\n",
      "Epoch 53/1000\n"
     ]
    },
    {
     "name": "stdout",
     "output_type": "stream",
     "text": [
      "14/15 [===========================>..] - ETA: 0s - loss: 0.3146 - accuracy: 0.8984\n",
      "Epoch 53: saving model to model/point_history_classifier\\point_history_classifier.hdf5\n",
      "15/15 [==============================] - 1s 44ms/step - loss: 0.3110 - accuracy: 0.8996 - val_loss: 0.3030 - val_accuracy: 0.8862\n",
      "Epoch 54/1000\n",
      "15/15 [==============================] - ETA: 0s - loss: 0.3046 - accuracy: 0.9012\n",
      "Epoch 54: saving model to model/point_history_classifier\\point_history_classifier.hdf5\n",
      "15/15 [==============================] - 1s 45ms/step - loss: 0.3046 - accuracy: 0.9012 - val_loss: 0.2792 - val_accuracy: 0.9122\n",
      "Epoch 55/1000\n",
      "14/15 [===========================>..] - ETA: 0s - loss: 0.2914 - accuracy: 0.9090\n",
      "Epoch 55: saving model to model/point_history_classifier\\point_history_classifier.hdf5\n",
      "15/15 [==============================] - 1s 44ms/step - loss: 0.2912 - accuracy: 0.9083 - val_loss: 0.2746 - val_accuracy: 0.9073\n",
      "Epoch 56/1000\n",
      "15/15 [==============================] - ETA: 0s - loss: 0.2824 - accuracy: 0.9093\n",
      "Epoch 56: saving model to model/point_history_classifier\\point_history_classifier.hdf5\n",
      "15/15 [==============================] - 1s 45ms/step - loss: 0.2824 - accuracy: 0.9093 - val_loss: 0.2693 - val_accuracy: 0.9138\n",
      "Epoch 57/1000\n",
      "13/15 [=========================>....] - ETA: 0s - loss: 0.2986 - accuracy: 0.9002\n",
      "Epoch 57: saving model to model/point_history_classifier\\point_history_classifier.hdf5\n",
      "15/15 [==============================] - 1s 44ms/step - loss: 0.2914 - accuracy: 0.9023 - val_loss: 0.2696 - val_accuracy: 0.9057\n",
      "Epoch 58/1000\n",
      "15/15 [==============================] - ETA: 0s - loss: 0.3058 - accuracy: 0.9012\n",
      "Epoch 58: saving model to model/point_history_classifier\\point_history_classifier.hdf5\n",
      "15/15 [==============================] - 1s 45ms/step - loss: 0.3058 - accuracy: 0.9012 - val_loss: 0.2854 - val_accuracy: 0.9024\n",
      "Epoch 59/1000\n",
      "14/15 [===========================>..] - ETA: 0s - loss: 0.2932 - accuracy: 0.9062\n",
      "Epoch 59: saving model to model/point_history_classifier\\point_history_classifier.hdf5\n",
      "15/15 [==============================] - 1s 43ms/step - loss: 0.2905 - accuracy: 0.9066 - val_loss: 0.2985 - val_accuracy: 0.8959\n",
      "Epoch 60/1000\n",
      "15/15 [==============================] - ETA: 0s - loss: 0.2976 - accuracy: 0.9045\n",
      "Epoch 60: saving model to model/point_history_classifier\\point_history_classifier.hdf5\n",
      "15/15 [==============================] - 1s 46ms/step - loss: 0.2976 - accuracy: 0.9045 - val_loss: 0.2721 - val_accuracy: 0.9024\n",
      "Epoch 61/1000\n",
      "15/15 [==============================] - ETA: 0s - loss: 0.2907 - accuracy: 0.9083\n",
      "Epoch 61: saving model to model/point_history_classifier\\point_history_classifier.hdf5\n",
      "15/15 [==============================] - 1s 45ms/step - loss: 0.2907 - accuracy: 0.9083 - val_loss: 0.2782 - val_accuracy: 0.9187\n",
      "Epoch 62/1000\n",
      "14/15 [===========================>..] - ETA: 0s - loss: 0.2770 - accuracy: 0.9135\n",
      "Epoch 62: saving model to model/point_history_classifier\\point_history_classifier.hdf5\n",
      "15/15 [==============================] - 1s 44ms/step - loss: 0.2785 - accuracy: 0.9126 - val_loss: 0.2820 - val_accuracy: 0.9073\n",
      "Epoch 63/1000\n",
      "15/15 [==============================] - ETA: 0s - loss: 0.3051 - accuracy: 0.9077\n",
      "Epoch 63: saving model to model/point_history_classifier\\point_history_classifier.hdf5\n",
      "15/15 [==============================] - 1s 46ms/step - loss: 0.3051 - accuracy: 0.9077 - val_loss: 0.2703 - val_accuracy: 0.9203\n",
      "Epoch 64/1000\n",
      "15/15 [==============================] - ETA: 0s - loss: 0.2710 - accuracy: 0.9186\n",
      "Epoch 64: saving model to model/point_history_classifier\\point_history_classifier.hdf5\n",
      "15/15 [==============================] - 1s 43ms/step - loss: 0.2710 - accuracy: 0.9186 - val_loss: 0.2635 - val_accuracy: 0.9106\n",
      "Epoch 65/1000\n",
      "13/15 [=========================>....] - ETA: 0s - loss: 0.2571 - accuracy: 0.9195\n",
      "Epoch 65: saving model to model/point_history_classifier\\point_history_classifier.hdf5\n",
      "15/15 [==============================] - 1s 43ms/step - loss: 0.2711 - accuracy: 0.9137 - val_loss: 0.2581 - val_accuracy: 0.9187\n",
      "Epoch 66/1000\n",
      "15/15 [==============================] - ETA: 0s - loss: 0.2676 - accuracy: 0.9164\n",
      "Epoch 66: saving model to model/point_history_classifier\\point_history_classifier.hdf5\n",
      "15/15 [==============================] - 1s 45ms/step - loss: 0.2676 - accuracy: 0.9164 - val_loss: 0.2550 - val_accuracy: 0.9220\n",
      "Epoch 67/1000\n",
      "15/15 [==============================] - ETA: 0s - loss: 0.2743 - accuracy: 0.9164\n",
      "Epoch 67: saving model to model/point_history_classifier\\point_history_classifier.hdf5\n",
      "15/15 [==============================] - 1s 45ms/step - loss: 0.2743 - accuracy: 0.9164 - val_loss: 0.2670 - val_accuracy: 0.9171\n",
      "Epoch 68/1000\n",
      "13/15 [=========================>....] - ETA: 0s - loss: 0.2487 - accuracy: 0.9261\n",
      "Epoch 68: saving model to model/point_history_classifier\\point_history_classifier.hdf5\n",
      "15/15 [==============================] - 1s 43ms/step - loss: 0.2543 - accuracy: 0.9251 - val_loss: 0.2601 - val_accuracy: 0.9171\n",
      "Epoch 69/1000\n",
      "15/15 [==============================] - ETA: 0s - loss: 0.2700 - accuracy: 0.9169\n",
      "Epoch 69: saving model to model/point_history_classifier\\point_history_classifier.hdf5\n",
      "15/15 [==============================] - 1s 47ms/step - loss: 0.2700 - accuracy: 0.9169 - val_loss: 0.2458 - val_accuracy: 0.9268\n",
      "Epoch 70/1000\n",
      "15/15 [==============================] - ETA: 0s - loss: 0.2626 - accuracy: 0.9153\n",
      "Epoch 70: saving model to model/point_history_classifier\\point_history_classifier.hdf5\n",
      "15/15 [==============================] - 1s 49ms/step - loss: 0.2626 - accuracy: 0.9153 - val_loss: 0.2643 - val_accuracy: 0.9187\n",
      "Epoch 71/1000\n",
      "15/15 [==============================] - ETA: 0s - loss: 0.2737 - accuracy: 0.9137\n",
      "Epoch 71: saving model to model/point_history_classifier\\point_history_classifier.hdf5\n",
      "15/15 [==============================] - 1s 47ms/step - loss: 0.2737 - accuracy: 0.9137 - val_loss: 0.2569 - val_accuracy: 0.9220\n",
      "Epoch 72/1000\n",
      "15/15 [==============================] - ETA: 0s - loss: 0.2653 - accuracy: 0.9180\n",
      "Epoch 72: saving model to model/point_history_classifier\\point_history_classifier.hdf5\n",
      "15/15 [==============================] - 1s 49ms/step - loss: 0.2653 - accuracy: 0.9180 - val_loss: 0.2535 - val_accuracy: 0.9252\n",
      "Epoch 73/1000\n",
      "15/15 [==============================] - ETA: 0s - loss: 0.2696 - accuracy: 0.9207\n",
      "Epoch 73: saving model to model/point_history_classifier\\point_history_classifier.hdf5\n",
      "15/15 [==============================] - 1s 49ms/step - loss: 0.2696 - accuracy: 0.9207 - val_loss: 0.2670 - val_accuracy: 0.9203\n",
      "Epoch 74/1000\n",
      "15/15 [==============================] - ETA: 0s - loss: 0.2618 - accuracy: 0.9186\n",
      "Epoch 74: saving model to model/point_history_classifier\\point_history_classifier.hdf5\n",
      "15/15 [==============================] - 1s 45ms/step - loss: 0.2618 - accuracy: 0.9186 - val_loss: 0.2465 - val_accuracy: 0.9285\n",
      "Epoch 75/1000\n",
      "13/15 [=========================>....] - ETA: 0s - loss: 0.2489 - accuracy: 0.9219\n",
      "Epoch 75: saving model to model/point_history_classifier\\point_history_classifier.hdf5\n",
      "15/15 [==============================] - 1s 44ms/step - loss: 0.2426 - accuracy: 0.9245 - val_loss: 0.2369 - val_accuracy: 0.9350\n",
      "Epoch 76/1000\n",
      "15/15 [==============================] - ETA: 0s - loss: 0.2579 - accuracy: 0.9224\n",
      "Epoch 76: saving model to model/point_history_classifier\\point_history_classifier.hdf5\n",
      "15/15 [==============================] - 1s 45ms/step - loss: 0.2579 - accuracy: 0.9224 - val_loss: 0.2601 - val_accuracy: 0.9106\n",
      "Epoch 77/1000\n",
      "14/15 [===========================>..] - ETA: 0s - loss: 0.2672 - accuracy: 0.9202\n",
      "Epoch 77: saving model to model/point_history_classifier\\point_history_classifier.hdf5\n",
      "15/15 [==============================] - 1s 43ms/step - loss: 0.2650 - accuracy: 0.9207 - val_loss: 0.2435 - val_accuracy: 0.9317\n",
      "Epoch 78/1000\n",
      "14/15 [===========================>..] - ETA: 0s - loss: 0.2484 - accuracy: 0.9302\n",
      "Epoch 78: saving model to model/point_history_classifier\\point_history_classifier.hdf5\n",
      "15/15 [==============================] - 1s 45ms/step - loss: 0.2495 - accuracy: 0.9289 - val_loss: 0.2772 - val_accuracy: 0.9041\n",
      "Epoch 79/1000\n"
     ]
    },
    {
     "name": "stdout",
     "output_type": "stream",
     "text": [
      "15/15 [==============================] - ETA: 0s - loss: 0.2500 - accuracy: 0.9300\n",
      "Epoch 79: saving model to model/point_history_classifier\\point_history_classifier.hdf5\n",
      "15/15 [==============================] - 1s 47ms/step - loss: 0.2500 - accuracy: 0.9300 - val_loss: 0.2624 - val_accuracy: 0.9138\n",
      "Epoch 80/1000\n",
      "15/15 [==============================] - ETA: 0s - loss: 0.2529 - accuracy: 0.9251\n",
      "Epoch 80: saving model to model/point_history_classifier\\point_history_classifier.hdf5\n",
      "15/15 [==============================] - 1s 44ms/step - loss: 0.2529 - accuracy: 0.9251 - val_loss: 0.2411 - val_accuracy: 0.9268\n",
      "Epoch 81/1000\n",
      "15/15 [==============================] - ETA: 0s - loss: 0.2405 - accuracy: 0.9278\n",
      "Epoch 81: saving model to model/point_history_classifier\\point_history_classifier.hdf5\n",
      "15/15 [==============================] - 1s 45ms/step - loss: 0.2405 - accuracy: 0.9278 - val_loss: 0.2438 - val_accuracy: 0.9220\n",
      "Epoch 82/1000\n",
      "15/15 [==============================] - ETA: 0s - loss: 0.2507 - accuracy: 0.9289\n",
      "Epoch 82: saving model to model/point_history_classifier\\point_history_classifier.hdf5\n",
      "15/15 [==============================] - 1s 46ms/step - loss: 0.2507 - accuracy: 0.9289 - val_loss: 0.2504 - val_accuracy: 0.9171\n",
      "Epoch 83/1000\n",
      "13/15 [=========================>....] - ETA: 0s - loss: 0.2615 - accuracy: 0.9225\n",
      "Epoch 83: saving model to model/point_history_classifier\\point_history_classifier.hdf5\n",
      "15/15 [==============================] - 1s 43ms/step - loss: 0.2499 - accuracy: 0.9267 - val_loss: 0.2521 - val_accuracy: 0.9317\n",
      "Epoch 84/1000\n",
      "15/15 [==============================] - ETA: 0s - loss: 0.2488 - accuracy: 0.9240\n",
      "Epoch 84: saving model to model/point_history_classifier\\point_history_classifier.hdf5\n",
      "15/15 [==============================] - 1s 46ms/step - loss: 0.2488 - accuracy: 0.9240 - val_loss: 0.2400 - val_accuracy: 0.9236\n",
      "Epoch 85/1000\n",
      "14/15 [===========================>..] - ETA: 0s - loss: 0.2530 - accuracy: 0.9308\n",
      "Epoch 85: saving model to model/point_history_classifier\\point_history_classifier.hdf5\n",
      "15/15 [==============================] - 1s 44ms/step - loss: 0.2516 - accuracy: 0.9311 - val_loss: 0.2413 - val_accuracy: 0.9268\n",
      "Epoch 86/1000\n",
      "15/15 [==============================] - ETA: 0s - loss: 0.2555 - accuracy: 0.9245\n",
      "Epoch 86: saving model to model/point_history_classifier\\point_history_classifier.hdf5\n",
      "15/15 [==============================] - 1s 43ms/step - loss: 0.2555 - accuracy: 0.9245 - val_loss: 0.2487 - val_accuracy: 0.9203\n",
      "Epoch 87/1000\n",
      "15/15 [==============================] - ETA: 0s - loss: 0.2443 - accuracy: 0.9278\n",
      "Epoch 87: saving model to model/point_history_classifier\\point_history_classifier.hdf5\n",
      "15/15 [==============================] - 1s 45ms/step - loss: 0.2443 - accuracy: 0.9278 - val_loss: 0.2589 - val_accuracy: 0.9073\n",
      "Epoch 88/1000\n",
      "15/15 [==============================] - ETA: 0s - loss: 0.2414 - accuracy: 0.9327\n",
      "Epoch 88: saving model to model/point_history_classifier\\point_history_classifier.hdf5\n",
      "15/15 [==============================] - 1s 46ms/step - loss: 0.2414 - accuracy: 0.9327 - val_loss: 0.2320 - val_accuracy: 0.9301\n",
      "Epoch 89/1000\n",
      "14/15 [===========================>..] - ETA: 0s - loss: 0.2340 - accuracy: 0.9336\n",
      "Epoch 89: saving model to model/point_history_classifier\\point_history_classifier.hdf5\n",
      "15/15 [==============================] - 1s 42ms/step - loss: 0.2368 - accuracy: 0.9332 - val_loss: 0.3090 - val_accuracy: 0.9122\n",
      "Epoch 90/1000\n",
      "13/15 [=========================>....] - ETA: 0s - loss: 0.2385 - accuracy: 0.9273\n",
      "Epoch 90: saving model to model/point_history_classifier\\point_history_classifier.hdf5\n",
      "15/15 [==============================] - 1s 45ms/step - loss: 0.2397 - accuracy: 0.9278 - val_loss: 0.2295 - val_accuracy: 0.9285\n",
      "Epoch 91/1000\n",
      "15/15 [==============================] - ETA: 0s - loss: 0.2425 - accuracy: 0.9267\n",
      "Epoch 91: saving model to model/point_history_classifier\\point_history_classifier.hdf5\n",
      "15/15 [==============================] - 1s 44ms/step - loss: 0.2425 - accuracy: 0.9267 - val_loss: 0.2441 - val_accuracy: 0.9252\n",
      "Epoch 92/1000\n",
      "15/15 [==============================] - ETA: 0s - loss: 0.2441 - accuracy: 0.9240\n",
      "Epoch 92: saving model to model/point_history_classifier\\point_history_classifier.hdf5\n",
      "15/15 [==============================] - 1s 44ms/step - loss: 0.2441 - accuracy: 0.9240 - val_loss: 0.2741 - val_accuracy: 0.9220\n",
      "Epoch 93/1000\n",
      "14/15 [===========================>..] - ETA: 0s - loss: 0.2762 - accuracy: 0.9174\n",
      "Epoch 93: saving model to model/point_history_classifier\\point_history_classifier.hdf5\n",
      "15/15 [==============================] - 1s 49ms/step - loss: 0.2757 - accuracy: 0.9175 - val_loss: 0.2489 - val_accuracy: 0.9203\n",
      "Epoch 94/1000\n",
      "14/15 [===========================>..] - ETA: 0s - loss: 0.2521 - accuracy: 0.9241\n",
      "Epoch 94: saving model to model/point_history_classifier\\point_history_classifier.hdf5\n",
      "15/15 [==============================] - 1s 47ms/step - loss: 0.2526 - accuracy: 0.9251 - val_loss: 0.2396 - val_accuracy: 0.9220\n",
      "Epoch 95/1000\n",
      "15/15 [==============================] - ETA: 0s - loss: 0.2228 - accuracy: 0.9332\n",
      "Epoch 95: saving model to model/point_history_classifier\\point_history_classifier.hdf5\n",
      "15/15 [==============================] - 1s 48ms/step - loss: 0.2228 - accuracy: 0.9332 - val_loss: 0.2305 - val_accuracy: 0.9301\n",
      "Epoch 96/1000\n",
      "13/15 [=========================>....] - ETA: 0s - loss: 0.2277 - accuracy: 0.9387\n",
      "Epoch 96: saving model to model/point_history_classifier\\point_history_classifier.hdf5\n",
      "15/15 [==============================] - 1s 47ms/step - loss: 0.2266 - accuracy: 0.9392 - val_loss: 0.2332 - val_accuracy: 0.9285\n",
      "Epoch 97/1000\n",
      "15/15 [==============================] - ETA: 0s - loss: 0.2402 - accuracy: 0.9289\n",
      "Epoch 97: saving model to model/point_history_classifier\\point_history_classifier.hdf5\n",
      "15/15 [==============================] - 1s 49ms/step - loss: 0.2402 - accuracy: 0.9289 - val_loss: 0.2315 - val_accuracy: 0.9301\n",
      "Epoch 98/1000\n",
      "13/15 [=========================>....] - ETA: 0s - loss: 0.2372 - accuracy: 0.9315\n",
      "Epoch 98: saving model to model/point_history_classifier\\point_history_classifier.hdf5\n",
      "15/15 [==============================] - 1s 42ms/step - loss: 0.2392 - accuracy: 0.9305 - val_loss: 0.2337 - val_accuracy: 0.9285\n",
      "Epoch 99/1000\n",
      "14/15 [===========================>..] - ETA: 0s - loss: 0.2255 - accuracy: 0.9330\n",
      "Epoch 99: saving model to model/point_history_classifier\\point_history_classifier.hdf5\n",
      "15/15 [==============================] - 1s 45ms/step - loss: 0.2299 - accuracy: 0.9305 - val_loss: 0.2357 - val_accuracy: 0.9252\n",
      "Epoch 100/1000\n",
      "14/15 [===========================>..] - ETA: 0s - loss: 0.2337 - accuracy: 0.9369\n",
      "Epoch 100: saving model to model/point_history_classifier\\point_history_classifier.hdf5\n",
      "15/15 [==============================] - 1s 45ms/step - loss: 0.2332 - accuracy: 0.9370 - val_loss: 0.2575 - val_accuracy: 0.9187\n",
      "Epoch 101/1000\n",
      "14/15 [===========================>..] - ETA: 0s - loss: 0.2239 - accuracy: 0.9330\n",
      "Epoch 101: saving model to model/point_history_classifier\\point_history_classifier.hdf5\n",
      "15/15 [==============================] - 1s 45ms/step - loss: 0.2221 - accuracy: 0.9338 - val_loss: 0.2397 - val_accuracy: 0.9366\n",
      "Epoch 102/1000\n",
      "15/15 [==============================] - ETA: 0s - loss: 0.2328 - accuracy: 0.9289\n",
      "Epoch 102: saving model to model/point_history_classifier\\point_history_classifier.hdf5\n",
      "15/15 [==============================] - 1s 46ms/step - loss: 0.2328 - accuracy: 0.9289 - val_loss: 0.2553 - val_accuracy: 0.9236\n",
      "Epoch 103/1000\n",
      "15/15 [==============================] - ETA: 0s - loss: 0.2282 - accuracy: 0.9338\n",
      "Epoch 103: saving model to model/point_history_classifier\\point_history_classifier.hdf5\n",
      "15/15 [==============================] - 1s 46ms/step - loss: 0.2282 - accuracy: 0.9338 - val_loss: 0.2725 - val_accuracy: 0.9203\n",
      "Epoch 104/1000\n",
      "14/15 [===========================>..] - ETA: 0s - loss: 0.2446 - accuracy: 0.9291\n",
      "Epoch 104: saving model to model/point_history_classifier\\point_history_classifier.hdf5\n",
      "15/15 [==============================] - 1s 44ms/step - loss: 0.2406 - accuracy: 0.9305 - val_loss: 0.2293 - val_accuracy: 0.9301\n",
      "Epoch 105/1000\n"
     ]
    },
    {
     "name": "stdout",
     "output_type": "stream",
     "text": [
      "15/15 [==============================] - ETA: 0s - loss: 0.2286 - accuracy: 0.9327\n",
      "Epoch 105: saving model to model/point_history_classifier\\point_history_classifier.hdf5\n",
      "15/15 [==============================] - 1s 45ms/step - loss: 0.2286 - accuracy: 0.9327 - val_loss: 0.2356 - val_accuracy: 0.9317\n",
      "Epoch 106/1000\n",
      "14/15 [===========================>..] - ETA: 0s - loss: 0.2286 - accuracy: 0.9314\n",
      "Epoch 106: saving model to model/point_history_classifier\\point_history_classifier.hdf5\n",
      "15/15 [==============================] - 1s 45ms/step - loss: 0.2236 - accuracy: 0.9332 - val_loss: 0.2547 - val_accuracy: 0.9154\n",
      "Epoch 107/1000\n",
      "15/15 [==============================] - ETA: 0s - loss: 0.2343 - accuracy: 0.9332\n",
      "Epoch 107: saving model to model/point_history_classifier\\point_history_classifier.hdf5\n",
      "15/15 [==============================] - 1s 44ms/step - loss: 0.2343 - accuracy: 0.9332 - val_loss: 0.2633 - val_accuracy: 0.9171\n",
      "Epoch 108/1000\n",
      "15/15 [==============================] - ETA: 0s - loss: 0.2371 - accuracy: 0.9311\n",
      "Epoch 108: saving model to model/point_history_classifier\\point_history_classifier.hdf5\n",
      "15/15 [==============================] - 1s 44ms/step - loss: 0.2371 - accuracy: 0.9311 - val_loss: 0.2399 - val_accuracy: 0.9333\n",
      "Epoch 109/1000\n",
      "15/15 [==============================] - ETA: 0s - loss: 0.2241 - accuracy: 0.9349\n",
      "Epoch 109: saving model to model/point_history_classifier\\point_history_classifier.hdf5\n",
      "15/15 [==============================] - 1s 46ms/step - loss: 0.2241 - accuracy: 0.9349 - val_loss: 0.2457 - val_accuracy: 0.9268\n",
      "Epoch 110/1000\n",
      "14/15 [===========================>..] - ETA: 0s - loss: 0.2336 - accuracy: 0.9353\n",
      "Epoch 110: saving model to model/point_history_classifier\\point_history_classifier.hdf5\n",
      "15/15 [==============================] - 1s 43ms/step - loss: 0.2324 - accuracy: 0.9359 - val_loss: 0.2261 - val_accuracy: 0.9285\n",
      "Epoch 111/1000\n",
      "13/15 [=========================>....] - ETA: 0s - loss: 0.2201 - accuracy: 0.9375\n",
      "Epoch 111: saving model to model/point_history_classifier\\point_history_classifier.hdf5\n",
      "15/15 [==============================] - 1s 45ms/step - loss: 0.2173 - accuracy: 0.9387 - val_loss: 0.2633 - val_accuracy: 0.9138\n",
      "Epoch 112/1000\n",
      "13/15 [=========================>....] - ETA: 0s - loss: 0.2307 - accuracy: 0.9327\n",
      "Epoch 112: saving model to model/point_history_classifier\\point_history_classifier.hdf5\n",
      "15/15 [==============================] - 1s 43ms/step - loss: 0.2392 - accuracy: 0.9300 - val_loss: 0.2757 - val_accuracy: 0.9122\n",
      "Epoch 113/1000\n",
      "15/15 [==============================] - ETA: 0s - loss: 0.2267 - accuracy: 0.9316\n",
      "Epoch 113: saving model to model/point_history_classifier\\point_history_classifier.hdf5\n",
      "15/15 [==============================] - 1s 43ms/step - loss: 0.2267 - accuracy: 0.9316 - val_loss: 0.2376 - val_accuracy: 0.9252\n",
      "Epoch 114/1000\n",
      "15/15 [==============================] - ETA: 0s - loss: 0.2266 - accuracy: 0.9321\n",
      "Epoch 114: saving model to model/point_history_classifier\\point_history_classifier.hdf5\n",
      "15/15 [==============================] - 1s 44ms/step - loss: 0.2266 - accuracy: 0.9321 - val_loss: 0.2482 - val_accuracy: 0.9171\n",
      "Epoch 115/1000\n",
      "14/15 [===========================>..] - ETA: 0s - loss: 0.2380 - accuracy: 0.9258\n",
      "Epoch 115: saving model to model/point_history_classifier\\point_history_classifier.hdf5\n",
      "15/15 [==============================] - 1s 44ms/step - loss: 0.2330 - accuracy: 0.9278 - val_loss: 0.2244 - val_accuracy: 0.9382\n",
      "Epoch 116/1000\n",
      "14/15 [===========================>..] - ETA: 0s - loss: 0.2131 - accuracy: 0.9358\n",
      "Epoch 116: saving model to model/point_history_classifier\\point_history_classifier.hdf5\n",
      "15/15 [==============================] - 1s 44ms/step - loss: 0.2131 - accuracy: 0.9354 - val_loss: 0.2373 - val_accuracy: 0.9220\n",
      "Epoch 117/1000\n",
      "15/15 [==============================] - ETA: 0s - loss: 0.2158 - accuracy: 0.9397\n",
      "Epoch 117: saving model to model/point_history_classifier\\point_history_classifier.hdf5\n",
      "15/15 [==============================] - 1s 48ms/step - loss: 0.2158 - accuracy: 0.9397 - val_loss: 0.2416 - val_accuracy: 0.9317\n",
      "Epoch 118/1000\n",
      "15/15 [==============================] - ETA: 0s - loss: 0.2093 - accuracy: 0.9430\n",
      "Epoch 118: saving model to model/point_history_classifier\\point_history_classifier.hdf5\n",
      "15/15 [==============================] - 1s 49ms/step - loss: 0.2093 - accuracy: 0.9430 - val_loss: 0.2492 - val_accuracy: 0.9301\n",
      "Epoch 119/1000\n",
      "15/15 [==============================] - ETA: 0s - loss: 0.2221 - accuracy: 0.9359\n",
      "Epoch 119: saving model to model/point_history_classifier\\point_history_classifier.hdf5\n",
      "15/15 [==============================] - 1s 46ms/step - loss: 0.2221 - accuracy: 0.9359 - val_loss: 0.2580 - val_accuracy: 0.9268\n",
      "Epoch 120/1000\n",
      "15/15 [==============================] - ETA: 0s - loss: 0.2187 - accuracy: 0.9365\n",
      "Epoch 120: saving model to model/point_history_classifier\\point_history_classifier.hdf5\n",
      "15/15 [==============================] - 1s 49ms/step - loss: 0.2187 - accuracy: 0.9365 - val_loss: 0.2241 - val_accuracy: 0.9301\n",
      "Epoch 121/1000\n",
      "14/15 [===========================>..] - ETA: 0s - loss: 0.2192 - accuracy: 0.9358\n",
      "Epoch 121: saving model to model/point_history_classifier\\point_history_classifier.hdf5\n",
      "15/15 [==============================] - 1s 52ms/step - loss: 0.2197 - accuracy: 0.9359 - val_loss: 0.2302 - val_accuracy: 0.9301\n",
      "Epoch 122/1000\n",
      "15/15 [==============================] - ETA: 0s - loss: 0.2105 - accuracy: 0.9387\n",
      "Epoch 122: saving model to model/point_history_classifier\\point_history_classifier.hdf5\n",
      "15/15 [==============================] - 1s 45ms/step - loss: 0.2105 - accuracy: 0.9387 - val_loss: 0.2690 - val_accuracy: 0.9187\n",
      "Epoch 123/1000\n",
      "15/15 [==============================] - ETA: 0s - loss: 0.2156 - accuracy: 0.9381\n",
      "Epoch 123: saving model to model/point_history_classifier\\point_history_classifier.hdf5\n",
      "15/15 [==============================] - 1s 45ms/step - loss: 0.2156 - accuracy: 0.9381 - val_loss: 0.2623 - val_accuracy: 0.9203\n",
      "Epoch 124/1000\n",
      "15/15 [==============================] - ETA: 0s - loss: 0.2341 - accuracy: 0.9300\n",
      "Epoch 124: saving model to model/point_history_classifier\\point_history_classifier.hdf5\n",
      "15/15 [==============================] - 1s 45ms/step - loss: 0.2341 - accuracy: 0.9300 - val_loss: 0.2330 - val_accuracy: 0.9285\n",
      "Epoch 125/1000\n",
      "13/15 [=========================>....] - ETA: 0s - loss: 0.2246 - accuracy: 0.9327\n",
      "Epoch 125: saving model to model/point_history_classifier\\point_history_classifier.hdf5\n",
      "15/15 [==============================] - 1s 45ms/step - loss: 0.2194 - accuracy: 0.9354 - val_loss: 0.2621 - val_accuracy: 0.9187\n",
      "Epoch 126/1000\n",
      "14/15 [===========================>..] - ETA: 0s - loss: 0.2130 - accuracy: 0.9403\n",
      "Epoch 126: saving model to model/point_history_classifier\\point_history_classifier.hdf5\n",
      "15/15 [==============================] - 1s 44ms/step - loss: 0.2165 - accuracy: 0.9392 - val_loss: 0.2132 - val_accuracy: 0.9415\n",
      "Epoch 127/1000\n",
      "15/15 [==============================] - ETA: 0s - loss: 0.2204 - accuracy: 0.9311\n",
      "Epoch 127: saving model to model/point_history_classifier\\point_history_classifier.hdf5\n",
      "15/15 [==============================] - 1s 47ms/step - loss: 0.2204 - accuracy: 0.9311 - val_loss: 0.2472 - val_accuracy: 0.9187\n",
      "Epoch 128/1000\n",
      "14/15 [===========================>..] - ETA: 0s - loss: 0.2261 - accuracy: 0.9330\n",
      "Epoch 128: saving model to model/point_history_classifier\\point_history_classifier.hdf5\n",
      "15/15 [==============================] - 1s 44ms/step - loss: 0.2239 - accuracy: 0.9332 - val_loss: 0.2254 - val_accuracy: 0.9301\n",
      "Epoch 129/1000\n",
      "13/15 [=========================>....] - ETA: 0s - loss: 0.2334 - accuracy: 0.9285\n",
      "Epoch 129: saving model to model/point_history_classifier\\point_history_classifier.hdf5\n",
      "15/15 [==============================] - 1s 46ms/step - loss: 0.2247 - accuracy: 0.9321 - val_loss: 0.2568 - val_accuracy: 0.9252\n",
      "Epoch 130/1000\n",
      "15/15 [==============================] - ETA: 0s - loss: 0.2138 - accuracy: 0.9365\n",
      "Epoch 130: saving model to model/point_history_classifier\\point_history_classifier.hdf5\n",
      "15/15 [==============================] - 1s 44ms/step - loss: 0.2138 - accuracy: 0.9365 - val_loss: 0.2355 - val_accuracy: 0.9268\n"
     ]
    },
    {
     "name": "stdout",
     "output_type": "stream",
     "text": [
      "Epoch 131/1000\n",
      "13/15 [=========================>....] - ETA: 0s - loss: 0.2119 - accuracy: 0.9399\n",
      "Epoch 131: saving model to model/point_history_classifier\\point_history_classifier.hdf5\n",
      "15/15 [==============================] - 1s 43ms/step - loss: 0.2147 - accuracy: 0.9387 - val_loss: 0.2518 - val_accuracy: 0.9268\n",
      "Epoch 132/1000\n",
      "15/15 [==============================] - ETA: 0s - loss: 0.2184 - accuracy: 0.9327\n",
      "Epoch 132: saving model to model/point_history_classifier\\point_history_classifier.hdf5\n",
      "15/15 [==============================] - 1s 45ms/step - loss: 0.2184 - accuracy: 0.9327 - val_loss: 0.2257 - val_accuracy: 0.9333\n",
      "Epoch 133/1000\n",
      "14/15 [===========================>..] - ETA: 0s - loss: 0.2095 - accuracy: 0.9375\n",
      "Epoch 133: saving model to model/point_history_classifier\\point_history_classifier.hdf5\n",
      "15/15 [==============================] - 1s 44ms/step - loss: 0.2080 - accuracy: 0.9376 - val_loss: 0.2240 - val_accuracy: 0.9366\n",
      "Epoch 134/1000\n",
      "13/15 [=========================>....] - ETA: 0s - loss: 0.2181 - accuracy: 0.9381\n",
      "Epoch 134: saving model to model/point_history_classifier\\point_history_classifier.hdf5\n",
      "15/15 [==============================] - 1s 44ms/step - loss: 0.2246 - accuracy: 0.9354 - val_loss: 0.2270 - val_accuracy: 0.9268\n",
      "Epoch 135/1000\n",
      "14/15 [===========================>..] - ETA: 0s - loss: 0.2081 - accuracy: 0.9442\n",
      "Epoch 135: saving model to model/point_history_classifier\\point_history_classifier.hdf5\n",
      "15/15 [==============================] - 1s 43ms/step - loss: 0.2097 - accuracy: 0.9430 - val_loss: 0.2294 - val_accuracy: 0.9350\n",
      "Epoch 136/1000\n",
      "13/15 [=========================>....] - ETA: 0s - loss: 0.2341 - accuracy: 0.9339\n",
      "Epoch 136: saving model to model/point_history_classifier\\point_history_classifier.hdf5\n",
      "15/15 [==============================] - 1s 44ms/step - loss: 0.2292 - accuracy: 0.9349 - val_loss: 0.2327 - val_accuracy: 0.9252\n",
      "Epoch 137/1000\n",
      "15/15 [==============================] - ETA: 0s - loss: 0.2137 - accuracy: 0.9403\n",
      "Epoch 137: saving model to model/point_history_classifier\\point_history_classifier.hdf5\n",
      "15/15 [==============================] - 1s 43ms/step - loss: 0.2137 - accuracy: 0.9403 - val_loss: 0.2609 - val_accuracy: 0.9138\n",
      "Epoch 138/1000\n",
      "15/15 [==============================] - ETA: 0s - loss: 0.2197 - accuracy: 0.9381\n",
      "Epoch 138: saving model to model/point_history_classifier\\point_history_classifier.hdf5\n",
      "15/15 [==============================] - 1s 45ms/step - loss: 0.2197 - accuracy: 0.9381 - val_loss: 0.2320 - val_accuracy: 0.9366\n",
      "Epoch 139/1000\n",
      "15/15 [==============================] - ETA: 0s - loss: 0.2148 - accuracy: 0.9370\n",
      "Epoch 139: saving model to model/point_history_classifier\\point_history_classifier.hdf5\n",
      "15/15 [==============================] - 1s 45ms/step - loss: 0.2148 - accuracy: 0.9370 - val_loss: 0.2465 - val_accuracy: 0.9285\n",
      "Epoch 140/1000\n",
      "14/15 [===========================>..] - ETA: 0s - loss: 0.2098 - accuracy: 0.9436\n",
      "Epoch 140: saving model to model/point_history_classifier\\point_history_classifier.hdf5\n",
      "15/15 [==============================] - 1s 42ms/step - loss: 0.2079 - accuracy: 0.9446 - val_loss: 0.2372 - val_accuracy: 0.9268\n",
      "Epoch 141/1000\n",
      "15/15 [==============================] - ETA: 0s - loss: 0.2103 - accuracy: 0.9408\n",
      "Epoch 141: saving model to model/point_history_classifier\\point_history_classifier.hdf5\n",
      "15/15 [==============================] - 1s 49ms/step - loss: 0.2103 - accuracy: 0.9408 - val_loss: 0.2485 - val_accuracy: 0.9301\n",
      "Epoch 142/1000\n",
      "14/15 [===========================>..] - ETA: 0s - loss: 0.2141 - accuracy: 0.9358\n",
      "Epoch 142: saving model to model/point_history_classifier\\point_history_classifier.hdf5\n",
      "15/15 [==============================] - 1s 48ms/step - loss: 0.2103 - accuracy: 0.9376 - val_loss: 0.2231 - val_accuracy: 0.9301\n",
      "Epoch 143/1000\n",
      "15/15 [==============================] - ETA: 0s - loss: 0.2104 - accuracy: 0.9376\n",
      "Epoch 143: saving model to model/point_history_classifier\\point_history_classifier.hdf5\n",
      "15/15 [==============================] - 1s 47ms/step - loss: 0.2104 - accuracy: 0.9376 - val_loss: 0.2216 - val_accuracy: 0.9333\n",
      "Epoch 144/1000\n",
      "15/15 [==============================] - ETA: 0s - loss: 0.2110 - accuracy: 0.9403\n",
      "Epoch 144: saving model to model/point_history_classifier\\point_history_classifier.hdf5\n",
      "15/15 [==============================] - 1s 50ms/step - loss: 0.2110 - accuracy: 0.9403 - val_loss: 0.2253 - val_accuracy: 0.9285\n",
      "Epoch 145/1000\n",
      "15/15 [==============================] - ETA: 0s - loss: 0.2108 - accuracy: 0.9381\n",
      "Epoch 145: saving model to model/point_history_classifier\\point_history_classifier.hdf5\n",
      "15/15 [==============================] - 1s 51ms/step - loss: 0.2108 - accuracy: 0.9381 - val_loss: 0.2396 - val_accuracy: 0.9236\n",
      "Epoch 146/1000\n",
      "15/15 [==============================] - ETA: 0s - loss: 0.2201 - accuracy: 0.9376\n",
      "Epoch 146: saving model to model/point_history_classifier\\point_history_classifier.hdf5\n",
      "15/15 [==============================] - 1s 45ms/step - loss: 0.2201 - accuracy: 0.9376 - val_loss: 0.2307 - val_accuracy: 0.9301\n",
      "Epoch 146: early stopping\n"
     ]
    },
    {
     "data": {
      "text/plain": [
       "<keras.callbacks.History at 0x27cc5bb0fa0>"
      ]
     },
     "execution_count": 12,
     "metadata": {},
     "output_type": "execute_result"
    }
   ],
   "source": [
    "model.fit(\n",
    "    X_train,\n",
    "    y_train,\n",
    "    epochs=1000,\n",
    "    batch_size=128,\n",
    "    validation_data=(X_test, y_test),\n",
    "    callbacks=[cp_callback, es_callback]\n",
    ")"
   ]
  },
  {
   "cell_type": "code",
   "execution_count": 13,
   "metadata": {
    "pycharm": {
     "name": "#%%\n"
    }
   },
   "outputs": [],
   "source": [
    "model = tf.keras.models.load_model(model_save_path)"
   ]
  },
  {
   "cell_type": "code",
   "execution_count": 14,
   "metadata": {
    "pycharm": {
     "name": "#%%\n"
    }
   },
   "outputs": [
    {
     "name": "stdout",
     "output_type": "stream",
     "text": [
      "1/1 [==============================] - 2s 2s/step\n",
      "[9.2678201e-01 6.4145698e-04 3.7245627e-04 7.2204083e-02]\n",
      "0\n"
     ]
    }
   ],
   "source": [
    "predict_result = model.predict(np.array([X_test[0]]))\n",
    "print(np.squeeze(predict_result))\n",
    "print(np.argmax(np.squeeze(predict_result)))"
   ]
  },
  {
   "cell_type": "markdown",
   "metadata": {
    "pycharm": {
     "name": "#%% md\n"
    }
   },
   "source": [
    "# Confusion matrix"
   ]
  },
  {
   "cell_type": "code",
   "execution_count": 15,
   "metadata": {
    "pycharm": {
     "name": "#%%\n"
    }
   },
   "outputs": [
    {
     "name": "stdout",
     "output_type": "stream",
     "text": [
      "20/20 [==============================] - 0s 8ms/step\n"
     ]
    },
    {
     "data": {
      "image/png": "[encoded data removed]",
      "text/plain": [
       "<Figure size 504x432 with 2 Axes>"
      ]
     },
     "metadata": {
      "needs_background": "light"
     },
     "output_type": "display_data"
    },
    {
     "name": "stdout",
     "output_type": "stream",
     "text": [
      "Classification Report\n",
      "              precision    recall  f1-score   support\n",
      "\n",
      "           0       0.94      1.00      0.97       370\n",
      "           1       0.91      0.93      0.92       107\n",
      "           2       0.97      0.88      0.93        86\n",
      "           3       0.76      0.50      0.60        52\n",
      "\n",
      "    accuracy                           0.93       615\n",
      "   macro avg       0.90      0.83      0.86       615\n",
      "weighted avg       0.93      0.93      0.92       615\n",
      "\n"
     ]
    }
   ],
   "source": [
    "import pandas as pd\n",
    "import seaborn as sns\n",
    "import matplotlib.pyplot as plt\n",
    "from sklearn.metrics import confusion_matrix, classification_report\n",
    "\n",
    "def print_confusion_matrix(y_true, y_pred, report=True):\n",
    "    labels = sorted(list(set(y_true)))\n",
    "    cmx_data = confusion_matrix(y_true, y_pred, labels=labels)\n",
    "    \n",
    "    df_cmx = pd.DataFrame(cmx_data, index=labels, columns=labels)\n",
    " \n",
    "    fig, ax = plt.subplots(figsize=(7, 6))\n",
    "    sns.heatmap(df_cmx, annot=True, fmt='g' ,square=False)\n",
    "    ax.set_ylim(len(set(y_true)), 0)\n",
    "    plt.show()\n",
    "    \n",
    "    if report:\n",
    "        print('Classification Report')\n",
    "        print(classification_report(y_test, y_pred))\n",
    "\n",
    "Y_pred = model.predict(X_test)\n",
    "y_pred = np.argmax(Y_pred, axis=1)\n",
    "\n",
    "print_confusion_matrix(y_test, y_pred)"
   ]
  },
  {
   "cell_type": "markdown",
   "metadata": {
    "pycharm": {
     "name": "#%% md\n"
    }
   },
   "source": [
    "# Convert model so it fits in a .tflite"
   ]
  },
  {
   "cell_type": "code",
   "execution_count": 16,
   "metadata": {
    "pycharm": {
     "name": "#%%\n"
    }
   },
   "outputs": [
    {
     "name": "stdout",
     "output_type": "stream",
     "text": [
      "WARNING:tensorflow:No training configuration found in the save file, so the model was *not* compiled. Compile it manually.\n"
     ]
    }
   ],
   "source": [
    "model.save(model_save_path, include_optimizer=False)\n",
    "model = tf.keras.models.load_model(model_save_path)"
   ]
  },
  {
   "cell_type": "code",
   "execution_count": 17,
   "metadata": {
    "pycharm": {
     "name": "#%%\n"
    }
   },
   "outputs": [],
   "source": [
    "tflite_save_path = 'model/point_history_classifier/point_history_classifier.tflite'"
   ]
  },
  {
   "cell_type": "code",
   "execution_count": 18,
   "metadata": {
    "pycharm": {
     "name": "#%%\n"
    }
   },
   "outputs": [
    {
     "name": "stderr",
     "output_type": "stream",
     "text": [
      "WARNING:absl:Found untraced functions such as lstm_cell_6_layer_call_fn, lstm_cell_6_layer_call_and_return_conditional_losses while saving (showing 2 of 2). These functions will not be directly callable after loading.\n"
     ]
    },
    {
     "name": "stdout",
     "output_type": "stream",
     "text": [
      "INFO:tensorflow:Assets written to: C:\\Users\\HP\\AppData\\Local\\Temp\\tmp8wlwxmyj\\assets\n"
     ]
    },
    {
     "name": "stderr",
     "output_type": "stream",
     "text": [
      "INFO:tensorflow:Assets written to: C:\\Users\\HP\\AppData\\Local\\Temp\\tmp8wlwxmyj\\assets\n"
     ]
    },
    {
     "data": {
      "text/plain": [
       "41712"
      ]
     },
     "execution_count": 18,
     "metadata": {},
     "output_type": "execute_result"
    }
   ],
   "source": [
    "from tensorflow import lite\n",
    "\n",
    "converter = tf.lite.TFLiteConverter.from_keras_model(model)\n",
    "# converter = tf.lite.TFLiteConverter.from_saved_model(saved_model_path)\n",
    "converter.optimizations = [tf.lite.Optimize.DEFAULT]\n",
    "\n",
    "converter.experimental_new_converter=True\n",
    "converter.target_spec.supported_ops = [tf.lite.OpsSet.TFLITE_BUILTINS,\n",
    "tf.lite.OpsSet.SELECT_TF_OPS]\n",
    "\n",
    "tflite_quantized_model = converter.convert()\n",
    "\n",
    "open(tflite_save_path, 'wb').write(tflite_quantized_model)"
   ]
  },
  {
   "cell_type": "markdown",
   "metadata": {
    "pycharm": {
     "name": "#%% md\n"
    }
   },
   "source": [
    "# Interference test"
   ]
  },
  {
   "cell_type": "code",
   "execution_count": 19,
   "metadata": {
    "pycharm": {
     "name": "#%%\n"
    }
   },
   "outputs": [],
   "source": [
    "interpreter = tf.lite.Interpreter(model_path=tflite_save_path)\n",
    "interpreter.allocate_tensors()"
   ]
  },
  {
   "cell_type": "code",
   "execution_count": 20,
   "metadata": {
    "pycharm": {
     "name": "#%%\n"
    }
   },
   "outputs": [
    {
     "name": "stdout",
     "output_type": "stream",
     "text": [
      "[{'name': 'serving_default_input_1:0', 'index': 0, 'shape': array([ 1, 32]), 'shape_signature': array([-1, 32]), 'dtype': <class 'numpy.float32'>, 'quantization': (0.0, 0), 'quantization_parameters': {'scales': array([], dtype=float32), 'zero_points': array([], dtype=int32), 'quantized_dimension': 0}, 'sparsity_parameters': {}}]\n"
     ]
    }
   ],
   "source": [
    "input_details = interpreter.get_input_details()\n",
    "output_details = interpreter.get_output_details()\n",
    "print(input_details)"
   ]
  },
  {
   "cell_type": "code",
   "execution_count": 21,
   "metadata": {
    "pycharm": {
     "name": "#%%\n"
    }
   },
   "outputs": [],
   "source": [
    "interpreter.set_tensor(input_details[0]['index'], np.array([X_test[0]]))"
   ]
  },
  {
   "cell_type": "code",
   "execution_count": 22,
   "metadata": {
    "pycharm": {
     "name": "#%%\n"
    }
   },
   "outputs": [
    {
     "name": "stdout",
     "output_type": "stream",
     "text": [
      "Wall time: 8 ms\n"
     ]
    }
   ],
   "source": [
    "%%time\n",
    "interpreter.invoke()\n",
    "tflite_results = interpreter.get_tensor(output_details[0]['index'])"
   ]
  },
  {
   "cell_type": "code",
   "execution_count": 23,
   "metadata": {
    "pycharm": {
     "name": "#%%\n"
    }
   },
   "outputs": [
    {
     "name": "stdout",
     "output_type": "stream",
     "text": [
      "[9.2413223e-01 7.0696813e-04 4.2156139e-04 7.4739151e-02]\n",
      "0\n"
     ]
    }
   ],
   "source": [
    "print(np.squeeze(tflite_results))\n",
    "print(np.argmax(np.squeeze(tflite_results)))"
   ]
  }
 ],
 "metadata": {
  "kernelspec": {
   "display_name": "Python 3 (ipykernel)",
   "language": "python",
   "name": "python3"
  },
  "language_info": {
   "codemirror_mode": {
    "name": "ipython",
    "version": 3
   },
   "file_extension": ".py",
   "mimetype": "text/x-python",
   "name": "python",
   "nbconvert_exporter": "python",
   "pygments_lexer": "ipython3",
   "version": "3.9.7"
  },
  "vscode": {
   "interpreter": {
    "hash": "5040463ed2cdb9e18d0cfe44e1d6a48dee40c633abe7ecd60234d8285d518690"
   }
  }
 },
 "nbformat": 4,
 "nbformat_minor": 4
}